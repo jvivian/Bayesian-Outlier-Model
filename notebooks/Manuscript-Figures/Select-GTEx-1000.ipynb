{
 "cells": [
  {
   "cell_type": "markdown",
   "metadata": {},
   "source": [
    "# Select GTEx-1000 Set"
   ]
  },
  {
   "cell_type": "code",
   "execution_count": 35,
   "metadata": {},
   "outputs": [],
   "source": [
    "import pandas as pd\n",
    "import os\n",
    "from gene_outlier_detection.lib import anova_distances\n",
    "from collections import defaultdict\n",
    "import shutil"
   ]
  },
  {
   "cell_type": "code",
   "execution_count": 2,
   "metadata": {},
   "outputs": [],
   "source": [
    "tumor = pd.read_hdf('/mnt/data/outlier/tumor.hd5')\n",
    "gtex = pd.read_hdf('/mnt/data/outlier/gtex.hd5')\n",
    "genes = tumor.columns[5:]"
   ]
  },
  {
   "cell_type": "code",
   "execution_count": 169,
   "metadata": {},
   "outputs": [
    {
     "data": {
      "text/html": [
       "<div>\n",
       "<style scoped>\n",
       "    .dataframe tbody tr th:only-of-type {\n",
       "        vertical-align: middle;\n",
       "    }\n",
       "\n",
       "    .dataframe tbody tr th {\n",
       "        vertical-align: top;\n",
       "    }\n",
       "\n",
       "    .dataframe thead th {\n",
       "        text-align: right;\n",
       "    }\n",
       "</style>\n",
       "<table border=\"1\" class=\"dataframe\">\n",
       "  <thead>\n",
       "    <tr style=\"text-align: right;\">\n",
       "      <th></th>\n",
       "      <th>tissue</th>\n",
       "      <th>subtype</th>\n",
       "      <th>Counts</th>\n",
       "    </tr>\n",
       "    <tr>\n",
       "      <th>subtype</th>\n",
       "      <th></th>\n",
       "      <th></th>\n",
       "      <th></th>\n",
       "    </tr>\n",
       "  </thead>\n",
       "  <tbody>\n",
       "    <tr>\n",
       "      <th>Pheochromocytoma_and_Paraganglioma</th>\n",
       "      <td>Adrenal</td>\n",
       "      <td>Pheochromocytoma_and_Paraganglioma</td>\n",
       "      <td>177</td>\n",
       "    </tr>\n",
       "    <tr>\n",
       "      <th>Adrenocortical_Carcinoma</th>\n",
       "      <td>Adrenal</td>\n",
       "      <td>Adrenocortical_Carcinoma</td>\n",
       "      <td>77</td>\n",
       "    </tr>\n",
       "  </tbody>\n",
       "</table>\n",
       "</div>"
      ],
      "text/plain": [
       "                                     tissue                             subtype  Counts\n",
       "subtype                                                                                \n",
       "Pheochromocytoma_and_Paraganglioma  Adrenal  Pheochromocytoma_and_Paraganglioma     177\n",
       "Adrenocortical_Carcinoma            Adrenal            Adrenocortical_Carcinoma      77"
      ]
     },
     "execution_count": 169,
     "metadata": {},
     "output_type": "execute_result"
    }
   ],
   "source": [
    "counts = tumor.groupby('tissue')['subtype'].value_counts().reset_index(name='Counts')\n",
    "counts.index = counts.subtype\n",
    "counts.head(2)"
   ]
  },
  {
   "cell_type": "code",
   "execution_count": 170,
   "metadata": {},
   "outputs": [
    {
     "data": {
      "text/plain": [
       "976"
      ]
     },
     "execution_count": 170,
     "metadata": {},
     "output_type": "execute_result"
    }
   ],
   "source": [
    "out_dir = '/mnt/normsd-outlier-runs/gtex-1000/'\n",
    "old_samples = os.listdir(out_dir)\n",
    "len(old_samples)"
   ]
  },
  {
   "cell_type": "markdown",
   "metadata": {},
   "source": [
    "For each tissue select one subtype and remove samples that didn't match to the correct weight"
   ]
  },
  {
   "cell_type": "code",
   "execution_count": 173,
   "metadata": {},
   "outputs": [],
   "source": [
    "run_dir = '/mnt/normsd-outlier-runs/gtex-1000/'\n",
    "new_samples = []\n",
    "tissues = tumor['tissue']\n",
    "subtypes = tumor['subtype']\n",
    "subtypes_to_remove =[\n",
    "    'Pheochromocytoma_and_Paraganglioma',\n",
    "    'Glioblastoma_Multiforme',\n",
    "    'Lung_Squamous_Cell_Carcinoma',\n",
    "    'Kidney_Renal_Papillary_Cell_Carcinoma',\n",
    "    'Kidney_Chromophobe',\n",
    "]\n",
    "\n",
    "for sample in old_samples:\n",
    "    tissue = tissues.loc[sample]\n",
    "    subtype = subtypes.loc[sample]\n",
    "    if subtype in subtypes_to_remove:\n",
    "        continue\n",
    "    #weight_path = os.path.join(out_dir, sample, 'weights.tsv')\n",
    "    #w = pd.read_csv(weight_path, sep='\\t', index_col=0)\n",
    "    #if tissue not in w.index:\n",
    "    #    continue\n",
    "    new_samples.append([sample, tissue, subtype])\n",
    "new_samples = pd.DataFrame(new_samples, columns=['sample', 'tissue', 'subtype'])"
   ]
  },
  {
   "cell_type": "markdown",
   "metadata": {},
   "source": [
    "Fill out gaps"
   ]
  },
  {
   "cell_type": "code",
   "execution_count": 174,
   "metadata": {},
   "outputs": [
    {
     "data": {
      "text/plain": [
       "Breast      100\n",
       "Liver       100\n",
       "Prostate    100\n",
       "Stomach     100\n",
       "Bladder     100\n",
       "Lung        100\n",
       "Brain       100\n",
       "Thyroid     100\n",
       "Kidney       99\n",
       "Adrenal      77\n",
       "Name: tissue, dtype: int64"
      ]
     },
     "execution_count": 174,
     "metadata": {},
     "output_type": "execute_result"
    }
   ],
   "source": [
    "new_samples['tissue'].value_counts()"
   ]
  },
  {
   "cell_type": "code",
   "execution_count": 175,
   "metadata": {},
   "outputs": [],
   "source": [
    "reqs = [\n",
    "    ('Stomach', 'Stomach_Adenocarcinoma', 2),\n",
    "    ('Breast', 'Breast_Invasive_Carcinoma', 7),\n",
    "    ('Brain', 'Brain_Lower_Grade_Glioma', 11),\n",
    "    ('Bladder', 'Bladder_Urothelial_Carcinoma', 21),\n",
    "    ('Lung', 'Lung_Adenocarcinoma', 26),\n",
    "    ('Kidney','Kidney_Renal_Clear_Cell_Carcinoma', 51),\n",
    "]\n",
    "\n",
    "reqs = [('Kidney', 'Kidney_Renal_Clear_Cell_Carcinoma', 1)]"
   ]
  },
  {
   "cell_type": "code",
   "execution_count": 177,
   "metadata": {},
   "outputs": [
    {
     "name": "stdout",
     "output_type": "stream",
     "text": [
      "== Kidney ==\n",
      "Ranking background datasets by tissue via ANOVA\n",
      "Ranking background datasets by tissue via ANOVA\n",
      "Ranking background datasets by tissue via ANOVA\n",
      "Added TCGA-B8-5159-01 - 1\n"
     ]
    }
   ],
   "source": [
    "added_samples = defaultdict(list)\n",
    "for tissue, subtype, n in reqs:\n",
    "    print(f'== {tissue} ==')\n",
    "    samples = tumor[tumor.subtype == subtype]['id']\n",
    "    samples = [x for x in samples if x not in old_samples]\n",
    "    for i, sample_id in enumerate(samples):\n",
    "        sample = tumor.loc[sample_id]\n",
    "        dist = anova_distances(sample, gtex, genes)\n",
    "        if tissue in list(dist.head(3).Group):\n",
    "            added_samples[tissue].append(sample_id)\n",
    "            print(f'Added {sample_id} - {len(added_samples[tissue])}')\n",
    "            if len(added_samples[tissue]) == n or counts.loc[subtype].Counts == i:\n",
    "                break"
   ]
  },
  {
   "cell_type": "markdown",
   "metadata": {},
   "source": [
    "Add all Adrenal since there are fewer than 100 Adrenocortical carcinomas"
   ]
  },
  {
   "cell_type": "code",
   "execution_count": 21,
   "metadata": {},
   "outputs": [],
   "source": [
    "new_adrenal = list(tumor[tumor.subtype == 'Adrenocortical_Carcinoma']['id'])\n",
    "new_adrenal = [x for x in new_adrenal if x not in old_samples]"
   ]
  },
  {
   "cell_type": "code",
   "execution_count": 22,
   "metadata": {},
   "outputs": [],
   "source": [
    "added_samples['Adrenal'] = new_adrenal"
   ]
  },
  {
   "cell_type": "markdown",
   "metadata": {},
   "source": [
    "## Make manifest for GTEx-1000"
   ]
  },
  {
   "cell_type": "code",
   "execution_count": 24,
   "metadata": {},
   "outputs": [],
   "source": [
    "manifest_samples = []\n",
    "for k, v in added_samples.items():\n",
    "    for sample in v:\n",
    "        manifest_samples.append(sample)\n",
    "len(manifest_samples)"
   ]
  },
  {
   "cell_type": "code",
   "execution_count": 26,
   "metadata": {},
   "outputs": [],
   "source": [
    "out_dir = '/mnt/data/outlier/gtex-1000'\n",
    "with open(os.path.join(out_dir, 'added_samples_manifest.txt'), 'w') as f:\n",
    "    for sample in manifest_samples:\n",
    "        f.write(f'{sample}\\n')"
   ]
  },
  {
   "cell_type": "markdown",
   "metadata": {},
   "source": [
    "Complete manifest for reference"
   ]
  },
  {
   "cell_type": "code",
   "execution_count": null,
   "metadata": {},
   "outputs": [],
   "source": [
    "len(total)"
   ]
  },
  {
   "cell_type": "code",
   "execution_count": 33,
   "metadata": {},
   "outputs": [],
   "source": [
    "total = list(new_samples['sample']) + manifest_samples\n",
    "with open(os.path.join(out_dir, 'manifest.txt'), 'w') as f:\n",
    "    for sample in total:\n",
    "        f.write(f'{sample}\\n')"
   ]
  },
  {
   "cell_type": "markdown",
   "metadata": {},
   "source": [
    "## Manifest for GTEx-1000-Match-Remove"
   ]
  },
  {
   "cell_type": "code",
   "execution_count": 34,
   "metadata": {},
   "outputs": [],
   "source": [
    "with open(os.path.join(out_dir, 'added-mr-manifest.tsv'), 'w') as f:\n",
    "    f.write('sample\\tbackground\\n')\n",
    "    for sample in manifest_samples:\n",
    "        tissue = tissues.loc[sample]\n",
    "        f.write(f'{sample}\\t/mnt/inputs/gtex-{tissue}-removed.hd5\\n')"
   ]
  },
  {
   "cell_type": "markdown",
   "metadata": {},
   "source": [
    "## Move old samples"
   ]
  },
  {
   "cell_type": "markdown",
   "metadata": {},
   "source": [
    "### GTEx-1000"
   ]
  },
  {
   "cell_type": "code",
   "execution_count": 36,
   "metadata": {},
   "outputs": [],
   "source": [
    "samples_to_move = []\n",
    "for sample in os.listdir('/mnt/normsd-outlier-runs/gtex-1000/'):\n",
    "    if sample not in total:\n",
    "        samples_to_move.append(sample)"
   ]
  },
  {
   "cell_type": "code",
   "execution_count": 59,
   "metadata": {},
   "outputs": [],
   "source": [
    "for sample in samples_to_move:\n",
    "    shutil.move(\n",
    "        os.path.join('/mnt/normsd-outlier-runs/gtex-1000/', sample),\n",
    "        os.path.join('/mnt/normsd-outlier-runs/OLD-GTEX-1000')\n",
    "    )"
   ]
  },
  {
   "cell_type": "markdown",
   "metadata": {},
   "source": [
    "### GTEx-1000-Match-Remove"
   ]
  },
  {
   "cell_type": "code",
   "execution_count": 77,
   "metadata": {},
   "outputs": [],
   "source": [
    "for sample in samples_to_move:\n",
    "    shutil.move(\n",
    "        os.path.join('/mnt/normsd-outlier-runs/gtex-1000-match-removed/', sample),\n",
    "        os.path.join('/mnt/normsd-outlier-runs/OLD-GTEX-1000-MATCH-REMOVED/')\n",
    "    )"
   ]
  },
  {
   "cell_type": "markdown",
   "metadata": {},
   "source": [
    "## Count samples with matches to Minor Salivary Gland\n",
    "Minor salivary gland clusters near a bunch of phenotypically different tissues and is probably best removed from the background dataset"
   ]
  },
  {
   "cell_type": "code",
   "execution_count": 163,
   "metadata": {},
   "outputs": [],
   "source": [
    "out_dir = '/mnt/normsd-outlier-runs/gtex-1000/'\n",
    "minor_samples = []\n",
    "samples = os.listdir(out_dir)\n",
    "for sample in samples:\n",
    "    tissue = tissues.loc[sample]\n",
    "    w_path = os.path.join(out_dir, sample, 'weights.tsv')\n",
    "    w = pd.read_csv(w_path, sep='\\t', index_col=0)\n",
    "    if 'Minor' in w.index:\n",
    "        minor_samples.append([sample, w.loc['Minor'].Median, tissue])\n",
    "\n",
    "columns = ['Sample', 'Minor_median', 'tissue']\n",
    "minor_samples = pd.DataFrame(minor_samples, columns=columns)"
   ]
  },
  {
   "cell_type": "code",
   "execution_count": 164,
   "metadata": {},
   "outputs": [
    {
     "data": {
      "text/plain": [
       "<matplotlib.axes._subplots.AxesSubplot at 0x7fa2c932b208>"
      ]
     },
     "execution_count": 164,
     "metadata": {},
     "output_type": "execute_result"
    },
    {
     "data": {
      "image/png": "[encoded data removed]",
      "text/plain": [
       "<Figure size 432x288 with 1 Axes>"
      ]
     },
     "metadata": {},
     "output_type": "display_data"
    }
   ],
   "source": [
    "sns.boxplot(data=minor_samples, x='tissue', y='Minor_median')"
   ]
  },
  {
   "cell_type": "code",
   "execution_count": 165,
   "metadata": {},
   "outputs": [
    {
     "data": {
      "image/png": "[encoded data removed]",
      "text/plain": [
       "<Figure size 864x288 with 1 Axes>"
      ]
     },
     "metadata": {},
     "output_type": "display_data"
    }
   ],
   "source": [
    "plt.figure(figsize=(12, 4))\n",
    "plt.hist(minor_samples.Minor_median, bins=50);\n",
    "plt.xticks(np.arange(0, 1.05, 0.05));"
   ]
  },
  {
   "cell_type": "code",
   "execution_count": 178,
   "metadata": {},
   "outputs": [],
   "source": [
    "cutoff = 0.0\n",
    "cut = minor_samples[minor_samples.Minor_median > cutoff]"
   ]
  },
  {
   "cell_type": "code",
   "execution_count": 179,
   "metadata": {},
   "outputs": [
    {
     "data": {
      "text/plain": [
       "Bladder     96\n",
       "Lung        94\n",
       "Prostate    92\n",
       "Stomach     88\n",
       "Breast      86\n",
       "Thyroid     38\n",
       "Kidney      29\n",
       "Adrenal      1\n",
       "Liver        1\n",
       "Name: tissue, dtype: int64"
      ]
     },
     "execution_count": 179,
     "metadata": {},
     "output_type": "execute_result"
    }
   ],
   "source": [
    "cut['tissue'].value_counts()"
   ]
  },
  {
   "cell_type": "code",
   "execution_count": 180,
   "metadata": {},
   "outputs": [
    {
     "data": {
      "text/plain": [
       "525"
      ]
     },
     "execution_count": 180,
     "metadata": {},
     "output_type": "execute_result"
    }
   ],
   "source": [
    "cut['tissue'].value_counts().sum()"
   ]
  },
  {
   "cell_type": "code",
   "execution_count": 162,
   "metadata": {},
   "outputs": [],
   "source": [
    "manifest_out = '/mnt/data/outlier/gtex-1000/minor-remove-manifest.txt'\n",
    "with open(manifest_out, 'w') as f:\n",
    "    f.write('\\n'.join(cut.Sample))"
   ]
  },
  {
   "cell_type": "markdown",
   "metadata": {},
   "source": [
    "## Move minor-matched samples"
   ]
  },
  {
   "cell_type": "code",
   "execution_count": null,
   "metadata": {},
   "outputs": [],
   "source": [
    "samples_to_move = list(cut.Sample)\n",
    "for sample in samples_to_move:\n",
    "    shutil.move(\n",
    "        f'/mnt/normsd-outlier-runs/gtex-1000/{sample}',\n",
    "        '/mnt/normsd-outlier-runs/OLD-MINOR-REMOVED'\n",
    "    )"
   ]
  },
  {
   "cell_type": "markdown",
   "metadata": {},
   "source": [
    "# Compare PCA dist vs just dist"
   ]
  },
  {
   "cell_type": "code",
   "execution_count": 49,
   "metadata": {},
   "outputs": [],
   "source": [
    "from sklearn.metrics import pairwise_distances\n",
    "from gene_outlier_detection.lib import select_k_best_genes\n",
    "import numpy as np"
   ]
  },
  {
   "cell_type": "code",
   "execution_count": 182,
   "metadata": {},
   "outputs": [],
   "source": [
    "sample_id = 'TCGA-5N-A9KI-01'\n",
    "sample = tumor.loc[sample_id]"
   ]
  },
  {
   "cell_type": "code",
   "execution_count": 183,
   "metadata": {},
   "outputs": [
    {
     "data": {
      "text/html": [
       "<div>\n",
       "<style scoped>\n",
       "    .dataframe tbody tr th:only-of-type {\n",
       "        vertical-align: middle;\n",
       "    }\n",
       "\n",
       "    .dataframe tbody tr th {\n",
       "        vertical-align: top;\n",
       "    }\n",
       "\n",
       "    .dataframe thead th {\n",
       "        text-align: right;\n",
       "    }\n",
       "</style>\n",
       "<table border=\"1\" class=\"dataframe\">\n",
       "  <thead>\n",
       "    <tr style=\"text-align: right;\">\n",
       "      <th></th>\n",
       "      <th>Group</th>\n",
       "      <th>MedianDistance</th>\n",
       "    </tr>\n",
       "  </thead>\n",
       "  <tbody>\n",
       "    <tr>\n",
       "      <th>0</th>\n",
       "      <td>Minor</td>\n",
       "      <td>202.559630</td>\n",
       "    </tr>\n",
       "    <tr>\n",
       "      <th>1</th>\n",
       "      <td>Bladder</td>\n",
       "      <td>208.801398</td>\n",
       "    </tr>\n",
       "    <tr>\n",
       "      <th>2</th>\n",
       "      <td>Stomach</td>\n",
       "      <td>215.904772</td>\n",
       "    </tr>\n",
       "    <tr>\n",
       "      <th>3</th>\n",
       "      <td>Vagina</td>\n",
       "      <td>217.465664</td>\n",
       "    </tr>\n",
       "    <tr>\n",
       "      <th>4</th>\n",
       "      <td>Small_intestine</td>\n",
       "      <td>219.003506</td>\n",
       "    </tr>\n",
       "  </tbody>\n",
       "</table>\n",
       "</div>"
      ],
      "text/plain": [
       "             Group  MedianDistance\n",
       "0            Minor      202.559630\n",
       "1          Bladder      208.801398\n",
       "2          Stomach      215.904772\n",
       "3           Vagina      217.465664\n",
       "4  Small_intestine      219.003506"
      ]
     },
     "execution_count": 183,
     "metadata": {},
     "output_type": "execute_result"
    }
   ],
   "source": [
    "dist = pairwise_distances(np.array(sample[genes]).reshape(1, -1), gtex[genes])\n",
    "dist = pd.DataFrame([dist.ravel(), gtex['tissue']]).T\n",
    "dist.columns = [\"Distance\", \"Group\"]\n",
    "\n",
    "# Median by group and sort\n",
    "med_dist = (dist.groupby(\"Group\").apply(lambda x: x[\"Distance\"].median()).reset_index())\n",
    "med_dist.columns = [\"Group\", \"MedianDistance\"]\n",
    "med_dist.sort_values(\"MedianDistance\").reset_index(drop=True).head(5)"
   ]
  },
  {
   "cell_type": "code",
   "execution_count": 184,
   "metadata": {},
   "outputs": [
    {
     "name": "stdout",
     "output_type": "stream",
     "text": [
      "Ranking background datasets by tissue via ANOVA\n"
     ]
    },
    {
     "data": {
      "text/html": [
       "<div>\n",
       "<style scoped>\n",
       "    .dataframe tbody tr th:only-of-type {\n",
       "        vertical-align: middle;\n",
       "    }\n",
       "\n",
       "    .dataframe tbody tr th {\n",
       "        vertical-align: top;\n",
       "    }\n",
       "\n",
       "    .dataframe thead th {\n",
       "        text-align: right;\n",
       "    }\n",
       "</style>\n",
       "<table border=\"1\" class=\"dataframe\">\n",
       "  <thead>\n",
       "    <tr style=\"text-align: right;\">\n",
       "      <th></th>\n",
       "      <th>Group</th>\n",
       "      <th>MedianDistance</th>\n",
       "    </tr>\n",
       "  </thead>\n",
       "  <tbody>\n",
       "    <tr>\n",
       "      <th>0</th>\n",
       "      <td>Minor</td>\n",
       "      <td>59.243243</td>\n",
       "    </tr>\n",
       "    <tr>\n",
       "      <th>1</th>\n",
       "      <td>Stomach</td>\n",
       "      <td>60.114767</td>\n",
       "    </tr>\n",
       "    <tr>\n",
       "      <th>2</th>\n",
       "      <td>Bladder</td>\n",
       "      <td>61.815285</td>\n",
       "    </tr>\n",
       "    <tr>\n",
       "      <th>3</th>\n",
       "      <td>Small_intestine</td>\n",
       "      <td>65.479787</td>\n",
       "    </tr>\n",
       "    <tr>\n",
       "      <th>4</th>\n",
       "      <td>Vagina</td>\n",
       "      <td>66.430839</td>\n",
       "    </tr>\n",
       "  </tbody>\n",
       "</table>\n",
       "</div>"
      ],
      "text/plain": [
       "             Group  MedianDistance\n",
       "0            Minor       59.243243\n",
       "1          Stomach       60.114767\n",
       "2          Bladder       61.815285\n",
       "3  Small_intestine       65.479787\n",
       "4           Vagina       66.430839"
      ]
     },
     "execution_count": 184,
     "metadata": {},
     "output_type": "execute_result"
    }
   ],
   "source": [
    "anova_distances(sample, gtex, genes, n_genes=2654).head(5)"
   ]
  },
  {
   "cell_type": "code",
   "execution_count": null,
   "metadata": {},
   "outputs": [],
   "source": []
  },
  {
   "cell_type": "code",
   "execution_count": 153,
   "metadata": {},
   "outputs": [],
   "source": [
    "import seaborn as sns\n",
    "import matplotlib.pyplot as plt"
   ]
  },
  {
   "cell_type": "code",
   "execution_count": 154,
   "metadata": {},
   "outputs": [
    {
     "data": {
      "text/plain": [
       "<matplotlib.axes._subplots.AxesSubplot at 0x7fa2c949e438>"
      ]
     },
     "execution_count": 154,
     "metadata": {},
     "output_type": "execute_result"
    },
    {
     "data": {
      "image/png": "[encoded data removed]",
      "text/plain": [
       "<Figure size 864x288 with 1 Axes>"
      ]
     },
     "metadata": {},
     "output_type": "display_data"
    }
   ],
   "source": [
    "plt.figure(figsize=(12, 4))\n",
    "plt.axvline(sample['ROS1'])\n",
    "sns.kdeplot(gtex[gtex.tissue == 'Lung']['ROS1'])"
   ]
  },
  {
   "cell_type": "code",
   "execution_count": null,
   "metadata": {},
   "outputs": [],
   "source": []
  }
 ],
 "metadata": {
  "kernelspec": {
   "display_name": "Python 3",
   "language": "python",
   "name": "python3"
  },
  "language_info": {
   "codemirror_mode": {
    "name": "ipython",
    "version": 3
   },
   "file_extension": ".py",
   "mimetype": "text/x-python",
   "name": "python",
   "nbconvert_exporter": "python",
   "pygments_lexer": "ipython3",
   "version": "3.6.5"
  }
 },
 "nbformat": 4,
 "nbformat_minor": 4
}
