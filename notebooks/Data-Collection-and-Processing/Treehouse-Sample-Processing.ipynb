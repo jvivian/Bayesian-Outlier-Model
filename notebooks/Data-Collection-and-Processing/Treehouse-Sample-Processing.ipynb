{
 "cells": [
  {
   "cell_type": "markdown",
   "metadata": {},
   "source": [
    "# Treehouse Sample Processing\n",
    "\n",
    "Create a `sample` by `gene` matrix of CKCC Treehouse samples for model processing"
   ]
  },
  {
   "cell_type": "markdown",
   "metadata": {},
   "source": [
    "# Inputs"
   ]
  },
  {
   "cell_type": "code",
   "execution_count": 1,
   "metadata": {
    "ExecuteTime": {
     "end_time": "2019-03-27T17:38:34.605366Z",
     "start_time": "2019-03-27T17:38:33.793251Z"
    }
   },
   "outputs": [],
   "source": [
    "import pandas as pd\n",
    "import os"
   ]
  },
  {
   "cell_type": "markdown",
   "metadata": {},
   "source": [
    "## Metadata"
   ]
  },
  {
   "cell_type": "code",
   "execution_count": 2,
   "metadata": {
    "ExecuteTime": {
     "end_time": "2019-03-27T17:41:13.708566Z",
     "start_time": "2019-03-27T17:41:13.587487Z"
    }
   },
   "outputs": [
    {
     "data": {
      "text/html": [
       "<div>\n",
       "<style scoped>\n",
       "    .dataframe tbody tr th:only-of-type {\n",
       "        vertical-align: middle;\n",
       "    }\n",
       "\n",
       "    .dataframe tbody tr th {\n",
       "        vertical-align: top;\n",
       "    }\n",
       "\n",
       "    .dataframe thead th {\n",
       "        text-align: right;\n",
       "    }\n",
       "</style>\n",
       "<table border=\"1\" class=\"dataframe\">\n",
       "  <thead>\n",
       "    <tr style=\"text-align: right;\">\n",
       "      <th></th>\n",
       "      <th>th_sampleid</th>\n",
       "      <th>disease</th>\n",
       "      <th>source</th>\n",
       "      <th>dx_group</th>\n",
       "      <th>anat_sample</th>\n",
       "      <th>sampletype</th>\n",
       "      <th>age_at_dx</th>\n",
       "      <th>pedaya</th>\n",
       "      <th>gender</th>\n",
       "      <th>race</th>\n",
       "      <th>...</th>\n",
       "      <th>ucs_hist</th>\n",
       "      <th>hnsc_hist</th>\n",
       "      <th>chol_hist</th>\n",
       "      <th>prad_hist</th>\n",
       "      <th>esca_hist</th>\n",
       "      <th>ucec_hist</th>\n",
       "      <th>paad_hist</th>\n",
       "      <th>stad_hist</th>\n",
       "      <th>brcapam</th>\n",
       "      <th>caseID</th>\n",
       "    </tr>\n",
       "  </thead>\n",
       "  <tbody>\n",
       "    <tr>\n",
       "      <th>0</th>\n",
       "      <td>TH01_0053_S01</td>\n",
       "      <td>acute myeloid leukemia</td>\n",
       "      <td>NaN</td>\n",
       "      <td>Hematopoietic</td>\n",
       "      <td>NaN</td>\n",
       "      <td>NaN</td>\n",
       "      <td>NaN</td>\n",
       "      <td>NaN</td>\n",
       "      <td>NaN</td>\n",
       "      <td>NaN</td>\n",
       "      <td>...</td>\n",
       "      <td>NaN</td>\n",
       "      <td>NaN</td>\n",
       "      <td>NaN</td>\n",
       "      <td>NaN</td>\n",
       "      <td>NaN</td>\n",
       "      <td>NaN</td>\n",
       "      <td>NaN</td>\n",
       "      <td>NaN</td>\n",
       "      <td>NaN</td>\n",
       "      <td>TH01_0053</td>\n",
       "    </tr>\n",
       "    <tr>\n",
       "      <th>1</th>\n",
       "      <td>TH01_0054_S01</td>\n",
       "      <td>acute lymphoblastic leukemia</td>\n",
       "      <td>NaN</td>\n",
       "      <td>Hematopoietic</td>\n",
       "      <td>NaN</td>\n",
       "      <td>NaN</td>\n",
       "      <td>NaN</td>\n",
       "      <td>NaN</td>\n",
       "      <td>NaN</td>\n",
       "      <td>NaN</td>\n",
       "      <td>...</td>\n",
       "      <td>NaN</td>\n",
       "      <td>NaN</td>\n",
       "      <td>NaN</td>\n",
       "      <td>NaN</td>\n",
       "      <td>NaN</td>\n",
       "      <td>NaN</td>\n",
       "      <td>NaN</td>\n",
       "      <td>NaN</td>\n",
       "      <td>NaN</td>\n",
       "      <td>TH01_0054</td>\n",
       "    </tr>\n",
       "    <tr>\n",
       "      <th>2</th>\n",
       "      <td>TH01_0055_S01</td>\n",
       "      <td>glioma</td>\n",
       "      <td>NaN</td>\n",
       "      <td>CNS</td>\n",
       "      <td>NaN</td>\n",
       "      <td>NaN</td>\n",
       "      <td>NaN</td>\n",
       "      <td>NaN</td>\n",
       "      <td>NaN</td>\n",
       "      <td>NaN</td>\n",
       "      <td>...</td>\n",
       "      <td>NaN</td>\n",
       "      <td>NaN</td>\n",
       "      <td>NaN</td>\n",
       "      <td>NaN</td>\n",
       "      <td>NaN</td>\n",
       "      <td>NaN</td>\n",
       "      <td>NaN</td>\n",
       "      <td>NaN</td>\n",
       "      <td>NaN</td>\n",
       "      <td>TH01_0055</td>\n",
       "    </tr>\n",
       "    <tr>\n",
       "      <th>3</th>\n",
       "      <td>TH01_0061_S01</td>\n",
       "      <td>germ cell tumor</td>\n",
       "      <td>NaN</td>\n",
       "      <td>Germ cell tumor or teratoma</td>\n",
       "      <td>NaN</td>\n",
       "      <td>NaN</td>\n",
       "      <td>NaN</td>\n",
       "      <td>NaN</td>\n",
       "      <td>NaN</td>\n",
       "      <td>NaN</td>\n",
       "      <td>...</td>\n",
       "      <td>NaN</td>\n",
       "      <td>NaN</td>\n",
       "      <td>NaN</td>\n",
       "      <td>NaN</td>\n",
       "      <td>NaN</td>\n",
       "      <td>NaN</td>\n",
       "      <td>NaN</td>\n",
       "      <td>NaN</td>\n",
       "      <td>NaN</td>\n",
       "      <td>TH01_0061</td>\n",
       "    </tr>\n",
       "    <tr>\n",
       "      <th>4</th>\n",
       "      <td>TH01_0062_S01</td>\n",
       "      <td>acute lymphoblastic leukemia</td>\n",
       "      <td>NaN</td>\n",
       "      <td>Hematopoietic</td>\n",
       "      <td>NaN</td>\n",
       "      <td>NaN</td>\n",
       "      <td>NaN</td>\n",
       "      <td>NaN</td>\n",
       "      <td>NaN</td>\n",
       "      <td>NaN</td>\n",
       "      <td>...</td>\n",
       "      <td>NaN</td>\n",
       "      <td>NaN</td>\n",
       "      <td>NaN</td>\n",
       "      <td>NaN</td>\n",
       "      <td>NaN</td>\n",
       "      <td>NaN</td>\n",
       "      <td>NaN</td>\n",
       "      <td>NaN</td>\n",
       "      <td>NaN</td>\n",
       "      <td>TH01_0062</td>\n",
       "    </tr>\n",
       "  </tbody>\n",
       "</table>\n",
       "<p>5 rows × 46 columns</p>\n",
       "</div>"
      ],
      "text/plain": [
       "     th_sampleid                       disease source  \\\n",
       "0  TH01_0053_S01        acute myeloid leukemia    NaN   \n",
       "1  TH01_0054_S01  acute lymphoblastic leukemia    NaN   \n",
       "2  TH01_0055_S01                        glioma    NaN   \n",
       "3  TH01_0061_S01               germ cell tumor    NaN   \n",
       "4  TH01_0062_S01  acute lymphoblastic leukemia    NaN   \n",
       "\n",
       "                      dx_group anat_sample sampletype  age_at_dx pedaya  \\\n",
       "0                Hematopoietic         NaN        NaN        NaN    NaN   \n",
       "1                Hematopoietic         NaN        NaN        NaN    NaN   \n",
       "2                          CNS         NaN        NaN        NaN    NaN   \n",
       "3  Germ cell tumor or teratoma         NaN        NaN        NaN    NaN   \n",
       "4                Hematopoietic         NaN        NaN        NaN    NaN   \n",
       "\n",
       "  gender race    ...     ucs_hist hnsc_hist chol_hist prad_hist  esca_hist  \\\n",
       "0    NaN  NaN    ...          NaN       NaN       NaN       NaN        NaN   \n",
       "1    NaN  NaN    ...          NaN       NaN       NaN       NaN        NaN   \n",
       "2    NaN  NaN    ...          NaN       NaN       NaN       NaN        NaN   \n",
       "3    NaN  NaN    ...          NaN       NaN       NaN       NaN        NaN   \n",
       "4    NaN  NaN    ...          NaN       NaN       NaN       NaN        NaN   \n",
       "\n",
       "   ucec_hist  paad_hist  stad_hist  brcapam     caseID  \n",
       "0        NaN        NaN        NaN      NaN  TH01_0053  \n",
       "1        NaN        NaN        NaN      NaN  TH01_0054  \n",
       "2        NaN        NaN        NaN      NaN  TH01_0055  \n",
       "3        NaN        NaN        NaN      NaN  TH01_0061  \n",
       "4        NaN        NaN        NaN      NaN  TH01_0062  \n",
       "\n",
       "[5 rows x 46 columns]"
      ]
     },
     "execution_count": 2,
     "metadata": {},
     "output_type": "execute_result"
    }
   ],
   "source": [
    "path = '/mnt/treehouse-data-for-outlier-calling/ckccSampleMetaData_2017_11_20_plusDxGroup.txt'\n",
    "meta = pd.read_csv(path, sep='\\t')\n",
    "meta.head()"
   ]
  },
  {
   "cell_type": "markdown",
   "metadata": {},
   "source": [
    "## Expression data\n",
    "Taken from: https://xenabrowser.net/datapages/?dataset=TreehousePEDv9_unique_hugo_log2_tpm_plus_1.2019-03-15.tsv&host=https%3A%2F%2Fxena.treehouse.gi.ucsc.edu%3A443"
   ]
  },
  {
   "cell_type": "code",
   "execution_count": 3,
   "metadata": {
    "ExecuteTime": {
     "end_time": "2019-03-27T17:51:14.448708Z",
     "start_time": "2019-03-27T17:43:21.683249Z"
    }
   },
   "outputs": [],
   "source": [
    "path = '/mnt/treehouse-data-for-outlier-calling/TreehousePEDv9_unique_hugo_log2_tpm_plus_1.2019-03-15.tsv'\n",
    "df = pd.read_csv(path, sep='\\t', index_col=0)"
   ]
  },
  {
   "cell_type": "markdown",
   "metadata": {
    "ExecuteTime": {
     "end_time": "2019-03-27T17:59:08.300452Z",
     "start_time": "2019-03-27T17:59:08.192479Z"
    }
   },
   "source": [
    "Subset for CKCC samples"
   ]
  },
  {
   "cell_type": "code",
   "execution_count": 11,
   "metadata": {
    "ExecuteTime": {
     "end_time": "2019-03-27T18:03:06.930506Z",
     "start_time": "2019-03-27T18:03:06.788717Z"
    }
   },
   "outputs": [
    {
     "data": {
      "text/html": [
       "<div>\n",
       "<style scoped>\n",
       "    .dataframe tbody tr th:only-of-type {\n",
       "        vertical-align: middle;\n",
       "    }\n",
       "\n",
       "    .dataframe tbody tr th {\n",
       "        vertical-align: top;\n",
       "    }\n",
       "\n",
       "    .dataframe thead th {\n",
       "        text-align: right;\n",
       "    }\n",
       "</style>\n",
       "<table border=\"1\" class=\"dataframe\">\n",
       "  <thead>\n",
       "    <tr style=\"text-align: right;\">\n",
       "      <th>Gene</th>\n",
       "      <th>5S_rRNA</th>\n",
       "      <th>5_8S_rRNA</th>\n",
       "      <th>7SK</th>\n",
       "      <th>A1BG</th>\n",
       "      <th>A1BG-AS1</th>\n",
       "      <th>A1CF</th>\n",
       "      <th>A2M</th>\n",
       "      <th>A2M-AS1</th>\n",
       "      <th>A2ML1</th>\n",
       "      <th>A2ML1-AS1</th>\n",
       "      <th>...</th>\n",
       "      <th>snoU2-30</th>\n",
       "      <th>snoU2_19</th>\n",
       "      <th>snoU83B</th>\n",
       "      <th>snoZ196</th>\n",
       "      <th>snoZ278</th>\n",
       "      <th>snoZ40</th>\n",
       "      <th>snoZ6</th>\n",
       "      <th>snosnR66</th>\n",
       "      <th>uc_338</th>\n",
       "      <th>yR211F11.2</th>\n",
       "    </tr>\n",
       "  </thead>\n",
       "  <tbody>\n",
       "    <tr>\n",
       "      <th>TH03_0010_S01</th>\n",
       "      <td>0.0</td>\n",
       "      <td>0.0</td>\n",
       "      <td>0.238787</td>\n",
       "      <td>4.545968</td>\n",
       "      <td>2.565597</td>\n",
       "      <td>0.028569</td>\n",
       "      <td>1.028569</td>\n",
       "      <td>0.014355</td>\n",
       "      <td>0.0</td>\n",
       "      <td>0.0</td>\n",
       "      <td>...</td>\n",
       "      <td>0.0</td>\n",
       "      <td>0.0</td>\n",
       "      <td>0.0</td>\n",
       "      <td>0.0</td>\n",
       "      <td>0.0</td>\n",
       "      <td>0.0</td>\n",
       "      <td>0.0</td>\n",
       "      <td>0.0</td>\n",
       "      <td>2.611172</td>\n",
       "      <td>0.0</td>\n",
       "    </tr>\n",
       "    <tr>\n",
       "      <th>TH03_0010_S02</th>\n",
       "      <td>0.0</td>\n",
       "      <td>0.0</td>\n",
       "      <td>0.000000</td>\n",
       "      <td>3.926948</td>\n",
       "      <td>1.799087</td>\n",
       "      <td>0.028569</td>\n",
       "      <td>1.584963</td>\n",
       "      <td>0.014355</td>\n",
       "      <td>0.0</td>\n",
       "      <td>0.0</td>\n",
       "      <td>...</td>\n",
       "      <td>0.0</td>\n",
       "      <td>0.0</td>\n",
       "      <td>0.0</td>\n",
       "      <td>0.0</td>\n",
       "      <td>0.0</td>\n",
       "      <td>0.0</td>\n",
       "      <td>0.0</td>\n",
       "      <td>0.0</td>\n",
       "      <td>1.049631</td>\n",
       "      <td>0.0</td>\n",
       "    </tr>\n",
       "  </tbody>\n",
       "</table>\n",
       "<p>2 rows × 58581 columns</p>\n",
       "</div>"
      ],
      "text/plain": [
       "Gene           5S_rRNA  5_8S_rRNA       7SK      A1BG  A1BG-AS1      A1CF  \\\n",
       "TH03_0010_S01      0.0        0.0  0.238787  4.545968  2.565597  0.028569   \n",
       "TH03_0010_S02      0.0        0.0  0.000000  3.926948  1.799087  0.028569   \n",
       "\n",
       "Gene                A2M   A2M-AS1  A2ML1  A2ML1-AS1     ...      snoU2-30  \\\n",
       "TH03_0010_S01  1.028569  0.014355    0.0        0.0     ...           0.0   \n",
       "TH03_0010_S02  1.584963  0.014355    0.0        0.0     ...           0.0   \n",
       "\n",
       "Gene           snoU2_19  snoU83B  snoZ196  snoZ278  snoZ40  snoZ6  snosnR66  \\\n",
       "TH03_0010_S01       0.0      0.0      0.0      0.0     0.0    0.0       0.0   \n",
       "TH03_0010_S02       0.0      0.0      0.0      0.0     0.0    0.0       0.0   \n",
       "\n",
       "Gene             uc_338  yR211F11.2  \n",
       "TH03_0010_S01  2.611172         0.0  \n",
       "TH03_0010_S02  1.049631         0.0  \n",
       "\n",
       "[2 rows x 58581 columns]"
      ]
     },
     "execution_count": 11,
     "metadata": {},
     "output_type": "execute_result"
    }
   ],
   "source": [
    "ckcc = df[[x for x in meta.th_sampleid if x in df.columns]].T\n",
    "ckcc.head(2)"
   ]
  },
  {
   "cell_type": "markdown",
   "metadata": {},
   "source": [
    "Subset for genes in the GTEx dataset"
   ]
  },
  {
   "cell_type": "code",
   "execution_count": 14,
   "metadata": {
    "ExecuteTime": {
     "end_time": "2019-03-27T18:12:32.398346Z",
     "start_time": "2019-03-27T18:12:31.503421Z"
    }
   },
   "outputs": [
    {
     "data": {
      "text/html": [
       "<div>\n",
       "<style scoped>\n",
       "    .dataframe tbody tr th:only-of-type {\n",
       "        vertical-align: middle;\n",
       "    }\n",
       "\n",
       "    .dataframe tbody tr th {\n",
       "        vertical-align: top;\n",
       "    }\n",
       "\n",
       "    .dataframe thead th {\n",
       "        text-align: right;\n",
       "    }\n",
       "</style>\n",
       "<table border=\"1\" class=\"dataframe\">\n",
       "  <thead>\n",
       "    <tr style=\"text-align: right;\">\n",
       "      <th>Gene</th>\n",
       "      <th>RP11-40C6.2</th>\n",
       "      <th>IGHG1</th>\n",
       "      <th>IGKC</th>\n",
       "      <th>KRT5</th>\n",
       "      <th>IGLC2</th>\n",
       "      <th>DES</th>\n",
       "      <th>KRT19</th>\n",
       "      <th>AL162151.3</th>\n",
       "      <th>FXYD3</th>\n",
       "      <th>IGLC3</th>\n",
       "      <th>...</th>\n",
       "      <th>IGHEP1</th>\n",
       "      <th>RP11-44N21.4</th>\n",
       "      <th>GAPDHP61</th>\n",
       "      <th>P2RX5-TAX1BP3</th>\n",
       "      <th>RP11-408H20.3</th>\n",
       "      <th>RP13-726E6.2</th>\n",
       "      <th>CTB-43E15.1</th>\n",
       "      <th>ZNF878</th>\n",
       "      <th>OR2H2</th>\n",
       "      <th>RP4-530I15.9</th>\n",
       "    </tr>\n",
       "  </thead>\n",
       "  <tbody>\n",
       "    <tr>\n",
       "      <th>TH03_0010_S01</th>\n",
       "      <td>3.221877</td>\n",
       "      <td>3.962549</td>\n",
       "      <td>4.760221</td>\n",
       "      <td>0.124328</td>\n",
       "      <td>3.761285</td>\n",
       "      <td>0.056584</td>\n",
       "      <td>0.070389</td>\n",
       "      <td>9.928755</td>\n",
       "      <td>0.137504</td>\n",
       "      <td>1.678072</td>\n",
       "      <td>...</td>\n",
       "      <td>0.042644</td>\n",
       "      <td>0.111031</td>\n",
       "      <td>0.0</td>\n",
       "      <td>0.807355</td>\n",
       "      <td>0.0</td>\n",
       "      <td>0.0</td>\n",
       "      <td>0.0</td>\n",
       "      <td>0.189034</td>\n",
       "      <td>0.0</td>\n",
       "      <td>0.014355</td>\n",
       "    </tr>\n",
       "    <tr>\n",
       "      <th>TH03_0010_S02</th>\n",
       "      <td>3.014355</td>\n",
       "      <td>3.688180</td>\n",
       "      <td>5.420550</td>\n",
       "      <td>0.000000</td>\n",
       "      <td>3.784504</td>\n",
       "      <td>0.584963</td>\n",
       "      <td>0.070389</td>\n",
       "      <td>7.833523</td>\n",
       "      <td>0.176323</td>\n",
       "      <td>1.996389</td>\n",
       "      <td>...</td>\n",
       "      <td>0.000000</td>\n",
       "      <td>0.389567</td>\n",
       "      <td>0.0</td>\n",
       "      <td>0.632268</td>\n",
       "      <td>0.0</td>\n",
       "      <td>0.0</td>\n",
       "      <td>0.0</td>\n",
       "      <td>0.097611</td>\n",
       "      <td>0.0</td>\n",
       "      <td>0.000000</td>\n",
       "    </tr>\n",
       "  </tbody>\n",
       "</table>\n",
       "<p>2 rows × 26544 columns</p>\n",
       "</div>"
      ],
      "text/plain": [
       "Gene           RP11-40C6.2     IGHG1      IGKC      KRT5     IGLC2       DES  \\\n",
       "TH03_0010_S01     3.221877  3.962549  4.760221  0.124328  3.761285  0.056584   \n",
       "TH03_0010_S02     3.014355  3.688180  5.420550  0.000000  3.784504  0.584963   \n",
       "\n",
       "Gene              KRT19  AL162151.3     FXYD3     IGLC3      ...       \\\n",
       "TH03_0010_S01  0.070389    9.928755  0.137504  1.678072      ...        \n",
       "TH03_0010_S02  0.070389    7.833523  0.176323  1.996389      ...        \n",
       "\n",
       "Gene             IGHEP1  RP11-44N21.4  GAPDHP61  P2RX5-TAX1BP3  RP11-408H20.3  \\\n",
       "TH03_0010_S01  0.042644      0.111031       0.0       0.807355            0.0   \n",
       "TH03_0010_S02  0.000000      0.389567       0.0       0.632268            0.0   \n",
       "\n",
       "Gene           RP13-726E6.2  CTB-43E15.1    ZNF878  OR2H2  RP4-530I15.9  \n",
       "TH03_0010_S01           0.0          0.0  0.189034    0.0      0.014355  \n",
       "TH03_0010_S02           0.0          0.0  0.097611    0.0      0.000000  \n",
       "\n",
       "[2 rows x 26544 columns]"
      ]
     },
     "execution_count": 14,
     "metadata": {},
     "output_type": "execute_result"
    }
   ],
   "source": [
    "gtex = pd.read_hdf('/mnt/data/expression/gtex.hd5')\n",
    "genes = gtex.columns[5:]\n",
    "ckcc = ckcc[genes]\n",
    "ckcc.head(2)"
   ]
  },
  {
   "cell_type": "markdown",
   "metadata": {},
   "source": [
    "# Save Output"
   ]
  },
  {
   "cell_type": "code",
   "execution_count": 18,
   "metadata": {
    "ExecuteTime": {
     "end_time": "2019-03-27T18:20:08.906815Z",
     "start_time": "2019-03-27T18:20:08.746841Z"
    }
   },
   "outputs": [],
   "source": [
    "ckcc.to_hdf('/mnt/data/expression/ckcc.hd5', key='exp')"
   ]
  },
  {
   "cell_type": "code",
   "execution_count": 19,
   "metadata": {
    "ExecuteTime": {
     "end_time": "2019-03-27T18:20:09.087275Z",
     "start_time": "2019-03-27T18:20:08.910409Z"
    }
   },
   "outputs": [],
   "source": [
    "ckcc.to_hdf('/mnt/treehouse-data-for-outlier-calling/ckcc.hd5', key='exp')"
   ]
  },
  {
   "cell_type": "code",
   "execution_count": 20,
   "metadata": {
    "ExecuteTime": {
     "end_time": "2019-03-27T18:20:15.418867Z",
     "start_time": "2019-03-27T18:20:09.091009Z"
    }
   },
   "outputs": [],
   "source": [
    "ckcc.to_csv('/mnt/treehouse-data-for-outlier-calling/ckcc.tsv', sep='\\t')"
   ]
  },
  {
   "cell_type": "code",
   "execution_count": null,
   "metadata": {},
   "outputs": [],
   "source": []
  },
  {
   "cell_type": "markdown",
   "metadata": {},
   "source": [
    "# Identify Candidates for Analysis\n",
    "Compare to model findings"
   ]
  },
  {
   "cell_type": "code",
   "execution_count": 23,
   "metadata": {
    "ExecuteTime": {
     "end_time": "2019-04-01T15:28:47.557709Z",
     "start_time": "2019-04-01T15:28:47.481998Z"
    },
    "scrolled": false
   },
   "outputs": [],
   "source": [
    "sub = meta[meta.th_sampleid.isin(ckcc.index)]"
   ]
  },
  {
   "cell_type": "code",
   "execution_count": 36,
   "metadata": {
    "ExecuteTime": {
     "end_time": "2019-04-01T18:54:55.390024Z",
     "start_time": "2019-04-01T18:54:55.299299Z"
    }
   },
   "outputs": [
    {
     "data": {
      "text/html": [
       "<div>\n",
       "<style scoped>\n",
       "    .dataframe tbody tr th:only-of-type {\n",
       "        vertical-align: middle;\n",
       "    }\n",
       "\n",
       "    .dataframe tbody tr th {\n",
       "        vertical-align: top;\n",
       "    }\n",
       "\n",
       "    .dataframe thead th {\n",
       "        text-align: right;\n",
       "    }\n",
       "</style>\n",
       "<table border=\"1\" class=\"dataframe\">\n",
       "  <thead>\n",
       "    <tr style=\"text-align: right;\">\n",
       "      <th></th>\n",
       "      <th>th_sampleid</th>\n",
       "      <th>disease</th>\n",
       "      <th>source</th>\n",
       "      <th>dx_group</th>\n",
       "      <th>anat_sample</th>\n",
       "      <th>sampletype</th>\n",
       "      <th>age_at_dx</th>\n",
       "      <th>pedaya</th>\n",
       "      <th>gender</th>\n",
       "      <th>race</th>\n",
       "      <th>...</th>\n",
       "      <th>ucs_hist</th>\n",
       "      <th>hnsc_hist</th>\n",
       "      <th>chol_hist</th>\n",
       "      <th>prad_hist</th>\n",
       "      <th>esca_hist</th>\n",
       "      <th>ucec_hist</th>\n",
       "      <th>paad_hist</th>\n",
       "      <th>stad_hist</th>\n",
       "      <th>brcapam</th>\n",
       "      <th>caseID</th>\n",
       "    </tr>\n",
       "  </thead>\n",
       "  <tbody>\n",
       "    <tr>\n",
       "      <th>87</th>\n",
       "      <td>TH03_0004_S04</td>\n",
       "      <td>hepatoblastoma</td>\n",
       "      <td>Stanford</td>\n",
       "      <td>Liver</td>\n",
       "      <td>lung metastasis</td>\n",
       "      <td>Metastasis</td>\n",
       "      <td>2.0</td>\n",
       "      <td>Yes, age &lt; 30 years</td>\n",
       "      <td>male</td>\n",
       "      <td>Not reported or Unknown</td>\n",
       "      <td>...</td>\n",
       "      <td>NaN</td>\n",
       "      <td>NaN</td>\n",
       "      <td>NaN</td>\n",
       "      <td>NaN</td>\n",
       "      <td>NaN</td>\n",
       "      <td>NaN</td>\n",
       "      <td>NaN</td>\n",
       "      <td>NaN</td>\n",
       "      <td>NaN</td>\n",
       "      <td>TH03_0004</td>\n",
       "    </tr>\n",
       "  </tbody>\n",
       "</table>\n",
       "<p>1 rows × 46 columns</p>\n",
       "</div>"
      ],
      "text/plain": [
       "      th_sampleid         disease    source dx_group      anat_sample  \\\n",
       "87  TH03_0004_S04  hepatoblastoma  Stanford    Liver  lung metastasis   \n",
       "\n",
       "    sampletype  age_at_dx               pedaya gender  \\\n",
       "87  Metastasis        2.0  Yes, age < 30 years   male   \n",
       "\n",
       "                       race    ...     ucs_hist hnsc_hist chol_hist prad_hist  \\\n",
       "87  Not reported or Unknown    ...          NaN       NaN       NaN       NaN   \n",
       "\n",
       "    esca_hist  ucec_hist  paad_hist  stad_hist  brcapam     caseID  \n",
       "87        NaN        NaN        NaN        NaN      NaN  TH03_0004  \n",
       "\n",
       "[1 rows x 46 columns]"
      ]
     },
     "execution_count": 36,
     "metadata": {},
     "output_type": "execute_result"
    }
   ],
   "source": [
    "meta[meta.th_sampleid == 'TH03_0004_S04']"
   ]
  },
  {
   "cell_type": "markdown",
   "metadata": {},
   "source": [
    "## Candidates for Analysis\n",
    "\n",
    "- Liver\n",
    "    - TH03_0104_S01\n",
    "        - 1 outliers found where Treehouse found None.\n",
    "            - NTRK2 - 0.02\n",
    "        - Liver matched at 0.97\n",
    "    - TH03_0107_S01\n",
    "        - CDK6 - 0.054\n",
    "        - None in Treehouse\n",
    "    - TH03_0113_S01\n",
    "       - Matched weight mostly to Bladder* — Important for sample contamination?\n",
    "       - Found same outlier as Treehouse (FGFR1) but also 3 others.\n",
    "           - FGFR2, AURKA, CDK4\n",
    "    - TH03_0113_S02\n",
    "       - Matched to colon.\n",
    "       - DOES NOT identify same gene FGFR1 as outlier (0.11)\n",
    "    - TH03_0114_S01\n",
    "       - Agrees on no outliers\n",
    "    - TH03_0017_S01\n",
    "       - Agree on MDM2\n",
    "    - TH03_0019_S01\n",
    "       - Agrees on KDR\n",
    "       - Disagrees on FLT1 (0.08)\n",
    "    - TH03_0286_S01\n",
    "       - Disagrees on PDGFRB (0.08)\n",
    "    - TH03_0004_S02\n",
    "       - Disagrees on AURKB (0.04, Treehouse finds nothing)\n",
    "       - Liver match of 0.95\n",
    "    - **TH03_0004_S04**\n",
    "       - Lung metastisis, matches mostly to lung 0.68\n",
    "       - Great example of what to use as appropriate match? Lung\n",
    "       - Agrees on HSP90B1 (0.049), disagrees on IL6 (0.07), disagrees on AURKB (0.02), AURKA (0.046)\n",
    "\n",
    "- Wilms\n",
    "    - **TH06_0632_S01**\n",
    "        - Female patient, matches to Cervix and Fallopian.\n",
    "        - Anat sample: Vascular-Vein-Inferior Vena Cava-Hepatic\n",
    "        - Almost no agreement amongst outliers\n",
    "        - Treehouse: BCL6, MLST8, PDGFRB, PIK3R1, STAT3, TSC2\n",
    "        - Model: CDK6, AURKB, CCND1, AURKA\n",
    "        \n",
    "- Adrenal\n",
    "    - **TH03_0024_S01**\n",
    "         - Matches 0.83% to Adrenal\n",
    "         - Treehouse no outliers\n",
    "         - AURKA (0.02), KIT (0.04), AURKB (0.05)\n",
    "         \n",
    "- Thyroid\n",
    "    - **TH06_0612_S01**\n",
    "        - Matches 0.83% to Thyroid\n",
    "        - Treehouse no outliers\n",
    "        - MET (0.005), STAT1 (0.03), CCND2 (0.03), NTRK2 (0.03), NTRK1 (0.04)\n",
    "    - **TH06_0631_S01**\n",
    "        - Taken from lymph node, but 0.50% match to Thyroid\n",
    "        - Treehouse: CSF1R, STAT2, TSC2\n",
    "        - Model: PIK3R6 (0.03), MET (0.03), ALK (0.04), CSF1R (0.04)\n",
    "        - STAT2 in model is 0.27! TSC22 is 0.31!\n",
    "\n",
    "- Medulloblastoma\n",
    "    - **TH03_0020_S01**\n",
    "        - Brain: 0.78 match\n",
    "        - Treehouse: PTCH1\n",
    "        - Model: AURKB (0.005), CDK6 (0.008), CDK4 (0.02), NTRK3 (0.03), CDK2 (0.03), AURKA (0.04)\n",
    "        - Disagrees on PTCH1 (0.08)\n",
    "\n",
    "        \n",
    "- Neuroblastoma\n",
    "    - TH06_0628_S01\n",
    "        - Several more outliers than what Treehouse found\n",
    "        - Nerve highest match at 0.47 which seems alright\n",
    "        "
   ]
  },
  {
   "cell_type": "code",
   "execution_count": null,
   "metadata": {},
   "outputs": [],
   "source": []
  }
 ],
 "metadata": {
  "hide_input": false,
  "kernelspec": {
   "display_name": "Python 3",
   "language": "python",
   "name": "python3"
  },
  "language_info": {
   "codemirror_mode": {
    "name": "ipython",
    "version": 3
   },
   "file_extension": ".py",
   "mimetype": "text/x-python",
   "name": "python",
   "nbconvert_exporter": "python",
   "pygments_lexer": "ipython3",
   "version": "3.6.5"
  },
  "toc": {
   "base_numbering": 1,
   "nav_menu": {},
   "number_sections": true,
   "sideBar": true,
   "skip_h1_title": false,
   "title_cell": "Table of Contents",
   "title_sidebar": "Contents",
   "toc_cell": false,
   "toc_position": {},
   "toc_section_display": true,
   "toc_window_display": true
  }
 },
 "nbformat": 4,
 "nbformat_minor": 2
}
