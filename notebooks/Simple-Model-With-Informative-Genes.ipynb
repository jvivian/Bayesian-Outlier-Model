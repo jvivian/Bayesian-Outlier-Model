{
 "cells": [
  {
   "cell_type": "markdown",
   "metadata": {},
   "source": [
    "# Run Simple Model with Informative Genes\n",
    "\n",
    "See if using \"informative genes\" via `sklearn`'s `SelectKBest` or `LDA` allows similar posterior estimates with fewer samples"
   ]
  },
  {
   "cell_type": "markdown",
   "metadata": {},
   "source": [
    "# Inputs"
   ]
  },
  {
   "cell_type": "code",
   "execution_count": 1,
   "metadata": {
    "ExecuteTime": {
     "end_time": "2018-10-23T21:35:34.978154Z",
     "start_time": "2018-10-23T21:35:30.566975Z"
    }
   },
   "outputs": [
    {
     "name": "stderr",
     "output_type": "stream",
     "text": [
      "WARNING (theano.tensor.blas): Using NumPy C-API based implementation for BLAS functions.\n"
     ]
    }
   ],
   "source": [
    "import rnaseq_lib3 as r\n",
    "import pandas as pd"
   ]
  },
  {
   "cell_type": "code",
   "execution_count": 2,
   "metadata": {
    "ExecuteTime": {
     "end_time": "2018-10-23T21:35:37.454219Z",
     "start_time": "2018-10-23T21:35:34.982355Z"
    },
    "scrolled": true
   },
   "outputs": [
    {
     "data": {
      "text/html": [
       "<div>\n",
       "<style scoped>\n",
       "    .dataframe tbody tr th:only-of-type {\n",
       "        vertical-align: middle;\n",
       "    }\n",
       "\n",
       "    .dataframe tbody tr th {\n",
       "        vertical-align: top;\n",
       "    }\n",
       "\n",
       "    .dataframe thead th {\n",
       "        text-align: right;\n",
       "    }\n",
       "</style>\n",
       "<table border=\"1\" class=\"dataframe\">\n",
       "  <thead>\n",
       "    <tr style=\"text-align: right;\">\n",
       "      <th></th>\n",
       "      <th>id</th>\n",
       "      <th>tissue</th>\n",
       "      <th>subtype</th>\n",
       "      <th>tumor</th>\n",
       "      <th>label</th>\n",
       "      <th>RP11-40C6.2</th>\n",
       "      <th>IGHG1</th>\n",
       "      <th>IGKC</th>\n",
       "      <th>KRT5</th>\n",
       "      <th>IGLC2</th>\n",
       "      <th>...</th>\n",
       "      <th>IGHEP1</th>\n",
       "      <th>RP11-44N21.4</th>\n",
       "      <th>GAPDHP61</th>\n",
       "      <th>P2RX5-TAX1BP3</th>\n",
       "      <th>RP11-408H20.3</th>\n",
       "      <th>RP13-726E6.2</th>\n",
       "      <th>CTB-43E15.1</th>\n",
       "      <th>ZNF878</th>\n",
       "      <th>OR2H2</th>\n",
       "      <th>RP4-530I15.9</th>\n",
       "    </tr>\n",
       "  </thead>\n",
       "  <tbody>\n",
       "    <tr>\n",
       "      <th>GTEX-UTHO-1226-SM-3GAEE</th>\n",
       "      <td>GTEX-UTHO-1226-SM-3GAEE</td>\n",
       "      <td>Heart</td>\n",
       "      <td>Heart_Atrial_Appendage</td>\n",
       "      <td>no</td>\n",
       "      <td>gtex</td>\n",
       "      <td>0.000000</td>\n",
       "      <td>10.302941</td>\n",
       "      <td>10.712460</td>\n",
       "      <td>2.750618</td>\n",
       "      <td>7.780669</td>\n",
       "      <td>...</td>\n",
       "      <td>0.000000</td>\n",
       "      <td>0.0</td>\n",
       "      <td>0.0</td>\n",
       "      <td>0.150556</td>\n",
       "      <td>0.0</td>\n",
       "      <td>0.000000</td>\n",
       "      <td>0.0</td>\n",
       "      <td>0.070387</td>\n",
       "      <td>0.790754</td>\n",
       "      <td>0.815589</td>\n",
       "    </tr>\n",
       "    <tr>\n",
       "      <th>GTEX-146FH-1726-SM-5QGQ2</th>\n",
       "      <td>GTEX-146FH-1726-SM-5QGQ2</td>\n",
       "      <td>Esophagus</td>\n",
       "      <td>Esophagus_Mucosa</td>\n",
       "      <td>no</td>\n",
       "      <td>gtex</td>\n",
       "      <td>2.970847</td>\n",
       "      <td>8.778885</td>\n",
       "      <td>10.445933</td>\n",
       "      <td>12.393268</td>\n",
       "      <td>8.440056</td>\n",
       "      <td>...</td>\n",
       "      <td>0.176318</td>\n",
       "      <td>0.0</td>\n",
       "      <td>0.0</td>\n",
       "      <td>0.411426</td>\n",
       "      <td>0.0</td>\n",
       "      <td>0.176318</td>\n",
       "      <td>0.0</td>\n",
       "      <td>0.622930</td>\n",
       "      <td>0.042644</td>\n",
       "      <td>0.378503</td>\n",
       "    </tr>\n",
       "  </tbody>\n",
       "</table>\n",
       "<p>2 rows × 26549 columns</p>\n",
       "</div>"
      ],
      "text/plain": [
       "                                                id     tissue  \\\n",
       "GTEX-UTHO-1226-SM-3GAEE    GTEX-UTHO-1226-SM-3GAEE      Heart   \n",
       "GTEX-146FH-1726-SM-5QGQ2  GTEX-146FH-1726-SM-5QGQ2  Esophagus   \n",
       "\n",
       "                                         subtype tumor label  RP11-40C6.2  \\\n",
       "GTEX-UTHO-1226-SM-3GAEE   Heart_Atrial_Appendage    no  gtex     0.000000   \n",
       "GTEX-146FH-1726-SM-5QGQ2        Esophagus_Mucosa    no  gtex     2.970847   \n",
       "\n",
       "                              IGHG1       IGKC       KRT5     IGLC2  \\\n",
       "GTEX-UTHO-1226-SM-3GAEE   10.302941  10.712460   2.750618  7.780669   \n",
       "GTEX-146FH-1726-SM-5QGQ2   8.778885  10.445933  12.393268  8.440056   \n",
       "\n",
       "                              ...         IGHEP1  RP11-44N21.4  GAPDHP61  \\\n",
       "GTEX-UTHO-1226-SM-3GAEE       ...       0.000000           0.0       0.0   \n",
       "GTEX-146FH-1726-SM-5QGQ2      ...       0.176318           0.0       0.0   \n",
       "\n",
       "                          P2RX5-TAX1BP3  RP11-408H20.3  RP13-726E6.2  \\\n",
       "GTEX-UTHO-1226-SM-3GAEE        0.150556            0.0      0.000000   \n",
       "GTEX-146FH-1726-SM-5QGQ2       0.411426            0.0      0.176318   \n",
       "\n",
       "                          CTB-43E15.1    ZNF878     OR2H2  RP4-530I15.9  \n",
       "GTEX-UTHO-1226-SM-3GAEE           0.0  0.070387  0.790754      0.815589  \n",
       "GTEX-146FH-1726-SM-5QGQ2          0.0  0.622930  0.042644      0.378503  \n",
       "\n",
       "[2 rows x 26549 columns]"
      ]
     },
     "execution_count": 2,
     "metadata": {},
     "output_type": "execute_result"
    }
   ],
   "source": [
    "df = pd.read_hdf('/mnt/data/Objects/tcga_gtex_tpm_norm_filt.hd5')\n",
    "df.head(2)"
   ]
  },
  {
   "cell_type": "code",
   "execution_count": 3,
   "metadata": {
    "ExecuteTime": {
     "end_time": "2018-10-23T21:35:39.122315Z",
     "start_time": "2018-10-23T21:35:37.458192Z"
    }
   },
   "outputs": [],
   "source": [
    "gtex = df[df.label == 'gtex']\n",
    "normal = df[df.label == 'tcga-normal']\n",
    "tumor = df[df.label == 'tcga-tumor']"
   ]
  },
  {
   "cell_type": "markdown",
   "metadata": {},
   "source": [
    "# Informative Genes"
   ]
  },
  {
   "cell_type": "code",
   "execution_count": 4,
   "metadata": {
    "ExecuteTime": {
     "end_time": "2018-10-23T21:35:39.176827Z",
     "start_time": "2018-10-23T21:35:39.136328Z"
    }
   },
   "outputs": [],
   "source": [
    "tumor_id = 'TCGA-KK-A7B2-01'\n",
    "n_of_1 = tumor.loc[tumor_id]"
   ]
  },
  {
   "cell_type": "markdown",
   "metadata": {},
   "source": [
    "## 20 Genes"
   ]
  },
  {
   "cell_type": "code",
   "execution_count": null,
   "metadata": {},
   "outputs": [],
   "source": [
    "r.outlier.train_outlier_model(sample = n_of_1,\n",
    "                              background_df=gtex,\n",
    "                              class_col='tissue')"
   ]
  },
  {
   "cell_type": "code",
   "execution_count": null,
   "metadata": {},
   "outputs": [],
   "source": []
  }
 ],
 "metadata": {
  "hide_input": false,
  "kernelspec": {
   "display_name": "Python 3",
   "language": "python",
   "name": "python3"
  },
  "language_info": {
   "codemirror_mode": {
    "name": "ipython",
    "version": 3
   },
   "file_extension": ".py",
   "mimetype": "text/x-python",
   "name": "python",
   "nbconvert_exporter": "python",
   "pygments_lexer": "ipython3",
   "version": "3.6.6"
  },
  "toc": {
   "base_numbering": 1,
   "nav_menu": {},
   "number_sections": true,
   "sideBar": true,
   "skip_h1_title": false,
   "title_cell": "Table of Contents",
   "title_sidebar": "Contents",
   "toc_cell": false,
   "toc_position": {},
   "toc_section_display": true,
   "toc_window_display": true
  }
 },
 "nbformat": 4,
 "nbformat_minor": 2
}
