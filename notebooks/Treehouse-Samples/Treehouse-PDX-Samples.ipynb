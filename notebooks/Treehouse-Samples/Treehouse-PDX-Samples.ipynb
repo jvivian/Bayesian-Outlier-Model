{
 "cells": [
  {
   "cell_type": "markdown",
   "metadata": {},
   "source": [
    "# Treehouse PDX Samples\n",
    "\n",
    "Run Treehouse PDX samples"
   ]
  },
  {
   "cell_type": "markdown",
   "metadata": {},
   "source": [
    "# Inputs"
   ]
  },
  {
   "cell_type": "code",
   "execution_count": 31,
   "metadata": {
    "ExecuteTime": {
     "end_time": "2019-01-28T07:35:55.769158Z",
     "start_time": "2019-01-28T07:35:44.781667Z"
    }
   },
   "outputs": [],
   "source": [
    "import pandas as pd\n",
    "\n",
    "import numpy as np\n",
    "import seaborn as sns\n",
    "import rnaseq_lib3 as r"
   ]
  },
  {
   "cell_type": "code",
   "execution_count": 7,
   "metadata": {
    "ExecuteTime": {
     "end_time": "2019-01-28T06:46:04.536156Z",
     "start_time": "2019-01-28T06:46:02.022216Z"
    }
   },
   "outputs": [],
   "source": [
    "df = pd.read_hdf('/mnt/data/expression/tcga_gtex_tpm_norm_filt.hd5')"
   ]
  },
  {
   "cell_type": "markdown",
   "metadata": {},
   "source": [
    "Process raw input"
   ]
  },
  {
   "cell_type": "code",
   "execution_count": 13,
   "metadata": {
    "ExecuteTime": {
     "end_time": "2019-01-28T06:49:44.209451Z",
     "start_time": "2019-01-28T06:49:34.846933Z"
    }
   },
   "outputs": [],
   "source": [
    "path = '/mnt/treehouse-pdx-outliers/Vivian-PDX-RSEM-TPM.tsv'\n",
    "pdx = pd.read_csv(path, sep='\\t', index_col=0)\n",
    "pdx = pdx.T\n",
    "# Subset genes\n",
    "pdx = pdx[df.columns[5:]]\n",
    "# Normalize\n",
    "pdx = pdx.apply(lambda x: np.log2(x + 1))"
   ]
  },
  {
   "cell_type": "code",
   "execution_count": 20,
   "metadata": {
    "ExecuteTime": {
     "end_time": "2019-01-28T07:17:47.298149Z",
     "start_time": "2019-01-28T07:17:46.616017Z"
    }
   },
   "outputs": [],
   "source": [
    "pdx.to_csv('/mnt/treehouse-pdx-outliers/pdx-samples-norm-filt.tsv', sep='\\t')"
   ]
  },
  {
   "cell_type": "markdown",
   "metadata": {},
   "source": [
    "# Run Samples"
   ]
  },
  {
   "cell_type": "code",
   "execution_count": 33,
   "metadata": {
    "ExecuteTime": {
     "end_time": "2019-01-28T07:36:54.318118Z",
     "start_time": "2019-01-28T07:36:54.311411Z"
    }
   },
   "outputs": [],
   "source": [
    "genes = df.columns[5:]"
   ]
  },
  {
   "cell_type": "code",
   "execution_count": 32,
   "metadata": {
    "ExecuteTime": {
     "end_time": "2019-01-28T07:36:04.993099Z",
     "start_time": "2019-01-28T07:36:04.142482Z"
    }
   },
   "outputs": [],
   "source": [
    "alpha = pdx.loc['alpha']\n",
    "gtex = pd.read_hdf('/mnt/data/expression/gtex.hd5')"
   ]
  },
  {
   "cell_type": "code",
   "execution_count": 36,
   "metadata": {
    "ExecuteTime": {
     "end_time": "2019-01-28T07:37:30.880995Z",
     "start_time": "2019-01-28T07:37:27.098503Z"
    }
   },
   "outputs": [
    {
     "data": {
      "text/html": [
       "<div>\n",
       "<style scoped>\n",
       "    .dataframe tbody tr th:only-of-type {\n",
       "        vertical-align: middle;\n",
       "    }\n",
       "\n",
       "    .dataframe tbody tr th {\n",
       "        vertical-align: top;\n",
       "    }\n",
       "\n",
       "    .dataframe thead th {\n",
       "        text-align: right;\n",
       "    }\n",
       "</style>\n",
       "<table border=\"1\" class=\"dataframe\">\n",
       "  <thead>\n",
       "    <tr style=\"text-align: right;\">\n",
       "      <th></th>\n",
       "      <th>Group</th>\n",
       "      <th>MedianRank</th>\n",
       "    </tr>\n",
       "  </thead>\n",
       "  <tbody>\n",
       "    <tr>\n",
       "      <th>0</th>\n",
       "      <td>Cells</td>\n",
       "      <td>216.0</td>\n",
       "    </tr>\n",
       "    <tr>\n",
       "      <th>1</th>\n",
       "      <td>Uterus</td>\n",
       "      <td>736.5</td>\n",
       "    </tr>\n",
       "    <tr>\n",
       "      <th>2</th>\n",
       "      <td>Cervix</td>\n",
       "      <td>835.0</td>\n",
       "    </tr>\n",
       "    <tr>\n",
       "      <th>3</th>\n",
       "      <td>Ovary</td>\n",
       "      <td>875.0</td>\n",
       "    </tr>\n",
       "    <tr>\n",
       "      <th>4</th>\n",
       "      <td>Artery</td>\n",
       "      <td>1122.5</td>\n",
       "    </tr>\n",
       "    <tr>\n",
       "      <th>5</th>\n",
       "      <td>Adipose</td>\n",
       "      <td>1838.0</td>\n",
       "    </tr>\n",
       "    <tr>\n",
       "      <th>6</th>\n",
       "      <td>Colon</td>\n",
       "      <td>1889.0</td>\n",
       "    </tr>\n",
       "    <tr>\n",
       "      <th>7</th>\n",
       "      <td>Esophagus</td>\n",
       "      <td>2131.0</td>\n",
       "    </tr>\n",
       "    <tr>\n",
       "      <th>8</th>\n",
       "      <td>Breast</td>\n",
       "      <td>2291.0</td>\n",
       "    </tr>\n",
       "    <tr>\n",
       "      <th>9</th>\n",
       "      <td>Fallopian</td>\n",
       "      <td>2298.0</td>\n",
       "    </tr>\n",
       "    <tr>\n",
       "      <th>10</th>\n",
       "      <td>Bladder</td>\n",
       "      <td>2343.0</td>\n",
       "    </tr>\n",
       "    <tr>\n",
       "      <th>11</th>\n",
       "      <td>Adrenal</td>\n",
       "      <td>2377.0</td>\n",
       "    </tr>\n",
       "    <tr>\n",
       "      <th>12</th>\n",
       "      <td>Nerve</td>\n",
       "      <td>2396.0</td>\n",
       "    </tr>\n",
       "    <tr>\n",
       "      <th>13</th>\n",
       "      <td>Vagina</td>\n",
       "      <td>2676.0</td>\n",
       "    </tr>\n",
       "    <tr>\n",
       "      <th>14</th>\n",
       "      <td>Prostate</td>\n",
       "      <td>2903.0</td>\n",
       "    </tr>\n",
       "    <tr>\n",
       "      <th>15</th>\n",
       "      <td>Thyroid</td>\n",
       "      <td>3401.5</td>\n",
       "    </tr>\n",
       "    <tr>\n",
       "      <th>16</th>\n",
       "      <td>Skin</td>\n",
       "      <td>3566.0</td>\n",
       "    </tr>\n",
       "    <tr>\n",
       "      <th>17</th>\n",
       "      <td>Minor</td>\n",
       "      <td>4042.0</td>\n",
       "    </tr>\n",
       "    <tr>\n",
       "      <th>18</th>\n",
       "      <td>Lung</td>\n",
       "      <td>4202.0</td>\n",
       "    </tr>\n",
       "    <tr>\n",
       "      <th>19</th>\n",
       "      <td>Stomach</td>\n",
       "      <td>4322.0</td>\n",
       "    </tr>\n",
       "    <tr>\n",
       "      <th>20</th>\n",
       "      <td>Kidney</td>\n",
       "      <td>4664.0</td>\n",
       "    </tr>\n",
       "    <tr>\n",
       "      <th>21</th>\n",
       "      <td>Pituitary</td>\n",
       "      <td>4799.0</td>\n",
       "    </tr>\n",
       "    <tr>\n",
       "      <th>22</th>\n",
       "      <td>Small_intestine</td>\n",
       "      <td>4820.5</td>\n",
       "    </tr>\n",
       "    <tr>\n",
       "      <th>23</th>\n",
       "      <td>Heart</td>\n",
       "      <td>5186.0</td>\n",
       "    </tr>\n",
       "    <tr>\n",
       "      <th>24</th>\n",
       "      <td>Spleen</td>\n",
       "      <td>5372.0</td>\n",
       "    </tr>\n",
       "    <tr>\n",
       "      <th>25</th>\n",
       "      <td>Pancreas</td>\n",
       "      <td>6087.0</td>\n",
       "    </tr>\n",
       "    <tr>\n",
       "      <th>26</th>\n",
       "      <td>Muscle</td>\n",
       "      <td>6212.5</td>\n",
       "    </tr>\n",
       "    <tr>\n",
       "      <th>27</th>\n",
       "      <td>Brain</td>\n",
       "      <td>6369.5</td>\n",
       "    </tr>\n",
       "    <tr>\n",
       "      <th>28</th>\n",
       "      <td>Liver</td>\n",
       "      <td>7153.5</td>\n",
       "    </tr>\n",
       "    <tr>\n",
       "      <th>29</th>\n",
       "      <td>Testis</td>\n",
       "      <td>7350.0</td>\n",
       "    </tr>\n",
       "    <tr>\n",
       "      <th>30</th>\n",
       "      <td>Whole</td>\n",
       "      <td>7651.0</td>\n",
       "    </tr>\n",
       "  </tbody>\n",
       "</table>\n",
       "</div>"
      ],
      "text/plain": [
       "              Group  MedianRank\n",
       "0             Cells       216.0\n",
       "1            Uterus       736.5\n",
       "2            Cervix       835.0\n",
       "3             Ovary       875.0\n",
       "4            Artery      1122.5\n",
       "5           Adipose      1838.0\n",
       "6             Colon      1889.0\n",
       "7         Esophagus      2131.0\n",
       "8            Breast      2291.0\n",
       "9         Fallopian      2298.0\n",
       "10          Bladder      2343.0\n",
       "11          Adrenal      2377.0\n",
       "12            Nerve      2396.0\n",
       "13           Vagina      2676.0\n",
       "14         Prostate      2903.0\n",
       "15          Thyroid      3401.5\n",
       "16             Skin      3566.0\n",
       "17            Minor      4042.0\n",
       "18             Lung      4202.0\n",
       "19          Stomach      4322.0\n",
       "20           Kidney      4664.0\n",
       "21        Pituitary      4799.0\n",
       "22  Small_intestine      4820.5\n",
       "23            Heart      5186.0\n",
       "24           Spleen      5372.0\n",
       "25         Pancreas      6087.0\n",
       "26           Muscle      6212.5\n",
       "27            Brain      6369.5\n",
       "28            Liver      7153.5\n",
       "29           Testis      7350.0\n",
       "30            Whole      7651.0"
      ]
     },
     "execution_count": 36,
     "metadata": {},
     "output_type": "execute_result"
    }
   ],
   "source": [
    "r.outlier.pairwise_distance_ranks(alpha, gtex, genes, 'tissue')"
   ]
  },
  {
   "cell_type": "code",
   "execution_count": 18,
   "metadata": {
    "ExecuteTime": {
     "end_time": "2019-01-28T07:16:09.453457Z",
     "start_time": "2019-01-28T07:16:09.447561Z"
    }
   },
   "outputs": [],
   "source": [
    "import subprocess"
   ]
  },
  {
   "cell_type": "code",
   "execution_count": 56,
   "metadata": {
    "ExecuteTime": {
     "end_time": "2019-01-28T07:48:39.183292Z",
     "start_time": "2019-01-28T07:48:39.175939Z"
    }
   },
   "outputs": [],
   "source": [
    "sample = '/mnt/treehouse-pdx-outliers/pdx-samples-norm-filt.tsv'\n",
    "background = '/mnt/data/expression/gtex.hd5'\n",
    "gene_list = '/mnt/Bayesian-Outlier-Model/data/drug-gene-list.txt'\n",
    "out_dir = '/mnt/treehouse-pdx-outliers/'\n",
    "col_skip = '5'"
   ]
  },
  {
   "cell_type": "markdown",
   "metadata": {},
   "source": [
    "## Alpha"
   ]
  },
  {
   "cell_type": "code",
   "execution_count": null,
   "metadata": {
    "ExecuteTime": {
     "start_time": "2019-01-28T17:31:32.808Z"
    },
    "scrolled": true
   },
   "outputs": [],
   "source": [
    "sample_names = ['alpha', 'beta', 'gamma', 'delta', 'epsilon', 'zeta', 'eta', 'theta', 'iota']\n",
    "outs, errs = [], []\n",
    "for sample_name in sample_names:\n",
    "    call = ['outlier-model',\n",
    "            '--sample', sample,\n",
    "            '--background', background,\n",
    "            '--name', sample_name,\n",
    "            '--gene-list', gene_list,\n",
    "            '--out-dir', out_dir,\n",
    "            '--col-skip', col_skip]\n",
    "    p = subprocess.Popen(call, stdout=subprocess.PIPE, stderr=subprocess.PIPE)\n",
    "    out, err = p.communicate()\n",
    "    outs.append(out)\n",
    "    errs.append(err)"
   ]
  },
  {
   "cell_type": "code",
   "execution_count": null,
   "metadata": {},
   "outputs": [],
   "source": []
  },
  {
   "cell_type": "code",
   "execution_count": null,
   "metadata": {},
   "outputs": [],
   "source": []
  },
  {
   "cell_type": "code",
   "execution_count": null,
   "metadata": {},
   "outputs": [],
   "source": []
  },
  {
   "cell_type": "code",
   "execution_count": null,
   "metadata": {},
   "outputs": [],
   "source": []
  },
  {
   "cell_type": "code",
   "execution_count": null,
   "metadata": {},
   "outputs": [],
   "source": []
  },
  {
   "cell_type": "code",
   "execution_count": null,
   "metadata": {},
   "outputs": [],
   "source": []
  },
  {
   "cell_type": "code",
   "execution_count": null,
   "metadata": {},
   "outputs": [],
   "source": []
  },
  {
   "cell_type": "code",
   "execution_count": null,
   "metadata": {},
   "outputs": [],
   "source": []
  },
  {
   "cell_type": "code",
   "execution_count": null,
   "metadata": {},
   "outputs": [],
   "source": []
  },
  {
   "cell_type": "code",
   "execution_count": 53,
   "metadata": {
    "ExecuteTime": {
     "end_time": "2019-01-28T07:46:06.200704Z",
     "start_time": "2019-01-28T07:46:06.173451Z"
    }
   },
   "outputs": [],
   "source": [
    "def get_sample(df_path: str, sample_name: str) -> pd.Series:\n",
    "    \"\"\"\n",
    "    Loads dataframe containing sample and returns sample\n",
    "\n",
    "    Args:\n",
    "        df_path: Path to DataFrame containing sample\n",
    "        sample_name: Name of sample in the index of the DataFrame\n",
    "\n",
    "    Returns:\n",
    "        Sample vector\n",
    "    \"\"\"\n",
    "    if df_path.endswith('.csv'):\n",
    "        df = pd.read_csv(df_path, index_col=0)\n",
    "    elif df_path.endswith('.tsv'):\n",
    "        df = pd.read_csv(df_path, sep='\\t', index_col=0)\n",
    "    else:\n",
    "        try:\n",
    "            df = pd.read_hdf(df_path)\n",
    "        except:\n",
    "            raise RuntimeError(f\"Failed to open DataFrame: {df_path}\")\n",
    "\n",
    "    if sample_name in df.index:\n",
    "        return df.loc[sample_name]\n",
    "    else:\n",
    "        raise RuntimeError(f\"Sample {sample_name} not located in index of DataFrame {df_path}\")\n",
    "\n",
    "\n",
    "def load_df(df_path: str) -> pd.DataFrame:\n",
    "    \"\"\"\n",
    "    Load background DataFrame\n",
    "\n",
    "    Args:\n",
    "        df_path: Path to DataFrame\n",
    "\n",
    "    Returns:\n",
    "        Background DataFrame\n",
    "    \"\"\"\n",
    "    if df_path.endswith('.csv'):\n",
    "        df = pd.read_csv(df_path, index_col=0)\n",
    "    elif df_path.endswith('.tsv'):\n",
    "        df = pd.read_csv(df_path, sep='\\t', index_col=0)\n",
    "    else:\n",
    "        try:\n",
    "            df = pd.read_hdf(df_path)\n",
    "        except:\n",
    "            raise RuntimeError(f\"Failed to open DataFrame: {df_path}\")\n",
    "    return df\n",
    "\n",
    "\n",
    "from sklearn.metrics import pairwise_distances\n",
    "def pairwise_distance_ranks(sample: pd.Series, df: pd.DataFrame, genes, group: str) -> pd.DataFrame:\n",
    "    \"\"\"\n",
    "    Calculate pairwise distance, rank, and take group median\n",
    "\n",
    "    Args:\n",
    "        sample: n-of-1 sample. Gets own label\n",
    "        df: background dataset\n",
    "        genes: genes to use for pairwise distance\n",
    "        group: Column to use as class discriminator\n",
    "\n",
    "    Returns:\n",
    "        DataFrame of pairwise distance ranks\n",
    "    \"\"\"\n",
    "    dist = pairwise_distances(np.array(sample[genes]).reshape(1, -1), df[genes])\n",
    "    dist = pd.DataFrame([dist.ravel(), df[group]]).T\n",
    "    dist.columns = ['Distance', 'Group']\n",
    "    dist = dist.sort_values('Distance')\n",
    "\n",
    "    # Pandas-FU\n",
    "    dist = dist.reset_index(drop=True).reset_index()\n",
    "    return dist.groupby('Group').apply(lambda x: x['index'].median()).sort_values().reset_index(name='MedianRank')"
   ]
  },
  {
   "cell_type": "code",
   "execution_count": 55,
   "metadata": {
    "ExecuteTime": {
     "end_time": "2019-01-28T07:48:25.105416Z",
     "start_time": "2019-01-28T07:48:24.978635Z"
    }
   },
   "outputs": [
    {
     "ename": "AttributeError",
     "evalue": "'Series' object has no attribute 'endswith'",
     "output_type": "error",
     "traceback": [
      "\u001b[0;31m---------------------------------------------------------------------------\u001b[0m",
      "\u001b[0;31mAttributeError\u001b[0m                            Traceback (most recent call last)",
      "\u001b[0;32m<ipython-input-55-69eec810033d>\u001b[0m in \u001b[0;36m<module>\u001b[0;34m()\u001b[0m\n\u001b[0;32m----> 1\u001b[0;31m \u001b[0msample\u001b[0m \u001b[0;34m=\u001b[0m \u001b[0mget_sample\u001b[0m\u001b[0;34m(\u001b[0m\u001b[0msample\u001b[0m\u001b[0;34m,\u001b[0m \u001b[0;34m'alpha'\u001b[0m\u001b[0;34m)\u001b[0m\u001b[0;34m\u001b[0m\u001b[0m\n\u001b[0m",
      "\u001b[0;32m<ipython-input-53-cdca94be2d40>\u001b[0m in \u001b[0;36mget_sample\u001b[0;34m(df_path, sample_name)\u001b[0m\n\u001b[1;32m     10\u001b[0m         \u001b[0mSample\u001b[0m \u001b[0mvector\u001b[0m\u001b[0;34m\u001b[0m\u001b[0m\n\u001b[1;32m     11\u001b[0m     \"\"\"\n\u001b[0;32m---> 12\u001b[0;31m     \u001b[0;32mif\u001b[0m \u001b[0mdf_path\u001b[0m\u001b[0;34m.\u001b[0m\u001b[0mendswith\u001b[0m\u001b[0;34m(\u001b[0m\u001b[0;34m'.csv'\u001b[0m\u001b[0;34m)\u001b[0m\u001b[0;34m:\u001b[0m\u001b[0;34m\u001b[0m\u001b[0m\n\u001b[0m\u001b[1;32m     13\u001b[0m         \u001b[0mdf\u001b[0m \u001b[0;34m=\u001b[0m \u001b[0mpd\u001b[0m\u001b[0;34m.\u001b[0m\u001b[0mread_csv\u001b[0m\u001b[0;34m(\u001b[0m\u001b[0mdf_path\u001b[0m\u001b[0;34m,\u001b[0m \u001b[0mindex_col\u001b[0m\u001b[0;34m=\u001b[0m\u001b[0;36m0\u001b[0m\u001b[0;34m)\u001b[0m\u001b[0;34m\u001b[0m\u001b[0m\n\u001b[1;32m     14\u001b[0m     \u001b[0;32melif\u001b[0m \u001b[0mdf_path\u001b[0m\u001b[0;34m.\u001b[0m\u001b[0mendswith\u001b[0m\u001b[0;34m(\u001b[0m\u001b[0;34m'.tsv'\u001b[0m\u001b[0;34m)\u001b[0m\u001b[0;34m:\u001b[0m\u001b[0;34m\u001b[0m\u001b[0m\n",
      "\u001b[0;32m~/anaconda3/lib/python3.6/site-packages/pandas/core/generic.py\u001b[0m in \u001b[0;36m__getattr__\u001b[0;34m(self, name)\u001b[0m\n\u001b[1;32m   4370\u001b[0m             \u001b[0;32mif\u001b[0m \u001b[0mself\u001b[0m\u001b[0;34m.\u001b[0m\u001b[0m_info_axis\u001b[0m\u001b[0;34m.\u001b[0m\u001b[0m_can_hold_identifiers_and_holds_name\u001b[0m\u001b[0;34m(\u001b[0m\u001b[0mname\u001b[0m\u001b[0;34m)\u001b[0m\u001b[0;34m:\u001b[0m\u001b[0;34m\u001b[0m\u001b[0m\n\u001b[1;32m   4371\u001b[0m                 \u001b[0;32mreturn\u001b[0m \u001b[0mself\u001b[0m\u001b[0;34m[\u001b[0m\u001b[0mname\u001b[0m\u001b[0;34m]\u001b[0m\u001b[0;34m\u001b[0m\u001b[0m\n\u001b[0;32m-> 4372\u001b[0;31m             \u001b[0;32mreturn\u001b[0m \u001b[0mobject\u001b[0m\u001b[0;34m.\u001b[0m\u001b[0m__getattribute__\u001b[0m\u001b[0;34m(\u001b[0m\u001b[0mself\u001b[0m\u001b[0;34m,\u001b[0m \u001b[0mname\u001b[0m\u001b[0;34m)\u001b[0m\u001b[0;34m\u001b[0m\u001b[0m\n\u001b[0m\u001b[1;32m   4373\u001b[0m \u001b[0;34m\u001b[0m\u001b[0m\n\u001b[1;32m   4374\u001b[0m     \u001b[0;32mdef\u001b[0m \u001b[0m__setattr__\u001b[0m\u001b[0;34m(\u001b[0m\u001b[0mself\u001b[0m\u001b[0;34m,\u001b[0m \u001b[0mname\u001b[0m\u001b[0;34m,\u001b[0m \u001b[0mvalue\u001b[0m\u001b[0;34m)\u001b[0m\u001b[0;34m:\u001b[0m\u001b[0;34m\u001b[0m\u001b[0m\n",
      "\u001b[0;31mAttributeError\u001b[0m: 'Series' object has no attribute 'endswith'"
     ]
    }
   ],
   "source": [
    "sample = get_sample(sample, 'alpha')"
   ]
  },
  {
   "cell_type": "code",
   "execution_count": 42,
   "metadata": {
    "ExecuteTime": {
     "end_time": "2019-01-28T07:44:38.536753Z",
     "start_time": "2019-01-28T07:44:37.557297Z"
    }
   },
   "outputs": [],
   "source": [
    "df = load_df(background)"
   ]
  },
  {
   "cell_type": "code",
   "execution_count": 44,
   "metadata": {
    "ExecuteTime": {
     "end_time": "2019-01-28T07:44:53.290380Z",
     "start_time": "2019-01-28T07:44:53.284321Z"
    }
   },
   "outputs": [],
   "source": [
    "group = 'tissue'"
   ]
  },
  {
   "cell_type": "code",
   "execution_count": 45,
   "metadata": {
    "ExecuteTime": {
     "end_time": "2019-01-28T07:44:54.788778Z",
     "start_time": "2019-01-28T07:44:54.130915Z"
    }
   },
   "outputs": [],
   "source": [
    "df = df.sort_values(group)"
   ]
  },
  {
   "cell_type": "code",
   "execution_count": 54,
   "metadata": {
    "ExecuteTime": {
     "end_time": "2019-01-28T07:46:23.544841Z",
     "start_time": "2019-01-28T07:46:19.777079Z"
    }
   },
   "outputs": [],
   "source": [
    "ranks = pairwise_distance_ranks(sample, df, genes, group)"
   ]
  },
  {
   "cell_type": "code",
   "execution_count": 61,
   "metadata": {
    "ExecuteTime": {
     "end_time": "2019-01-28T08:00:44.977717Z",
     "start_time": "2019-01-28T08:00:44.970928Z"
    }
   },
   "outputs": [],
   "source": [
    "n_bg = 5 if 5 < len(ranks) else len(ranks)"
   ]
  },
  {
   "cell_type": "code",
   "execution_count": 63,
   "metadata": {
    "ExecuteTime": {
     "end_time": "2019-01-28T08:00:52.208695Z",
     "start_time": "2019-01-28T08:00:52.050612Z"
    }
   },
   "outputs": [],
   "source": [
    "train_set = df[df[group].isin(ranks.head(n_bg).Group)]"
   ]
  },
  {
   "cell_type": "code",
   "execution_count": null,
   "metadata": {},
   "outputs": [],
   "source": []
  }
 ],
 "metadata": {
  "hide_input": false,
  "kernelspec": {
   "display_name": "Python 3",
   "language": "python",
   "name": "python3"
  },
  "language_info": {
   "codemirror_mode": {
    "name": "ipython",
    "version": 3
   },
   "file_extension": ".py",
   "mimetype": "text/x-python",
   "name": "python",
   "nbconvert_exporter": "python",
   "pygments_lexer": "ipython3",
   "version": "3.6.5"
  },
  "toc": {
   "base_numbering": 1,
   "nav_menu": {},
   "number_sections": true,
   "sideBar": true,
   "skip_h1_title": false,
   "title_cell": "Table of Contents",
   "title_sidebar": "Contents",
   "toc_cell": false,
   "toc_position": {},
   "toc_section_display": true,
   "toc_window_display": true
  }
 },
 "nbformat": 4,
 "nbformat_minor": 2
}
