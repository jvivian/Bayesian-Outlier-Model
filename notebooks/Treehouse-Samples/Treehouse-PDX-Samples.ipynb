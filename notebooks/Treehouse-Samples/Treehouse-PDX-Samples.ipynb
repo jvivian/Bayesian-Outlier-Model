{
 "cells": [
  {
   "cell_type": "markdown",
   "metadata": {},
   "source": [
    "# Treehouse PDX Samples\n",
    "\n",
    "Run Treehouse PDX samples"
   ]
  },
  {
   "cell_type": "markdown",
   "metadata": {},
   "source": [
    "# Inputs"
   ]
  },
  {
   "cell_type": "code",
   "execution_count": 31,
   "metadata": {
    "ExecuteTime": {
     "end_time": "2019-01-28T07:35:55.769158Z",
     "start_time": "2019-01-28T07:35:44.781667Z"
    }
   },
   "outputs": [],
   "source": [
    "import pandas as pd\n",
    "\n",
    "import numpy as np\n",
    "import seaborn as sns\n",
    "import rnaseq_lib3 as r"
   ]
  },
  {
   "cell_type": "code",
   "execution_count": 7,
   "metadata": {
    "ExecuteTime": {
     "end_time": "2019-01-28T06:46:04.536156Z",
     "start_time": "2019-01-28T06:46:02.022216Z"
    }
   },
   "outputs": [],
   "source": [
    "df = pd.read_hdf('/mnt/data/expression/tcga_gtex_tpm_norm_filt.hd5')"
   ]
  },
  {
   "cell_type": "markdown",
   "metadata": {},
   "source": [
    "Process raw input"
   ]
  },
  {
   "cell_type": "code",
   "execution_count": 13,
   "metadata": {
    "ExecuteTime": {
     "end_time": "2019-01-28T06:49:44.209451Z",
     "start_time": "2019-01-28T06:49:34.846933Z"
    }
   },
   "outputs": [],
   "source": [
    "path = '/mnt/treehouse-pdx-outliers/Vivian-PDX-RSEM-TPM.tsv'\n",
    "pdx = pd.read_csv(path, sep='\\t', index_col=0)\n",
    "pdx = pdx.T\n",
    "# Subset genes\n",
    "pdx = pdx[df.columns[5:]]\n",
    "# Normalize\n",
    "pdx = pdx.apply(lambda x: np.log2(x + 1))"
   ]
  },
  {
   "cell_type": "code",
   "execution_count": 20,
   "metadata": {
    "ExecuteTime": {
     "end_time": "2019-01-28T07:17:47.298149Z",
     "start_time": "2019-01-28T07:17:46.616017Z"
    }
   },
   "outputs": [],
   "source": [
    "pdx.to_csv('/mnt/treehouse-pdx-outliers/pdx-samples-norm-filt.tsv', sep='\\t')"
   ]
  },
  {
   "cell_type": "markdown",
   "metadata": {},
   "source": [
    "# Run Samples"
   ]
  },
  {
   "cell_type": "code",
   "execution_count": 18,
   "metadata": {
    "ExecuteTime": {
     "end_time": "2019-01-28T07:16:09.453457Z",
     "start_time": "2019-01-28T07:16:09.447561Z"
    }
   },
   "outputs": [],
   "source": [
    "import subprocess"
   ]
  },
  {
   "cell_type": "code",
   "execution_count": 56,
   "metadata": {
    "ExecuteTime": {
     "end_time": "2019-01-28T07:48:39.183292Z",
     "start_time": "2019-01-28T07:48:39.175939Z"
    }
   },
   "outputs": [],
   "source": [
    "sample = '/mnt/treehouse-pdx-outliers/pdx-samples-norm-filt.tsv'\n",
    "background = '/mnt/data/expression/gtex.hd5'\n",
    "gene_list = '/mnt/Bayesian-Outlier-Model/data/drug-gene-list.txt'\n",
    "out_dir = '/mnt/treehouse-pdx-outliers/'\n",
    "col_skip = '5'"
   ]
  },
  {
   "cell_type": "code",
   "execution_count": 66,
   "metadata": {
    "ExecuteTime": {
     "end_time": "2019-01-29T01:23:13.396153Z",
     "start_time": "2019-01-28T17:31:32.830629Z"
    },
    "scrolled": true
   },
   "outputs": [],
   "source": [
    "sample_names = ['alpha', 'beta', 'gamma', 'delta', 'epsilon', 'zeta', 'eta', 'theta', 'iota']\n",
    "outs, errs = [], []\n",
    "for sample_name in sample_names:\n",
    "    call = ['outlier-model',\n",
    "            '--sample', sample,\n",
    "            '--background', background,\n",
    "            '--name', sample_name,\n",
    "            '--gene-list', gene_list,\n",
    "            '--out-dir', out_dir,\n",
    "            '--col-skip', col_skip]\n",
    "    p = subprocess.Popen(call, stdout=subprocess.PIPE, stderr=subprocess.PIPE)\n",
    "    out, err = p.communicate()\n",
    "    outs.append(out)\n",
    "    errs.append(err)"
   ]
  }
 ],
 "metadata": {
  "hide_input": false,
  "kernelspec": {
   "display_name": "Python 3",
   "language": "python",
   "name": "python3"
  },
  "language_info": {
   "codemirror_mode": {
    "name": "ipython",
    "version": 3
   },
   "file_extension": ".py",
   "mimetype": "text/x-python",
   "name": "python",
   "nbconvert_exporter": "python",
   "pygments_lexer": "ipython3",
   "version": "3.6.5"
  },
  "toc": {
   "base_numbering": 1,
   "nav_menu": {},
   "number_sections": true,
   "sideBar": true,
   "skip_h1_title": false,
   "title_cell": "Table of Contents",
   "title_sidebar": "Contents",
   "toc_cell": false,
   "toc_position": {
    "height": "calc(100% - 180px)",
    "left": "10px",
    "top": "150px",
    "width": "229px"
   },
   "toc_section_display": true,
   "toc_window_display": true
  }
 },
 "nbformat": 4,
 "nbformat_minor": 2
}
