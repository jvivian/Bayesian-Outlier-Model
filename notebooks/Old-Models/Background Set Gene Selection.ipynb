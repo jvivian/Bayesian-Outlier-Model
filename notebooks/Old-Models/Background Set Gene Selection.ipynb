{
 "cells": [
  {
   "cell_type": "markdown",
   "metadata": {},
   "source": [
    "# Background Set Gene Selection"
   ]
  },
  {
   "cell_type": "code",
   "execution_count": 1,
   "metadata": {
    "ExecuteTime": {
     "end_time": "2018-10-22T17:58:00.320024Z",
     "start_time": "2018-10-22T17:56:52.605414Z"
    }
   },
   "outputs": [],
   "source": [
    "import numpy as np\n",
    "import pandas as pd\n",
    "from sklearn.discriminant_analysis import LinearDiscriminantAnalysis"
   ]
  },
  {
   "cell_type": "markdown",
   "metadata": {},
   "source": [
    "# Inputs"
   ]
  },
  {
   "cell_type": "code",
   "execution_count": 2,
   "metadata": {
    "ExecuteTime": {
     "end_time": "2018-10-22T17:58:51.436397Z",
     "start_time": "2018-10-22T17:58:00.326841Z"
    }
   },
   "outputs": [
    {
     "data": {
      "text/html": [
       "<div>\n",
       "<style scoped>\n",
       "    .dataframe tbody tr th:only-of-type {\n",
       "        vertical-align: middle;\n",
       "    }\n",
       "\n",
       "    .dataframe tbody tr th {\n",
       "        vertical-align: top;\n",
       "    }\n",
       "\n",
       "    .dataframe thead th {\n",
       "        text-align: right;\n",
       "    }\n",
       "</style>\n",
       "<table border=\"1\" class=\"dataframe\">\n",
       "  <thead>\n",
       "    <tr style=\"text-align: right;\">\n",
       "      <th></th>\n",
       "      <th>id</th>\n",
       "      <th>tissue</th>\n",
       "      <th>subtype</th>\n",
       "      <th>tumor</th>\n",
       "      <th>label</th>\n",
       "      <th>RP11-40C6.2</th>\n",
       "      <th>IGHG1</th>\n",
       "      <th>IGKC</th>\n",
       "      <th>KRT5</th>\n",
       "      <th>IGLC2</th>\n",
       "      <th>...</th>\n",
       "      <th>IGHEP1</th>\n",
       "      <th>RP11-44N21.4</th>\n",
       "      <th>GAPDHP61</th>\n",
       "      <th>P2RX5-TAX1BP3</th>\n",
       "      <th>RP11-408H20.3</th>\n",
       "      <th>RP13-726E6.2</th>\n",
       "      <th>CTB-43E15.1</th>\n",
       "      <th>ZNF878</th>\n",
       "      <th>OR2H2</th>\n",
       "      <th>RP4-530I15.9</th>\n",
       "    </tr>\n",
       "  </thead>\n",
       "  <tbody>\n",
       "    <tr>\n",
       "      <th>GTEX-UTHO-1226-SM-3GAEE</th>\n",
       "      <td>GTEX-UTHO-1226-SM-3GAEE</td>\n",
       "      <td>Heart</td>\n",
       "      <td>Heart_Atrial_Appendage</td>\n",
       "      <td>no</td>\n",
       "      <td>gtex</td>\n",
       "      <td>0.000000</td>\n",
       "      <td>10.302941</td>\n",
       "      <td>10.712460</td>\n",
       "      <td>2.750618</td>\n",
       "      <td>7.780669</td>\n",
       "      <td>...</td>\n",
       "      <td>0.000000</td>\n",
       "      <td>0.0</td>\n",
       "      <td>0.0</td>\n",
       "      <td>0.150556</td>\n",
       "      <td>0.0</td>\n",
       "      <td>0.000000</td>\n",
       "      <td>0.0</td>\n",
       "      <td>0.070387</td>\n",
       "      <td>0.790754</td>\n",
       "      <td>0.815589</td>\n",
       "    </tr>\n",
       "    <tr>\n",
       "      <th>GTEX-146FH-1726-SM-5QGQ2</th>\n",
       "      <td>GTEX-146FH-1726-SM-5QGQ2</td>\n",
       "      <td>Esophagus</td>\n",
       "      <td>Esophagus_Mucosa</td>\n",
       "      <td>no</td>\n",
       "      <td>gtex</td>\n",
       "      <td>2.970847</td>\n",
       "      <td>8.778885</td>\n",
       "      <td>10.445933</td>\n",
       "      <td>12.393268</td>\n",
       "      <td>8.440056</td>\n",
       "      <td>...</td>\n",
       "      <td>0.176318</td>\n",
       "      <td>0.0</td>\n",
       "      <td>0.0</td>\n",
       "      <td>0.411426</td>\n",
       "      <td>0.0</td>\n",
       "      <td>0.176318</td>\n",
       "      <td>0.0</td>\n",
       "      <td>0.622930</td>\n",
       "      <td>0.042644</td>\n",
       "      <td>0.378503</td>\n",
       "    </tr>\n",
       "  </tbody>\n",
       "</table>\n",
       "<p>2 rows × 26549 columns</p>\n",
       "</div>"
      ],
      "text/plain": [
       "                                                id     tissue  \\\n",
       "GTEX-UTHO-1226-SM-3GAEE    GTEX-UTHO-1226-SM-3GAEE      Heart   \n",
       "GTEX-146FH-1726-SM-5QGQ2  GTEX-146FH-1726-SM-5QGQ2  Esophagus   \n",
       "\n",
       "                                         subtype tumor label  RP11-40C6.2  \\\n",
       "GTEX-UTHO-1226-SM-3GAEE   Heart_Atrial_Appendage    no  gtex     0.000000   \n",
       "GTEX-146FH-1726-SM-5QGQ2        Esophagus_Mucosa    no  gtex     2.970847   \n",
       "\n",
       "                              IGHG1       IGKC       KRT5     IGLC2  \\\n",
       "GTEX-UTHO-1226-SM-3GAEE   10.302941  10.712460   2.750618  7.780669   \n",
       "GTEX-146FH-1726-SM-5QGQ2   8.778885  10.445933  12.393268  8.440056   \n",
       "\n",
       "                              ...         IGHEP1  RP11-44N21.4  GAPDHP61  \\\n",
       "GTEX-UTHO-1226-SM-3GAEE       ...       0.000000           0.0       0.0   \n",
       "GTEX-146FH-1726-SM-5QGQ2      ...       0.176318           0.0       0.0   \n",
       "\n",
       "                          P2RX5-TAX1BP3  RP11-408H20.3  RP13-726E6.2  \\\n",
       "GTEX-UTHO-1226-SM-3GAEE        0.150556            0.0      0.000000   \n",
       "GTEX-146FH-1726-SM-5QGQ2       0.411426            0.0      0.176318   \n",
       "\n",
       "                          CTB-43E15.1    ZNF878     OR2H2  RP4-530I15.9  \n",
       "GTEX-UTHO-1226-SM-3GAEE           0.0  0.070387  0.790754      0.815589  \n",
       "GTEX-146FH-1726-SM-5QGQ2          0.0  0.622930  0.042644      0.378503  \n",
       "\n",
       "[2 rows x 26549 columns]"
      ]
     },
     "execution_count": 2,
     "metadata": {},
     "output_type": "execute_result"
    }
   ],
   "source": [
    "df = pd.read_hdf('/mnt/data/Objects/tcga_gtex_tpm_norm_filt.hd5')\n",
    "df.head(2)"
   ]
  },
  {
   "cell_type": "markdown",
   "metadata": {},
   "source": [
    "Subsets"
   ]
  },
  {
   "cell_type": "code",
   "execution_count": 3,
   "metadata": {
    "ExecuteTime": {
     "end_time": "2018-10-22T17:59:56.052102Z",
     "start_time": "2018-10-22T17:59:54.306182Z"
    }
   },
   "outputs": [],
   "source": [
    "gtex = df[df.label == 'gtex']\n",
    "normal = df[df.label == 'tcga-normal']\n",
    "tumor = df[df.label == 'tcga-tumor']"
   ]
  },
  {
   "cell_type": "markdown",
   "metadata": {},
   "source": [
    "# LDA GTEx"
   ]
  },
  {
   "cell_type": "code",
   "execution_count": 7,
   "metadata": {
    "ExecuteTime": {
     "end_time": "2018-10-22T18:13:05.387603Z",
     "start_time": "2018-10-22T18:01:39.472372Z"
    }
   },
   "outputs": [
    {
     "name": "stderr",
     "output_type": "stream",
     "text": [
      "/home/ubuntu/anaconda3/envs/pan-normal/lib/python3.6/site-packages/sklearn/discriminant_analysis.py:442: UserWarning: The priors do not sum to 1. Renormalizing\n",
      "  UserWarning)\n",
      "/home/ubuntu/anaconda3/envs/pan-normal/lib/python3.6/site-packages/sklearn/discriminant_analysis.py:388: UserWarning: Variables are collinear.\n",
      "  warnings.warn(\"Variables are collinear.\")\n"
     ]
    },
    {
     "data": {
      "text/plain": [
       "LinearDiscriminantAnalysis(n_components=None, priors=None, shrinkage=None,\n",
       "              solver='svd', store_covariance=False, tol=0.0001)"
      ]
     },
     "execution_count": 7,
     "metadata": {},
     "output_type": "execute_result"
    }
   ],
   "source": [
    "genes = df.columns[5:]\n",
    "clf = LinearDiscriminantAnalysis()\n",
    "clf.fit(gtex[genes], gtex.tissue)"
   ]
  },
  {
   "cell_type": "code",
   "execution_count": 9,
   "metadata": {
    "ExecuteTime": {
     "end_time": "2018-10-22T18:13:36.848571Z",
     "start_time": "2018-10-22T18:13:36.838360Z"
    }
   },
   "outputs": [
    {
     "data": {
      "text/plain": [
       "(31, 26544)"
      ]
     },
     "execution_count": 9,
     "metadata": {},
     "output_type": "execute_result"
    }
   ],
   "source": [
    "clf.coef_.shape"
   ]
  },
  {
   "cell_type": "code",
   "execution_count": 19,
   "metadata": {
    "ExecuteTime": {
     "end_time": "2018-10-22T18:37:58.708808Z",
     "start_time": "2018-10-22T18:37:58.621662Z"
    }
   },
   "outputs": [
    {
     "data": {
      "text/html": [
       "<div>\n",
       "<style scoped>\n",
       "    .dataframe tbody tr th:only-of-type {\n",
       "        vertical-align: middle;\n",
       "    }\n",
       "\n",
       "    .dataframe tbody tr th {\n",
       "        vertical-align: top;\n",
       "    }\n",
       "\n",
       "    .dataframe thead th {\n",
       "        text-align: right;\n",
       "    }\n",
       "</style>\n",
       "<table border=\"1\" class=\"dataframe\">\n",
       "  <thead>\n",
       "    <tr style=\"text-align: right;\">\n",
       "      <th></th>\n",
       "      <th>gene</th>\n",
       "      <th>coef</th>\n",
       "    </tr>\n",
       "  </thead>\n",
       "  <tbody>\n",
       "    <tr>\n",
       "      <th>19597</th>\n",
       "      <td>LAMTOR5</td>\n",
       "      <td>328292.839159</td>\n",
       "    </tr>\n",
       "    <tr>\n",
       "      <th>17542</th>\n",
       "      <td>FAU</td>\n",
       "      <td>327657.246919</td>\n",
       "    </tr>\n",
       "    <tr>\n",
       "      <th>25447</th>\n",
       "      <td>HMGN2P17</td>\n",
       "      <td>315865.812769</td>\n",
       "    </tr>\n",
       "    <tr>\n",
       "      <th>11381</th>\n",
       "      <td>RPS27</td>\n",
       "      <td>309922.845085</td>\n",
       "    </tr>\n",
       "    <tr>\n",
       "      <th>12872</th>\n",
       "      <td>EIF3B</td>\n",
       "      <td>298222.547032</td>\n",
       "    </tr>\n",
       "  </tbody>\n",
       "</table>\n",
       "</div>"
      ],
      "text/plain": [
       "           gene           coef\n",
       "19597   LAMTOR5  328292.839159\n",
       "17542       FAU  327657.246919\n",
       "25447  HMGN2P17  315865.812769\n",
       "11381     RPS27  309922.845085\n",
       "12872     EIF3B  298222.547032"
      ]
     },
     "execution_count": 19,
     "metadata": {},
     "output_type": "execute_result"
    }
   ],
   "source": [
    "gtex_coef = pd.DataFrame({'gene': genes, 'coef': np.median(clf.coef_, axis=0)})\n",
    "gtex_coef = gtex_coef.sort_values('coef', ascending=False)\n",
    "gtex_coef.geneee[:50]"
   ]
  },
  {
   "cell_type": "markdown",
   "metadata": {},
   "source": [
    "# SelectKBest"
   ]
  },
  {
   "cell_type": "code",
   "execution_count": 20,
   "metadata": {
    "ExecuteTime": {
     "end_time": "2018-10-22T18:40:01.022330Z",
     "start_time": "2018-10-22T18:40:01.015290Z"
    }
   },
   "outputs": [],
   "source": [
    "from sklearn.feature_selection import SelectKBest"
   ]
  },
  {
   "cell_type": "code",
   "execution_count": 23,
   "metadata": {
    "ExecuteTime": {
     "end_time": "2018-10-22T18:40:51.445477Z",
     "start_time": "2018-10-22T18:40:46.440219Z"
    }
   },
   "outputs": [],
   "source": [
    "k = SelectKBest(k=50)\n",
    "kbest = k.fit_transform(gtex[genes], gtex.tissue)\n",
    "feature_names = [df.columns[5:][i] for i in k.get_support(indices=True)]"
   ]
  }
 ],
 "metadata": {
  "hide_input": false,
  "kernelspec": {
   "display_name": "Python 3",
   "language": "python",
   "name": "python3"
  },
  "language_info": {
   "codemirror_mode": {
    "name": "ipython",
    "version": 3
   },
   "file_extension": ".py",
   "mimetype": "text/x-python",
   "name": "python",
   "nbconvert_exporter": "python",
   "pygments_lexer": "ipython3",
   "version": "3.6.6"
  },
  "toc": {
   "base_numbering": 1,
   "nav_menu": {},
   "number_sections": true,
   "sideBar": true,
   "skip_h1_title": false,
   "title_cell": "Table of Contents",
   "title_sidebar": "Contents",
   "toc_cell": false,
   "toc_position": {},
   "toc_section_display": true,
   "toc_window_display": true
  }
 },
 "nbformat": 4,
 "nbformat_minor": 2
}
