{
 "cells": [
  {
   "cell_type": "markdown",
   "metadata": {},
   "source": [
    "# Figures for Slides"
   ]
  },
  {
   "cell_type": "code",
   "execution_count": 29,
   "metadata": {
    "ExecuteTime": {
     "end_time": "2018-11-14T08:54:19.775460Z",
     "start_time": "2018-11-14T08:54:19.767939Z"
    }
   },
   "outputs": [],
   "source": [
    "import pandas as pd\n",
    "import numpy as np\n",
    "import seaborn as sns\n",
    "import matplotlib.pyplot as plt"
   ]
  },
  {
   "cell_type": "markdown",
   "metadata": {},
   "source": [
    "# Input"
   ]
  },
  {
   "cell_type": "code",
   "execution_count": 38,
   "metadata": {
    "ExecuteTime": {
     "end_time": "2018-11-14T08:56:20.572619Z",
     "start_time": "2018-11-14T08:56:13.949169Z"
    }
   },
   "outputs": [],
   "source": [
    "# Read in centered data\n",
    "df = pd.read_hdf('/mnt/data/expression/tcga_gtex_tpm_norm_filt_centered.hd5')\n",
    "# Subset\n",
    "gtex = df[df.label == 'gtex'].sort_values('tissue')\n",
    "normal = df[df.label == 'tcga-normal'].sort_values('tissue')\n",
    "tumor = df[df.label == 'tcga-tumor'].sort_values('tissue')\n",
    "# Read in drug genes\n",
    "drug_genes = [x.split('\\t')[0] for x in open('../../data/druggable-genes.tsv', 'r').readlines()]\n",
    "drug_genes = [x for x in drug_genes if x in df.columns]"
   ]
  },
  {
   "cell_type": "markdown",
   "metadata": {},
   "source": [
    "# Parameter Count"
   ]
  },
  {
   "cell_type": "code",
   "execution_count": 1,
   "metadata": {
    "ExecuteTime": {
     "end_time": "2018-11-13T19:49:26.798993Z",
     "start_time": "2018-11-13T19:49:26.792148Z"
    }
   },
   "outputs": [],
   "source": [
    "def num_params(n_genes, n_datasets):\n",
    "    if n_datasets == 1:\n",
    "        return 3 + n_genes*2\n",
    "    else:\n",
    "        return 4 + n_datasets + n_genes*2"
   ]
  },
  {
   "cell_type": "code",
   "execution_count": 9,
   "metadata": {
    "ExecuteTime": {
     "end_time": "2018-11-13T19:52:47.535289Z",
     "start_time": "2018-11-13T19:52:47.508199Z"
    }
   },
   "outputs": [],
   "source": [
    "arr = []\n",
    "for j in range(500):\n",
    "    ar = []\n",
    "    for k in range(31):\n",
    "        ar.append(num_params(j, k))\n",
    "    arr.append(ar)"
   ]
  },
  {
   "cell_type": "code",
   "execution_count": 16,
   "metadata": {
    "ExecuteTime": {
     "end_time": "2018-11-13T19:53:38.244965Z",
     "start_time": "2018-11-13T19:53:38.215414Z"
    }
   },
   "outputs": [],
   "source": [
    "arr = pd.DataFrame(arr)\n",
    "sns.kdeplot(arr, shade=True)"
   ]
  },
  {
   "cell_type": "markdown",
   "metadata": {},
   "source": [
    "# Right-Tailed Gene Expression"
   ]
  },
  {
   "cell_type": "code",
   "execution_count": 27,
   "metadata": {
    "ExecuteTime": {
     "end_time": "2018-11-14T08:53:59.975501Z",
     "start_time": "2018-11-14T08:53:59.942615Z"
    }
   },
   "outputs": [],
   "source": [
    "genes = df.columns[5:]\n",
    "sample_genes = np.random.choice(genes, 5, replace=False)"
   ]
  },
  {
   "cell_type": "code",
   "execution_count": 31,
   "metadata": {
    "ExecuteTime": {
     "end_time": "2018-11-14T08:54:46.241765Z",
     "start_time": "2018-11-14T08:54:45.461088Z"
    }
   },
   "outputs": [
    {
     "data": {
      "text/plain": [
       "<matplotlib.axes._subplots.AxesSubplot at 0x7f8451a2b400>"
      ]
     },
     "execution_count": 31,
     "metadata": {},
     "output_type": "execute_result"
    },
    {
     "data": {
      "image/png": "[encoded data removed]",
      "text/plain": [
       "<Figure size 432x288 with 1 Axes>"
      ]
     },
     "metadata": {},
     "output_type": "display_data"
    }
   ],
   "source": [
    "sns.kdeplot(df[df.columns[10]], shade=True)"
   ]
  },
  {
   "cell_type": "code",
   "execution_count": 36,
   "metadata": {
    "ExecuteTime": {
     "end_time": "2018-11-14T08:55:22.590613Z",
     "start_time": "2018-11-14T08:55:22.185626Z"
    }
   },
   "outputs": [
    {
     "data": {
      "text/plain": [
       "<matplotlib.axes._subplots.AxesSubplot at 0x7f8451781c50>"
      ]
     },
     "execution_count": 36,
     "metadata": {},
     "output_type": "execute_result"
    },
    {
     "data": {
      "image/png": "[encoded data removed]",
      "text/plain": [
       "<Figure size 432x288 with 1 Axes>"
      ]
     },
     "metadata": {},
     "output_type": "display_data"
    }
   ],
   "source": [
    "sns.kdeplot(df.ARAF, shade=True)"
   ]
  },
  {
   "cell_type": "code",
   "execution_count": null,
   "metadata": {},
   "outputs": [],
   "source": []
  }
 ],
 "metadata": {
  "hide_input": false,
  "kernelspec": {
   "display_name": "Python 3",
   "language": "python",
   "name": "python3"
  },
  "language_info": {
   "codemirror_mode": {
    "name": "ipython",
    "version": 3
   },
   "file_extension": ".py",
   "mimetype": "text/x-python",
   "name": "python",
   "nbconvert_exporter": "python",
   "pygments_lexer": "ipython3",
   "version": "3.6.5"
  },
  "toc": {
   "base_numbering": 1,
   "nav_menu": {},
   "number_sections": true,
   "sideBar": true,
   "skip_h1_title": false,
   "title_cell": "Table of Contents",
   "title_sidebar": "Contents",
   "toc_cell": false,
   "toc_position": {},
   "toc_section_display": true,
   "toc_window_display": true
  }
 },
 "nbformat": 4,
 "nbformat_minor": 2
}
