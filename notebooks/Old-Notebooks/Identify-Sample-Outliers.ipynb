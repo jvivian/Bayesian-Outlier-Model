{
 "cells": [
  {
   "cell_type": "markdown",
   "metadata": {},
   "source": [
    "# Identify Sample Outliers\n",
    "\n",
    "Via the Hogg Method, as shown in this link: https://docs.pymc.io/notebooks/GLM-robust-with-outlier-detection.html\n"
   ]
  },
  {
   "cell_type": "markdown",
   "metadata": {},
   "source": [
    "# Inputs"
   ]
  },
  {
   "cell_type": "code",
   "execution_count": 6,
   "metadata": {
    "ExecuteTime": {
     "end_time": "2019-01-20T22:47:31.985094Z",
     "start_time": "2019-01-20T22:47:26.057541Z"
    }
   },
   "outputs": [
    {
     "name": "stdout",
     "output_type": "stream",
     "text": [
      "Requirement already satisfied: trimap in /home/ubuntu/anaconda3/lib/python3.6/site-packages (1.4.3.dev1)\n",
      "Requirement already satisfied: numba>=0.34 in /home/ubuntu/.local/lib/python3.6/site-packages (from trimap) (0.41.0)\n",
      "Requirement already satisfied: scikit-learn>=0.16 in /home/ubuntu/anaconda3/lib/python3.6/site-packages (from trimap) (0.19.1)\n",
      "Requirement already satisfied: annoy>=1.11 in /home/ubuntu/anaconda3/lib/python3.6/site-packages (from trimap) (1.13.0)\n",
      "Requirement already satisfied: llvmlite>=0.26.0dev0 in /home/ubuntu/.local/lib/python3.6/site-packages (from numba>=0.34->trimap) (0.26.0)\n",
      "Requirement already satisfied: numpy in /home/ubuntu/anaconda3/lib/python3.6/site-packages (from numba>=0.34->trimap) (1.14.3)\n"
     ]
    }
   ],
   "source": [
    "!pip install trimap"
   ]
  },
  {
   "cell_type": "code",
   "execution_count": 5,
   "metadata": {
    "ExecuteTime": {
     "end_time": "2019-01-20T22:46:55.229558Z",
     "start_time": "2019-01-20T22:46:55.218949Z"
    }
   },
   "outputs": [],
   "source": [
    "import rnaseq_lib3 as r\n",
    "import pandas as pd\n",
    "import scipy.stats as st\n",
    "import pymc3 as pm\n",
    "import numpy as np\n",
    "import time\n",
    "from tqdm import tqdm_notebook as tqdm\n",
    "\n",
    "from sklearn.decomposition import PCA\n",
    "import trimap\n",
    "\n",
    "import seaborn as sns\n",
    "import matplotlib.pyplot as plt"
   ]
  },
  {
   "cell_type": "code",
   "execution_count": 3,
   "metadata": {
    "ExecuteTime": {
     "end_time": "2019-01-18T06:51:03.764540Z",
     "start_time": "2019-01-18T06:50:57.872680Z"
    }
   },
   "outputs": [],
   "source": [
    "# Read in centered data\n",
    "df = pd.read_hdf('/mnt/data/expression/tcga_gtex_tpm_norm_filt.hd5')\n",
    "# Subset\n",
    "gtex = df[df.label == 'gtex'].sort_values('tissue')\n",
    "normal = df[df.label == 'tcga-normal'].sort_values('tissue')\n",
    "tumor = df[df.label == 'tcga-tumor'].sort_values('tissue')\n",
    "# Read in drug genes\n",
    "genes = df.columns[5:]\n",
    "drug_genes = [x.split('\\t')[0] for x in open('../data/druggable-genes.tsv', 'r').readlines()]\n",
    "drug_genes = [x for x in drug_genes if x in df.columns]"
   ]
  },
  {
   "cell_type": "markdown",
   "metadata": {},
   "source": [
    "# PCA"
   ]
  },
  {
   "cell_type": "code",
   "execution_count": null,
   "metadata": {},
   "outputs": [],
   "source": []
  },
  {
   "cell_type": "code",
   "execution_count": null,
   "metadata": {},
   "outputs": [],
   "source": []
  },
  {
   "cell_type": "code",
   "execution_count": null,
   "metadata": {},
   "outputs": [],
   "source": []
  },
  {
   "cell_type": "code",
   "execution_count": null,
   "metadata": {},
   "outputs": [],
   "source": []
  }
 ],
 "metadata": {
  "hide_input": false,
  "kernelspec": {
   "display_name": "Python 3",
   "language": "python",
   "name": "python3"
  },
  "language_info": {
   "codemirror_mode": {
    "name": "ipython",
    "version": 3
   },
   "file_extension": ".py",
   "mimetype": "text/x-python",
   "name": "python",
   "nbconvert_exporter": "python",
   "pygments_lexer": "ipython3",
   "version": "3.6.5"
  },
  "toc": {
   "base_numbering": 1,
   "nav_menu": {},
   "number_sections": true,
   "sideBar": true,
   "skip_h1_title": false,
   "title_cell": "Table of Contents",
   "title_sidebar": "Contents",
   "toc_cell": false,
   "toc_position": {},
   "toc_section_display": true,
   "toc_window_display": true
  }
 },
 "nbformat": 4,
 "nbformat_minor": 2
}
