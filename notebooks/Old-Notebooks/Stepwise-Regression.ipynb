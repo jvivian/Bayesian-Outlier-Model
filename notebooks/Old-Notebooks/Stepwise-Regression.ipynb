{
 "cells": [
  {
   "cell_type": "markdown",
   "metadata": {},
   "source": [
    "# Stepwise Regression for Variable Selection\n",
    "\n",
    "Explore stepwise regression as a method for variable selection\n",
    "\n",
    "1. Run 1-parameter model for each dataset\n",
    "2. Calculate WAIC"
   ]
  },
  {
   "cell_type": "code",
   "execution_count": 2,
   "metadata": {
    "ExecuteTime": {
     "end_time": "2019-01-26T05:24:45.699904Z",
     "start_time": "2019-01-26T05:24:34.115111Z"
    }
   },
   "outputs": [
    {
     "name": "stderr",
     "output_type": "stream",
     "text": [
      "/home/ubuntu/anaconda3/lib/python3.6/site-packages/h5py/__init__.py:36: FutureWarning: Conversion of the second argument of issubdtype from `float` to `np.floating` is deprecated. In future, it will be treated as `np.float64 == np.dtype(float).type`.\n",
      "  from ._conv import register_converters as _register_converters\n",
      "/home/ubuntu/anaconda3/lib/python3.6/site-packages/tqdm/autonotebook/__init__.py:14: TqdmExperimentalWarning: Using `tqdm.autonotebook.tqdm` in notebook mode. Use `tqdm.tqdm` instead to force console mode (e.g. in jupyter console)\n",
      "  \" (e.g. in jupyter console)\", TqdmExperimentalWarning)\n"
     ]
    }
   ],
   "source": [
    "import rnaseq_lib3 as r\n",
    "import pandas as pd\n",
    "import pymc3 as pm\n",
    "\n",
    "from collections import OrderedDict"
   ]
  },
  {
   "cell_type": "markdown",
   "metadata": {},
   "source": [
    "# Inputs"
   ]
  },
  {
   "cell_type": "code",
   "execution_count": 4,
   "metadata": {
    "ExecuteTime": {
     "end_time": "2019-01-26T05:25:10.476725Z",
     "start_time": "2019-01-26T05:25:04.208929Z"
    }
   },
   "outputs": [],
   "source": [
    "# Read in centered data\n",
    "df = pd.read_hdf('/mnt/data/expression/tcga_gtex_tpm_norm_filt.hd5')\n",
    "# Subset\n",
    "gtex = df[df.label == 'gtex'].sort_values('tissue')\n",
    "normal = df[df.label == 'tcga-normal'].sort_values('tissue')\n",
    "tumor = df[df.label == 'tcga-tumor'].sort_values('tissue')\n",
    "# Read in drug genes\n",
    "genes = df.columns[5:]\n",
    "drug_genes = [x.split('\\t')[0] for x in open('../data/druggable-genes.tsv', 'r').readlines()]\n",
    "drug_genes = [x for x in drug_genes if x in df.columns]"
   ]
  },
  {
   "cell_type": "code",
   "execution_count": 11,
   "metadata": {
    "ExecuteTime": {
     "end_time": "2019-01-26T05:25:51.596409Z",
     "start_time": "2019-01-26T05:25:51.533505Z"
    }
   },
   "outputs": [
    {
     "name": "stdout",
     "output_type": "stream",
     "text": [
      "Sample comes from tissue: Thyroid\n"
     ]
    }
   ],
   "source": [
    "sample = tumor.loc['TCGA-FY-A3I4-01']\n",
    "print(f\"Sample comes from tissue: {sample.tissue}\")"
   ]
  },
  {
   "cell_type": "code",
   "execution_count": 4,
   "metadata": {
    "ExecuteTime": {
     "end_time": "2019-01-23T00:59:48.785142Z",
     "start_time": "2019-01-23T00:59:48.133738Z"
    }
   },
   "outputs": [],
   "source": [
    "training_genes = r.outlier.select_k_best_genes(normal, genes, 'tissue')"
   ]
  },
  {
   "cell_type": "markdown",
   "metadata": {},
   "source": [
    "# Test — one parameter"
   ]
  },
  {
   "cell_type": "code",
   "execution_count": 5,
   "metadata": {
    "ExecuteTime": {
     "end_time": "2019-01-23T00:59:48.802341Z",
     "start_time": "2019-01-23T00:59:48.788115Z"
    }
   },
   "outputs": [],
   "source": [
    "thyroid = normal[normal.tissue == 'Thyroid']"
   ]
  },
  {
   "cell_type": "code",
   "execution_count": 6,
   "metadata": {
    "ExecuteTime": {
     "end_time": "2019-01-23T01:03:47.680667Z",
     "start_time": "2019-01-23T00:59:48.805367Z"
    },
    "scrolled": true
   },
   "outputs": [
    {
     "data": {
      "application/vnd.jupyter.widget-view+json": {
       "model_id": "8f9b85ab941f4638b07f13582f0098a4",
       "version_major": 2,
       "version_minor": 0
      },
      "text/plain": [
       "HBox(children=(IntProgress(value=0, max=50), HTML(value='')))"
      ]
     },
     "metadata": {},
     "output_type": "display_data"
    },
    {
     "name": "stderr",
     "output_type": "stream",
     "text": [
      "Auto-assigning NUTS sampler...\n",
      "Initializing NUTS using jitter+adapt_diag...\n"
     ]
    },
    {
     "name": "stdout",
     "output_type": "stream",
     "text": [
      "\n"
     ]
    },
    {
     "name": "stderr",
     "output_type": "stream",
     "text": [
      "Multiprocess sampling (4 chains in 4 jobs)\n",
      "NUTS: [PSMB11-Thyroid, GBP7-Thyroid, SLC22A9-Thyroid, UROC1-Thyroid, CA5A-Thyroid, SLITRK1-Thyroid, C3P1-Thyroid, SLCO1B1-Thyroid, SLC10A1-Thyroid, SLC25A47-Thyroid, LECT2-Thyroid, APOF-Thyroid, F9-Thyroid, POU3F2-Thyroid, UGT2B10-Thyroid, SHISA7-Thyroid, CPN1-Thyroid, C9-Thyroid, UGT1A4-Thyroid, C8A-Thyroid, HAO1-Thyroid, SERPINA7-Thyroid, SERPINA10-Thyroid, HGFAC-Thyroid, APOA5-Thyroid, CYP11B1-Thyroid, AKR1C4-Thyroid, VSTM2B-Thyroid, OTOS-Thyroid, BAAT-Thyroid, APOC4-Thyroid, CYP2C8-Thyroid, KCNJ9-Thyroid, SLC22A2-Thyroid, TFR2-Thyroid, F2-Thyroid, HRG-Thyroid, ITIH1-Thyroid, TSHR-Thyroid, CACNG7-Thyroid, SERPINC1-Thyroid, CTD-2182N23.1-Thyroid, SFTPD-Thyroid, AHSG-Thyroid, NKX2-1-Thyroid, SFTA3-Thyroid, SFTPA1-Thyroid, APOA2-Thyroid, SFTPA2-Thyroid, SFTPC-Thyroid, eps, a]\n",
      "Sampling 4 chains: 100%|██████████| 4000/4000 [01:00<00:00, 66.09draws/s] \n"
     ]
    }
   ],
   "source": [
    "thyroid_model, thyroid_trace = r.outlier.run_model(sample, thyroid, training_genes, 'tissue')"
   ]
  },
  {
   "cell_type": "code",
   "execution_count": 11,
   "metadata": {
    "ExecuteTime": {
     "end_time": "2019-01-23T01:18:54.731157Z",
     "start_time": "2019-01-23T01:16:04.129632Z"
    }
   },
   "outputs": [
    {
     "name": "stderr",
     "output_type": "stream",
     "text": [
      "2000it [02:47, 11.95it/s]\n"
     ]
    },
    {
     "data": {
      "text/plain": [
       "WAIC_r(WAIC=2.893472349476437, WAIC_se=45.06051298224947, p_WAIC=19.048133756112527, var_warn=1)"
      ]
     },
     "execution_count": 11,
     "metadata": {},
     "output_type": "execute_result"
    }
   ],
   "source": [
    "pm.waic(thyroid_trace, thyroid_model, progressbar=True)"
   ]
  },
  {
   "cell_type": "markdown",
   "metadata": {},
   "source": [
    "# Single Parameter Compare Test\n",
    "\n",
    "`pm.compare` workaround\n",
    "```\n",
    "MODEL_NAME_MAP = {\n",
    "    0: \"Model1\",\n",
    "    1: \"Model2\"\n",
    "}\n",
    "\n",
    "comp_df = (pm.compare([trace1, trace2], \n",
    "                      [model1, model2])\n",
    "             .rename(index=MODEL_NAME_MAP))\n",
    "```"
   ]
  },
  {
   "cell_type": "code",
   "execution_count": 19,
   "metadata": {
    "ExecuteTime": {
     "end_time": "2019-01-23T03:45:25.306905Z",
     "start_time": "2019-01-23T03:19:35.574336Z"
    },
    "scrolled": true
   },
   "outputs": [
    {
     "data": {
      "application/vnd.jupyter.widget-view+json": {
       "model_id": "46fa16c56fdb41288cc148c5b1503739",
       "version_major": 2,
       "version_minor": 0
      },
      "text/plain": [
       "HBox(children=(IntProgress(value=0, max=50), HTML(value='')))"
      ]
     },
     "metadata": {},
     "output_type": "display_data"
    },
    {
     "name": "stderr",
     "output_type": "stream",
     "text": [
      "Auto-assigning NUTS sampler...\n",
      "Initializing NUTS using jitter+adapt_diag...\n"
     ]
    },
    {
     "name": "stdout",
     "output_type": "stream",
     "text": [
      "\n"
     ]
    },
    {
     "name": "stderr",
     "output_type": "stream",
     "text": [
      "Multiprocess sampling (4 chains in 4 jobs)\n",
      "NUTS: [PSMB11-Adrenal, GBP7-Adrenal, SLC22A9-Adrenal, UROC1-Adrenal, CA5A-Adrenal, SLITRK1-Adrenal, C3P1-Adrenal, SLCO1B1-Adrenal, SLC10A1-Adrenal, SLC25A47-Adrenal, LECT2-Adrenal, APOF-Adrenal, F9-Adrenal, POU3F2-Adrenal, UGT2B10-Adrenal, SHISA7-Adrenal, CPN1-Adrenal, C9-Adrenal, UGT1A4-Adrenal, C8A-Adrenal, HAO1-Adrenal, SERPINA7-Adrenal, SERPINA10-Adrenal, HGFAC-Adrenal, APOA5-Adrenal, CYP11B1-Adrenal, AKR1C4-Adrenal, VSTM2B-Adrenal, OTOS-Adrenal, BAAT-Adrenal, APOC4-Adrenal, CYP2C8-Adrenal, KCNJ9-Adrenal, SLC22A2-Adrenal, TFR2-Adrenal, F2-Adrenal, HRG-Adrenal, ITIH1-Adrenal, TSHR-Adrenal, CACNG7-Adrenal, SERPINC1-Adrenal, CTD-2182N23.1-Adrenal, SFTPD-Adrenal, AHSG-Adrenal, NKX2-1-Adrenal, SFTA3-Adrenal, SFTPA1-Adrenal, APOA2-Adrenal, SFTPA2-Adrenal, SFTPC-Adrenal, eps, a]\n",
      "Sampling 4 chains: 100%|██████████| 4000/4000 [00:26<00:00, 152.33draws/s]\n"
     ]
    },
    {
     "data": {
      "application/vnd.jupyter.widget-view+json": {
       "model_id": "6fcb1cca2d744eb0a8cc9ff433c190ee",
       "version_major": 2,
       "version_minor": 0
      },
      "text/plain": [
       "HBox(children=(IntProgress(value=0, max=50), HTML(value='')))"
      ]
     },
     "metadata": {},
     "output_type": "display_data"
    },
    {
     "name": "stderr",
     "output_type": "stream",
     "text": [
      "Auto-assigning NUTS sampler...\n",
      "Initializing NUTS using jitter+adapt_diag...\n"
     ]
    },
    {
     "name": "stdout",
     "output_type": "stream",
     "text": [
      "\n"
     ]
    },
    {
     "name": "stderr",
     "output_type": "stream",
     "text": [
      "Multiprocess sampling (4 chains in 4 jobs)\n",
      "NUTS: [PSMB11-Bile, GBP7-Bile, SLC22A9-Bile, UROC1-Bile, CA5A-Bile, SLITRK1-Bile, C3P1-Bile, SLCO1B1-Bile, SLC10A1-Bile, SLC25A47-Bile, LECT2-Bile, APOF-Bile, F9-Bile, POU3F2-Bile, UGT2B10-Bile, SHISA7-Bile, CPN1-Bile, C9-Bile, UGT1A4-Bile, C8A-Bile, HAO1-Bile, SERPINA7-Bile, SERPINA10-Bile, HGFAC-Bile, APOA5-Bile, CYP11B1-Bile, AKR1C4-Bile, VSTM2B-Bile, OTOS-Bile, BAAT-Bile, APOC4-Bile, CYP2C8-Bile, KCNJ9-Bile, SLC22A2-Bile, TFR2-Bile, F2-Bile, HRG-Bile, ITIH1-Bile, TSHR-Bile, CACNG7-Bile, SERPINC1-Bile, CTD-2182N23.1-Bile, SFTPD-Bile, AHSG-Bile, NKX2-1-Bile, SFTA3-Bile, SFTPA1-Bile, APOA2-Bile, SFTPA2-Bile, SFTPC-Bile, eps, a]\n",
      "Sampling 4 chains: 100%|██████████| 4000/4000 [00:39<00:00, 117.85draws/s]\n"
     ]
    },
    {
     "data": {
      "application/vnd.jupyter.widget-view+json": {
       "model_id": "7efb2905027341179ae42db8de065a17",
       "version_major": 2,
       "version_minor": 0
      },
      "text/plain": [
       "HBox(children=(IntProgress(value=0, max=50), HTML(value='')))"
      ]
     },
     "metadata": {},
     "output_type": "display_data"
    },
    {
     "name": "stderr",
     "output_type": "stream",
     "text": [
      "Auto-assigning NUTS sampler...\n",
      "Initializing NUTS using jitter+adapt_diag...\n"
     ]
    },
    {
     "name": "stdout",
     "output_type": "stream",
     "text": [
      "\n"
     ]
    },
    {
     "name": "stderr",
     "output_type": "stream",
     "text": [
      "Multiprocess sampling (4 chains in 4 jobs)\n",
      "NUTS: [PSMB11-Bladder, GBP7-Bladder, SLC22A9-Bladder, UROC1-Bladder, CA5A-Bladder, SLITRK1-Bladder, C3P1-Bladder, SLCO1B1-Bladder, SLC10A1-Bladder, SLC25A47-Bladder, LECT2-Bladder, APOF-Bladder, F9-Bladder, POU3F2-Bladder, UGT2B10-Bladder, SHISA7-Bladder, CPN1-Bladder, C9-Bladder, UGT1A4-Bladder, C8A-Bladder, HAO1-Bladder, SERPINA7-Bladder, SERPINA10-Bladder, HGFAC-Bladder, APOA5-Bladder, CYP11B1-Bladder, AKR1C4-Bladder, VSTM2B-Bladder, OTOS-Bladder, BAAT-Bladder, APOC4-Bladder, CYP2C8-Bladder, KCNJ9-Bladder, SLC22A2-Bladder, TFR2-Bladder, F2-Bladder, HRG-Bladder, ITIH1-Bladder, TSHR-Bladder, CACNG7-Bladder, SERPINC1-Bladder, CTD-2182N23.1-Bladder, SFTPD-Bladder, AHSG-Bladder, NKX2-1-Bladder, SFTA3-Bladder, SFTPA1-Bladder, APOA2-Bladder, SFTPA2-Bladder, SFTPC-Bladder, eps, a]\n",
      "Sampling 4 chains: 100%|██████████| 4000/4000 [00:47<00:00, 83.72draws/s] \n"
     ]
    },
    {
     "data": {
      "application/vnd.jupyter.widget-view+json": {
       "model_id": "1a9c08c8a8604409a3cb988543629e7b",
       "version_major": 2,
       "version_minor": 0
      },
      "text/plain": [
       "HBox(children=(IntProgress(value=0, max=50), HTML(value='')))"
      ]
     },
     "metadata": {},
     "output_type": "display_data"
    },
    {
     "name": "stderr",
     "output_type": "stream",
     "text": [
      "Auto-assigning NUTS sampler...\n",
      "Initializing NUTS using jitter+adapt_diag...\n"
     ]
    },
    {
     "name": "stdout",
     "output_type": "stream",
     "text": [
      "\n"
     ]
    },
    {
     "name": "stderr",
     "output_type": "stream",
     "text": [
      "Multiprocess sampling (4 chains in 4 jobs)\n",
      "NUTS: [PSMB11-Brain, GBP7-Brain, SLC22A9-Brain, UROC1-Brain, CA5A-Brain, SLITRK1-Brain, C3P1-Brain, SLCO1B1-Brain, SLC10A1-Brain, SLC25A47-Brain, LECT2-Brain, APOF-Brain, F9-Brain, POU3F2-Brain, UGT2B10-Brain, SHISA7-Brain, CPN1-Brain, C9-Brain, UGT1A4-Brain, C8A-Brain, HAO1-Brain, SERPINA7-Brain, SERPINA10-Brain, HGFAC-Brain, APOA5-Brain, CYP11B1-Brain, AKR1C4-Brain, VSTM2B-Brain, OTOS-Brain, BAAT-Brain, APOC4-Brain, CYP2C8-Brain, KCNJ9-Brain, SLC22A2-Brain, TFR2-Brain, F2-Brain, HRG-Brain, ITIH1-Brain, TSHR-Brain, CACNG7-Brain, SERPINC1-Brain, CTD-2182N23.1-Brain, SFTPD-Brain, AHSG-Brain, NKX2-1-Brain, SFTA3-Brain, SFTPA1-Brain, APOA2-Brain, SFTPA2-Brain, SFTPC-Brain, eps, a]\n",
      "Sampling 4 chains: 100%|██████████| 4000/4000 [00:27<00:00, 146.14draws/s]\n"
     ]
    },
    {
     "data": {
      "application/vnd.jupyter.widget-view+json": {
       "model_id": "d54e11a6bedb4e3abab0d1f567eb3e25",
       "version_major": 2,
       "version_minor": 0
      },
      "text/plain": [
       "HBox(children=(IntProgress(value=0, max=50), HTML(value='')))"
      ]
     },
     "metadata": {},
     "output_type": "display_data"
    },
    {
     "name": "stderr",
     "output_type": "stream",
     "text": [
      "Auto-assigning NUTS sampler...\n",
      "Initializing NUTS using jitter+adapt_diag...\n"
     ]
    },
    {
     "name": "stdout",
     "output_type": "stream",
     "text": [
      "\n"
     ]
    },
    {
     "name": "stderr",
     "output_type": "stream",
     "text": [
      "Multiprocess sampling (4 chains in 4 jobs)\n",
      "NUTS: [PSMB11-Breast, GBP7-Breast, SLC22A9-Breast, UROC1-Breast, CA5A-Breast, SLITRK1-Breast, C3P1-Breast, SLCO1B1-Breast, SLC10A1-Breast, SLC25A47-Breast, LECT2-Breast, APOF-Breast, F9-Breast, POU3F2-Breast, UGT2B10-Breast, SHISA7-Breast, CPN1-Breast, C9-Breast, UGT1A4-Breast, C8A-Breast, HAO1-Breast, SERPINA7-Breast, SERPINA10-Breast, HGFAC-Breast, APOA5-Breast, CYP11B1-Breast, AKR1C4-Breast, VSTM2B-Breast, OTOS-Breast, BAAT-Breast, APOC4-Breast, CYP2C8-Breast, KCNJ9-Breast, SLC22A2-Breast, TFR2-Breast, F2-Breast, HRG-Breast, ITIH1-Breast, TSHR-Breast, CACNG7-Breast, SERPINC1-Breast, CTD-2182N23.1-Breast, SFTPD-Breast, AHSG-Breast, NKX2-1-Breast, SFTA3-Breast, SFTPA1-Breast, APOA2-Breast, SFTPA2-Breast, SFTPC-Breast, eps, a]\n",
      "Sampling 4 chains: 100%|██████████| 4000/4000 [00:43<00:00, 118.20draws/s]\n"
     ]
    },
    {
     "data": {
      "application/vnd.jupyter.widget-view+json": {
       "model_id": "6a845c6c78c54010a8bc48b8aeca2c91",
       "version_major": 2,
       "version_minor": 0
      },
      "text/plain": [
       "HBox(children=(IntProgress(value=0, max=50), HTML(value='')))"
      ]
     },
     "metadata": {},
     "output_type": "display_data"
    },
    {
     "name": "stderr",
     "output_type": "stream",
     "text": [
      "Auto-assigning NUTS sampler...\n",
      "Initializing NUTS using jitter+adapt_diag...\n"
     ]
    },
    {
     "name": "stdout",
     "output_type": "stream",
     "text": [
      "\n"
     ]
    },
    {
     "name": "stderr",
     "output_type": "stream",
     "text": [
      "Multiprocess sampling (4 chains in 4 jobs)\n",
      "NUTS: [PSMB11-Cervix, GBP7-Cervix, SLC22A9-Cervix, UROC1-Cervix, CA5A-Cervix, SLITRK1-Cervix, C3P1-Cervix, SLCO1B1-Cervix, SLC10A1-Cervix, SLC25A47-Cervix, LECT2-Cervix, APOF-Cervix, F9-Cervix, POU3F2-Cervix, UGT2B10-Cervix, SHISA7-Cervix, CPN1-Cervix, C9-Cervix, UGT1A4-Cervix, C8A-Cervix, HAO1-Cervix, SERPINA7-Cervix, SERPINA10-Cervix, HGFAC-Cervix, APOA5-Cervix, CYP11B1-Cervix, AKR1C4-Cervix, VSTM2B-Cervix, OTOS-Cervix, BAAT-Cervix, APOC4-Cervix, CYP2C8-Cervix, KCNJ9-Cervix, SLC22A2-Cervix, TFR2-Cervix, F2-Cervix, HRG-Cervix, ITIH1-Cervix, TSHR-Cervix, CACNG7-Cervix, SERPINC1-Cervix, CTD-2182N23.1-Cervix, SFTPD-Cervix, AHSG-Cervix, NKX2-1-Cervix, SFTA3-Cervix, SFTPA1-Cervix, APOA2-Cervix, SFTPA2-Cervix, SFTPC-Cervix, eps, a]\n",
      "Sampling 4 chains: 100%|██████████| 4000/4000 [00:24<00:00, 160.73draws/s]\n"
     ]
    },
    {
     "data": {
      "application/vnd.jupyter.widget-view+json": {
       "model_id": "b727d571928148c8aa0350b3e6e7080d",
       "version_major": 2,
       "version_minor": 0
      },
      "text/plain": [
       "HBox(children=(IntProgress(value=0, max=50), HTML(value='')))"
      ]
     },
     "metadata": {},
     "output_type": "display_data"
    },
    {
     "name": "stderr",
     "output_type": "stream",
     "text": [
      "Auto-assigning NUTS sampler...\n",
      "Initializing NUTS using jitter+adapt_diag...\n"
     ]
    },
    {
     "name": "stdout",
     "output_type": "stream",
     "text": [
      "\n"
     ]
    },
    {
     "name": "stderr",
     "output_type": "stream",
     "text": [
      "Multiprocess sampling (4 chains in 4 jobs)\n",
      "NUTS: [PSMB11-Colon, GBP7-Colon, SLC22A9-Colon, UROC1-Colon, CA5A-Colon, SLITRK1-Colon, C3P1-Colon, SLCO1B1-Colon, SLC10A1-Colon, SLC25A47-Colon, LECT2-Colon, APOF-Colon, F9-Colon, POU3F2-Colon, UGT2B10-Colon, SHISA7-Colon, CPN1-Colon, C9-Colon, UGT1A4-Colon, C8A-Colon, HAO1-Colon, SERPINA7-Colon, SERPINA10-Colon, HGFAC-Colon, APOA5-Colon, CYP11B1-Colon, AKR1C4-Colon, VSTM2B-Colon, OTOS-Colon, BAAT-Colon, APOC4-Colon, CYP2C8-Colon, KCNJ9-Colon, SLC22A2-Colon, TFR2-Colon, F2-Colon, HRG-Colon, ITIH1-Colon, TSHR-Colon, CACNG7-Colon, SERPINC1-Colon, CTD-2182N23.1-Colon, SFTPD-Colon, AHSG-Colon, NKX2-1-Colon, SFTA3-Colon, SFTPA1-Colon, APOA2-Colon, SFTPA2-Colon, SFTPC-Colon, eps, a]\n",
      "Sampling 4 chains: 100%|██████████| 4000/4000 [00:53<00:00, 74.67draws/s] \n"
     ]
    },
    {
     "data": {
      "application/vnd.jupyter.widget-view+json": {
       "model_id": "2a1651989ce9404b8196a8c76bda235b",
       "version_major": 2,
       "version_minor": 0
      },
      "text/plain": [
       "HBox(children=(IntProgress(value=0, max=50), HTML(value='')))"
      ]
     },
     "metadata": {},
     "output_type": "display_data"
    },
    {
     "name": "stderr",
     "output_type": "stream",
     "text": [
      "Auto-assigning NUTS sampler...\n",
      "Initializing NUTS using jitter+adapt_diag...\n"
     ]
    },
    {
     "name": "stdout",
     "output_type": "stream",
     "text": [
      "\n"
     ]
    },
    {
     "name": "stderr",
     "output_type": "stream",
     "text": [
      "Multiprocess sampling (4 chains in 4 jobs)\n",
      "NUTS: [PSMB11-Esophagus, GBP7-Esophagus, SLC22A9-Esophagus, UROC1-Esophagus, CA5A-Esophagus, SLITRK1-Esophagus, C3P1-Esophagus, SLCO1B1-Esophagus, SLC10A1-Esophagus, SLC25A47-Esophagus, LECT2-Esophagus, APOF-Esophagus, F9-Esophagus, POU3F2-Esophagus, UGT2B10-Esophagus, SHISA7-Esophagus, CPN1-Esophagus, C9-Esophagus, UGT1A4-Esophagus, C8A-Esophagus, HAO1-Esophagus, SERPINA7-Esophagus, SERPINA10-Esophagus, HGFAC-Esophagus, APOA5-Esophagus, CYP11B1-Esophagus, AKR1C4-Esophagus, VSTM2B-Esophagus, OTOS-Esophagus, BAAT-Esophagus, APOC4-Esophagus, CYP2C8-Esophagus, KCNJ9-Esophagus, SLC22A2-Esophagus, TFR2-Esophagus, F2-Esophagus, HRG-Esophagus, ITIH1-Esophagus, TSHR-Esophagus, CACNG7-Esophagus, SERPINC1-Esophagus, CTD-2182N23.1-Esophagus, SFTPD-Esophagus, AHSG-Esophagus, NKX2-1-Esophagus, SFTA3-Esophagus, SFTPA1-Esophagus, APOA2-Esophagus, SFTPA2-Esophagus, SFTPC-Esophagus, eps, a]\n",
      "Sampling 4 chains: 100%|██████████| 4000/4000 [00:53<00:00, 75.39draws/s] \n"
     ]
    },
    {
     "data": {
      "application/vnd.jupyter.widget-view+json": {
       "model_id": "a4382565781f4113924ca73e4f9e20ae",
       "version_major": 2,
       "version_minor": 0
      },
      "text/plain": [
       "HBox(children=(IntProgress(value=0, max=50), HTML(value='')))"
      ]
     },
     "metadata": {},
     "output_type": "display_data"
    },
    {
     "name": "stderr",
     "output_type": "stream",
     "text": [
      "Auto-assigning NUTS sampler...\n",
      "Initializing NUTS using jitter+adapt_diag...\n"
     ]
    },
    {
     "name": "stdout",
     "output_type": "stream",
     "text": [
      "\n"
     ]
    },
    {
     "name": "stderr",
     "output_type": "stream",
     "text": [
      "Multiprocess sampling (4 chains in 4 jobs)\n",
      "NUTS: [PSMB11-Head, GBP7-Head, SLC22A9-Head, UROC1-Head, CA5A-Head, SLITRK1-Head, C3P1-Head, SLCO1B1-Head, SLC10A1-Head, SLC25A47-Head, LECT2-Head, APOF-Head, F9-Head, POU3F2-Head, UGT2B10-Head, SHISA7-Head, CPN1-Head, C9-Head, UGT1A4-Head, C8A-Head, HAO1-Head, SERPINA7-Head, SERPINA10-Head, HGFAC-Head, APOA5-Head, CYP11B1-Head, AKR1C4-Head, VSTM2B-Head, OTOS-Head, BAAT-Head, APOC4-Head, CYP2C8-Head, KCNJ9-Head, SLC22A2-Head, TFR2-Head, F2-Head, HRG-Head, ITIH1-Head, TSHR-Head, CACNG7-Head, SERPINC1-Head, CTD-2182N23.1-Head, SFTPD-Head, AHSG-Head, NKX2-1-Head, SFTA3-Head, SFTPA1-Head, APOA2-Head, SFTPA2-Head, SFTPC-Head, eps, a]\n",
      "Sampling 4 chains: 100%|██████████| 4000/4000 [01:00<00:00, 65.82draws/s] \n"
     ]
    },
    {
     "data": {
      "application/vnd.jupyter.widget-view+json": {
       "model_id": "f6ac4258c38a44cdb179d9145a245d20",
       "version_major": 2,
       "version_minor": 0
      },
      "text/plain": [
       "HBox(children=(IntProgress(value=0, max=50), HTML(value='')))"
      ]
     },
     "metadata": {},
     "output_type": "display_data"
    },
    {
     "name": "stderr",
     "output_type": "stream",
     "text": [
      "Auto-assigning NUTS sampler...\n",
      "Initializing NUTS using jitter+adapt_diag...\n"
     ]
    },
    {
     "name": "stdout",
     "output_type": "stream",
     "text": [
      "\n"
     ]
    },
    {
     "name": "stderr",
     "output_type": "stream",
     "text": [
      "Multiprocess sampling (4 chains in 4 jobs)\n",
      "NUTS: [PSMB11-Kidney, GBP7-Kidney, SLC22A9-Kidney, UROC1-Kidney, CA5A-Kidney, SLITRK1-Kidney, C3P1-Kidney, SLCO1B1-Kidney, SLC10A1-Kidney, SLC25A47-Kidney, LECT2-Kidney, APOF-Kidney, F9-Kidney, POU3F2-Kidney, UGT2B10-Kidney, SHISA7-Kidney, CPN1-Kidney, C9-Kidney, UGT1A4-Kidney, C8A-Kidney, HAO1-Kidney, SERPINA7-Kidney, SERPINA10-Kidney, HGFAC-Kidney, APOA5-Kidney, CYP11B1-Kidney, AKR1C4-Kidney, VSTM2B-Kidney, OTOS-Kidney, BAAT-Kidney, APOC4-Kidney, CYP2C8-Kidney, KCNJ9-Kidney, SLC22A2-Kidney, TFR2-Kidney, F2-Kidney, HRG-Kidney, ITIH1-Kidney, TSHR-Kidney, CACNG7-Kidney, SERPINC1-Kidney, CTD-2182N23.1-Kidney, SFTPD-Kidney, AHSG-Kidney, NKX2-1-Kidney, SFTA3-Kidney, SFTPA1-Kidney, APOA2-Kidney, SFTPA2-Kidney, SFTPC-Kidney, eps, a]\n",
      "Sampling 4 chains: 100%|██████████| 4000/4000 [01:01<00:00, 64.89draws/s] \n"
     ]
    },
    {
     "data": {
      "application/vnd.jupyter.widget-view+json": {
       "model_id": "453b416824114cb4a9ff1c5698957778",
       "version_major": 2,
       "version_minor": 0
      },
      "text/plain": [
       "HBox(children=(IntProgress(value=0, max=50), HTML(value='')))"
      ]
     },
     "metadata": {},
     "output_type": "display_data"
    },
    {
     "name": "stderr",
     "output_type": "stream",
     "text": [
      "Auto-assigning NUTS sampler...\n",
      "Initializing NUTS using jitter+adapt_diag...\n"
     ]
    },
    {
     "name": "stdout",
     "output_type": "stream",
     "text": [
      "\n"
     ]
    },
    {
     "name": "stderr",
     "output_type": "stream",
     "text": [
      "Multiprocess sampling (4 chains in 4 jobs)\n",
      "NUTS: [PSMB11-Liver, GBP7-Liver, SLC22A9-Liver, UROC1-Liver, CA5A-Liver, SLITRK1-Liver, C3P1-Liver, SLCO1B1-Liver, SLC10A1-Liver, SLC25A47-Liver, LECT2-Liver, APOF-Liver, F9-Liver, POU3F2-Liver, UGT2B10-Liver, SHISA7-Liver, CPN1-Liver, C9-Liver, UGT1A4-Liver, C8A-Liver, HAO1-Liver, SERPINA7-Liver, SERPINA10-Liver, HGFAC-Liver, APOA5-Liver, CYP11B1-Liver, AKR1C4-Liver, VSTM2B-Liver, OTOS-Liver, BAAT-Liver, APOC4-Liver, CYP2C8-Liver, KCNJ9-Liver, SLC22A2-Liver, TFR2-Liver, F2-Liver, HRG-Liver, ITIH1-Liver, TSHR-Liver, CACNG7-Liver, SERPINC1-Liver, CTD-2182N23.1-Liver, SFTPD-Liver, AHSG-Liver, NKX2-1-Liver, SFTA3-Liver, SFTPA1-Liver, APOA2-Liver, SFTPA2-Liver, SFTPC-Liver, eps, a]\n",
      "Sampling 4 chains: 100%|██████████| 4000/4000 [00:45<00:00, 87.25draws/s] \n"
     ]
    },
    {
     "data": {
      "application/vnd.jupyter.widget-view+json": {
       "model_id": "94db33f2b2d74424bc2355d45ea8eeb4",
       "version_major": 2,
       "version_minor": 0
      },
      "text/plain": [
       "HBox(children=(IntProgress(value=0, max=50), HTML(value='')))"
      ]
     },
     "metadata": {},
     "output_type": "display_data"
    },
    {
     "name": "stderr",
     "output_type": "stream",
     "text": [
      "Auto-assigning NUTS sampler...\n",
      "Initializing NUTS using jitter+adapt_diag...\n"
     ]
    },
    {
     "name": "stdout",
     "output_type": "stream",
     "text": [
      "\n"
     ]
    },
    {
     "name": "stderr",
     "output_type": "stream",
     "text": [
      "Multiprocess sampling (4 chains in 4 jobs)\n",
      "NUTS: [PSMB11-Lung, GBP7-Lung, SLC22A9-Lung, UROC1-Lung, CA5A-Lung, SLITRK1-Lung, C3P1-Lung, SLCO1B1-Lung, SLC10A1-Lung, SLC25A47-Lung, LECT2-Lung, APOF-Lung, F9-Lung, POU3F2-Lung, UGT2B10-Lung, SHISA7-Lung, CPN1-Lung, C9-Lung, UGT1A4-Lung, C8A-Lung, HAO1-Lung, SERPINA7-Lung, SERPINA10-Lung, HGFAC-Lung, APOA5-Lung, CYP11B1-Lung, AKR1C4-Lung, VSTM2B-Lung, OTOS-Lung, BAAT-Lung, APOC4-Lung, CYP2C8-Lung, KCNJ9-Lung, SLC22A2-Lung, TFR2-Lung, F2-Lung, HRG-Lung, ITIH1-Lung, TSHR-Lung, CACNG7-Lung, SERPINC1-Lung, CTD-2182N23.1-Lung, SFTPD-Lung, AHSG-Lung, NKX2-1-Lung, SFTA3-Lung, SFTPA1-Lung, APOA2-Lung, SFTPA2-Lung, SFTPC-Lung, eps, a]\n",
      "Sampling 4 chains: 100%|██████████| 4000/4000 [00:52<00:00, 111.00draws/s]\n"
     ]
    },
    {
     "data": {
      "application/vnd.jupyter.widget-view+json": {
       "model_id": "71a1ffcb4caa45e9b24f0011060e69ff",
       "version_major": 2,
       "version_minor": 0
      },
      "text/plain": [
       "HBox(children=(IntProgress(value=0, max=50), HTML(value='')))"
      ]
     },
     "metadata": {},
     "output_type": "display_data"
    },
    {
     "name": "stderr",
     "output_type": "stream",
     "text": [
      "Auto-assigning NUTS sampler...\n",
      "Initializing NUTS using jitter+adapt_diag...\n"
     ]
    },
    {
     "name": "stdout",
     "output_type": "stream",
     "text": [
      "\n"
     ]
    },
    {
     "name": "stderr",
     "output_type": "stream",
     "text": [
      "Multiprocess sampling (4 chains in 4 jobs)\n",
      "NUTS: [PSMB11-Pancreas, GBP7-Pancreas, SLC22A9-Pancreas, UROC1-Pancreas, CA5A-Pancreas, SLITRK1-Pancreas, C3P1-Pancreas, SLCO1B1-Pancreas, SLC10A1-Pancreas, SLC25A47-Pancreas, LECT2-Pancreas, APOF-Pancreas, F9-Pancreas, POU3F2-Pancreas, UGT2B10-Pancreas, SHISA7-Pancreas, CPN1-Pancreas, C9-Pancreas, UGT1A4-Pancreas, C8A-Pancreas, HAO1-Pancreas, SERPINA7-Pancreas, SERPINA10-Pancreas, HGFAC-Pancreas, APOA5-Pancreas, CYP11B1-Pancreas, AKR1C4-Pancreas, VSTM2B-Pancreas, OTOS-Pancreas, BAAT-Pancreas, APOC4-Pancreas, CYP2C8-Pancreas, KCNJ9-Pancreas, SLC22A2-Pancreas, TFR2-Pancreas, F2-Pancreas, HRG-Pancreas, ITIH1-Pancreas, TSHR-Pancreas, CACNG7-Pancreas, SERPINC1-Pancreas, CTD-2182N23.1-Pancreas, SFTPD-Pancreas, AHSG-Pancreas, NKX2-1-Pancreas, SFTA3-Pancreas, SFTPA1-Pancreas, APOA2-Pancreas, SFTPA2-Pancreas, SFTPC-Pancreas, eps, a]\n",
      "Sampling 4 chains: 100%|██████████| 4000/4000 [00:34<00:00, 116.08draws/s]\n"
     ]
    },
    {
     "data": {
      "application/vnd.jupyter.widget-view+json": {
       "model_id": "1140f1feaa5646eebaceb3324c6aa222",
       "version_major": 2,
       "version_minor": 0
      },
      "text/plain": [
       "HBox(children=(IntProgress(value=0, max=50), HTML(value='')))"
      ]
     },
     "metadata": {},
     "output_type": "display_data"
    },
    {
     "name": "stderr",
     "output_type": "stream",
     "text": [
      "Auto-assigning NUTS sampler...\n",
      "Initializing NUTS using jitter+adapt_diag...\n"
     ]
    },
    {
     "name": "stdout",
     "output_type": "stream",
     "text": [
      "\n"
     ]
    },
    {
     "name": "stderr",
     "output_type": "stream",
     "text": [
      "Multiprocess sampling (4 chains in 4 jobs)\n",
      "NUTS: [PSMB11-Prostate, GBP7-Prostate, SLC22A9-Prostate, UROC1-Prostate, CA5A-Prostate, SLITRK1-Prostate, C3P1-Prostate, SLCO1B1-Prostate, SLC10A1-Prostate, SLC25A47-Prostate, LECT2-Prostate, APOF-Prostate, F9-Prostate, POU3F2-Prostate, UGT2B10-Prostate, SHISA7-Prostate, CPN1-Prostate, C9-Prostate, UGT1A4-Prostate, C8A-Prostate, HAO1-Prostate, SERPINA7-Prostate, SERPINA10-Prostate, HGFAC-Prostate, APOA5-Prostate, CYP11B1-Prostate, AKR1C4-Prostate, VSTM2B-Prostate, OTOS-Prostate, BAAT-Prostate, APOC4-Prostate, CYP2C8-Prostate, KCNJ9-Prostate, SLC22A2-Prostate, TFR2-Prostate, F2-Prostate, HRG-Prostate, ITIH1-Prostate, TSHR-Prostate, CACNG7-Prostate, SERPINC1-Prostate, CTD-2182N23.1-Prostate, SFTPD-Prostate, AHSG-Prostate, NKX2-1-Prostate, SFTA3-Prostate, SFTPA1-Prostate, APOA2-Prostate, SFTPA2-Prostate, SFTPC-Prostate, eps, a]\n",
      "Sampling 4 chains: 100%|██████████| 4000/4000 [01:02<00:00, 64.05draws/s] \n"
     ]
    },
    {
     "data": {
      "application/vnd.jupyter.widget-view+json": {
       "model_id": "ea35f1abd61c4ec9958e3d3ecbad7465",
       "version_major": 2,
       "version_minor": 0
      },
      "text/plain": [
       "HBox(children=(IntProgress(value=0, max=50), HTML(value='')))"
      ]
     },
     "metadata": {},
     "output_type": "display_data"
    },
    {
     "name": "stderr",
     "output_type": "stream",
     "text": [
      "Auto-assigning NUTS sampler...\n",
      "Initializing NUTS using jitter+adapt_diag...\n"
     ]
    },
    {
     "name": "stdout",
     "output_type": "stream",
     "text": [
      "\n"
     ]
    },
    {
     "name": "stderr",
     "output_type": "stream",
     "text": [
      "Multiprocess sampling (4 chains in 4 jobs)\n",
      "NUTS: [PSMB11-Skin, GBP7-Skin, SLC22A9-Skin, UROC1-Skin, CA5A-Skin, SLITRK1-Skin, C3P1-Skin, SLCO1B1-Skin, SLC10A1-Skin, SLC25A47-Skin, LECT2-Skin, APOF-Skin, F9-Skin, POU3F2-Skin, UGT2B10-Skin, SHISA7-Skin, CPN1-Skin, C9-Skin, UGT1A4-Skin, C8A-Skin, HAO1-Skin, SERPINA7-Skin, SERPINA10-Skin, HGFAC-Skin, APOA5-Skin, CYP11B1-Skin, AKR1C4-Skin, VSTM2B-Skin, OTOS-Skin, BAAT-Skin, APOC4-Skin, CYP2C8-Skin, KCNJ9-Skin, SLC22A2-Skin, TFR2-Skin, F2-Skin, HRG-Skin, ITIH1-Skin, TSHR-Skin, CACNG7-Skin, SERPINC1-Skin, CTD-2182N23.1-Skin, SFTPD-Skin, AHSG-Skin, NKX2-1-Skin, SFTA3-Skin, SFTPA1-Skin, APOA2-Skin, SFTPA2-Skin, SFTPC-Skin, eps, a]\n",
      "Sampling 4 chains: 100%|██████████| 4000/4000 [00:15<00:00, 118.58draws/s]\n"
     ]
    },
    {
     "data": {
      "application/vnd.jupyter.widget-view+json": {
       "model_id": "64f3cd9a0ce54f3fb12178fe320853d3",
       "version_major": 2,
       "version_minor": 0
      },
      "text/plain": [
       "HBox(children=(IntProgress(value=0, max=50), HTML(value='')))"
      ]
     },
     "metadata": {},
     "output_type": "display_data"
    },
    {
     "name": "stderr",
     "output_type": "stream",
     "text": [
      "Auto-assigning NUTS sampler...\n",
      "Initializing NUTS using jitter+adapt_diag...\n"
     ]
    },
    {
     "name": "stdout",
     "output_type": "stream",
     "text": [
      "\n"
     ]
    },
    {
     "name": "stderr",
     "output_type": "stream",
     "text": [
      "Multiprocess sampling (4 chains in 4 jobs)\n",
      "NUTS: [PSMB11-Soft_tissue, GBP7-Soft_tissue, SLC22A9-Soft_tissue, UROC1-Soft_tissue, CA5A-Soft_tissue, SLITRK1-Soft_tissue, C3P1-Soft_tissue, SLCO1B1-Soft_tissue, SLC10A1-Soft_tissue, SLC25A47-Soft_tissue, LECT2-Soft_tissue, APOF-Soft_tissue, F9-Soft_tissue, POU3F2-Soft_tissue, UGT2B10-Soft_tissue, SHISA7-Soft_tissue, CPN1-Soft_tissue, C9-Soft_tissue, UGT1A4-Soft_tissue, C8A-Soft_tissue, HAO1-Soft_tissue, SERPINA7-Soft_tissue, SERPINA10-Soft_tissue, HGFAC-Soft_tissue, APOA5-Soft_tissue, CYP11B1-Soft_tissue, AKR1C4-Soft_tissue, VSTM2B-Soft_tissue, OTOS-Soft_tissue, BAAT-Soft_tissue, APOC4-Soft_tissue, CYP2C8-Soft_tissue, KCNJ9-Soft_tissue, SLC22A2-Soft_tissue, TFR2-Soft_tissue, F2-Soft_tissue, HRG-Soft_tissue, ITIH1-Soft_tissue, TSHR-Soft_tissue, CACNG7-Soft_tissue, SERPINC1-Soft_tissue, CTD-2182N23.1-Soft_tissue, SFTPD-Soft_tissue, AHSG-Soft_tissue, NKX2-1-Soft_tissue, SFTA3-Soft_tissue, SFTPA1-Soft_tissue, APOA2-Soft_tissue, SFTPA2-Soft_tissue, SFTPC-Soft_tissue, eps, a]\n",
      "Sampling 4 chains: 100%|██████████| 4000/4000 [00:35<00:00, 112.46draws/s]\n"
     ]
    },
    {
     "data": {
      "application/vnd.jupyter.widget-view+json": {
       "model_id": "9cd321f6dd5241e7bf2086fc33f42696",
       "version_major": 2,
       "version_minor": 0
      },
      "text/plain": [
       "HBox(children=(IntProgress(value=0, max=50), HTML(value='')))"
      ]
     },
     "metadata": {},
     "output_type": "display_data"
    },
    {
     "name": "stderr",
     "output_type": "stream",
     "text": [
      "Auto-assigning NUTS sampler...\n",
      "Initializing NUTS using jitter+adapt_diag...\n"
     ]
    },
    {
     "name": "stdout",
     "output_type": "stream",
     "text": [
      "\n"
     ]
    },
    {
     "name": "stderr",
     "output_type": "stream",
     "text": [
      "Multiprocess sampling (4 chains in 4 jobs)\n",
      "NUTS: [PSMB11-Stomach, GBP7-Stomach, SLC22A9-Stomach, UROC1-Stomach, CA5A-Stomach, SLITRK1-Stomach, C3P1-Stomach, SLCO1B1-Stomach, SLC10A1-Stomach, SLC25A47-Stomach, LECT2-Stomach, APOF-Stomach, F9-Stomach, POU3F2-Stomach, UGT2B10-Stomach, SHISA7-Stomach, CPN1-Stomach, C9-Stomach, UGT1A4-Stomach, C8A-Stomach, HAO1-Stomach, SERPINA7-Stomach, SERPINA10-Stomach, HGFAC-Stomach, APOA5-Stomach, CYP11B1-Stomach, AKR1C4-Stomach, VSTM2B-Stomach, OTOS-Stomach, BAAT-Stomach, APOC4-Stomach, CYP2C8-Stomach, KCNJ9-Stomach, SLC22A2-Stomach, TFR2-Stomach, F2-Stomach, HRG-Stomach, ITIH1-Stomach, TSHR-Stomach, CACNG7-Stomach, SERPINC1-Stomach, CTD-2182N23.1-Stomach, SFTPD-Stomach, AHSG-Stomach, NKX2-1-Stomach, SFTA3-Stomach, SFTPA1-Stomach, APOA2-Stomach, SFTPA2-Stomach, SFTPC-Stomach, eps, a]\n",
      "Sampling 4 chains: 100%|██████████| 4000/4000 [00:54<00:00, 73.70draws/s] \n"
     ]
    },
    {
     "data": {
      "application/vnd.jupyter.widget-view+json": {
       "model_id": "09448b0e559540529cdbe0c954fd9c1d",
       "version_major": 2,
       "version_minor": 0
      },
      "text/plain": [
       "HBox(children=(IntProgress(value=0, max=50), HTML(value='')))"
      ]
     },
     "metadata": {},
     "output_type": "display_data"
    },
    {
     "name": "stderr",
     "output_type": "stream",
     "text": [
      "Auto-assigning NUTS sampler...\n",
      "Initializing NUTS using jitter+adapt_diag...\n"
     ]
    },
    {
     "name": "stdout",
     "output_type": "stream",
     "text": [
      "\n"
     ]
    },
    {
     "name": "stderr",
     "output_type": "stream",
     "text": [
      "Multiprocess sampling (4 chains in 4 jobs)\n",
      "NUTS: [PSMB11-Thymus, GBP7-Thymus, SLC22A9-Thymus, UROC1-Thymus, CA5A-Thymus, SLITRK1-Thymus, C3P1-Thymus, SLCO1B1-Thymus, SLC10A1-Thymus, SLC25A47-Thymus, LECT2-Thymus, APOF-Thymus, F9-Thymus, POU3F2-Thymus, UGT2B10-Thymus, SHISA7-Thymus, CPN1-Thymus, C9-Thymus, UGT1A4-Thymus, C8A-Thymus, HAO1-Thymus, SERPINA7-Thymus, SERPINA10-Thymus, HGFAC-Thymus, APOA5-Thymus, CYP11B1-Thymus, AKR1C4-Thymus, VSTM2B-Thymus, OTOS-Thymus, BAAT-Thymus, APOC4-Thymus, CYP2C8-Thymus, KCNJ9-Thymus, SLC22A2-Thymus, TFR2-Thymus, F2-Thymus, HRG-Thymus, ITIH1-Thymus, TSHR-Thymus, CACNG7-Thymus, SERPINC1-Thymus, CTD-2182N23.1-Thymus, SFTPD-Thymus, AHSG-Thymus, NKX2-1-Thymus, SFTA3-Thymus, SFTPA1-Thymus, APOA2-Thymus, SFTPA2-Thymus, SFTPC-Thymus, eps, a]\n",
      "Sampling 4 chains: 100%|██████████| 4000/4000 [00:31<00:00, 128.28draws/s]\n"
     ]
    },
    {
     "data": {
      "application/vnd.jupyter.widget-view+json": {
       "model_id": "c499cf16e70c475e9a4e090894b83cd8",
       "version_major": 2,
       "version_minor": 0
      },
      "text/plain": [
       "HBox(children=(IntProgress(value=0, max=50), HTML(value='')))"
      ]
     },
     "metadata": {},
     "output_type": "display_data"
    },
    {
     "name": "stderr",
     "output_type": "stream",
     "text": [
      "Auto-assigning NUTS sampler...\n",
      "Initializing NUTS using jitter+adapt_diag...\n"
     ]
    },
    {
     "name": "stdout",
     "output_type": "stream",
     "text": [
      "\n"
     ]
    },
    {
     "name": "stderr",
     "output_type": "stream",
     "text": [
      "Multiprocess sampling (4 chains in 4 jobs)\n",
      "NUTS: [PSMB11-Thyroid, GBP7-Thyroid, SLC22A9-Thyroid, UROC1-Thyroid, CA5A-Thyroid, SLITRK1-Thyroid, C3P1-Thyroid, SLCO1B1-Thyroid, SLC10A1-Thyroid, SLC25A47-Thyroid, LECT2-Thyroid, APOF-Thyroid, F9-Thyroid, POU3F2-Thyroid, UGT2B10-Thyroid, SHISA7-Thyroid, CPN1-Thyroid, C9-Thyroid, UGT1A4-Thyroid, C8A-Thyroid, HAO1-Thyroid, SERPINA7-Thyroid, SERPINA10-Thyroid, HGFAC-Thyroid, APOA5-Thyroid, CYP11B1-Thyroid, AKR1C4-Thyroid, VSTM2B-Thyroid, OTOS-Thyroid, BAAT-Thyroid, APOC4-Thyroid, CYP2C8-Thyroid, KCNJ9-Thyroid, SLC22A2-Thyroid, TFR2-Thyroid, F2-Thyroid, HRG-Thyroid, ITIH1-Thyroid, TSHR-Thyroid, CACNG7-Thyroid, SERPINC1-Thyroid, CTD-2182N23.1-Thyroid, SFTPD-Thyroid, AHSG-Thyroid, NKX2-1-Thyroid, SFTA3-Thyroid, SFTPA1-Thyroid, APOA2-Thyroid, SFTPA2-Thyroid, SFTPC-Thyroid, eps, a]\n",
      "Sampling 4 chains: 100%|██████████| 4000/4000 [01:05<00:00, 60.81draws/s] \n"
     ]
    },
    {
     "data": {
      "application/vnd.jupyter.widget-view+json": {
       "model_id": "240bf150f35e466fb9c087d68c9795ed",
       "version_major": 2,
       "version_minor": 0
      },
      "text/plain": [
       "HBox(children=(IntProgress(value=0, max=50), HTML(value='')))"
      ]
     },
     "metadata": {},
     "output_type": "display_data"
    },
    {
     "name": "stderr",
     "output_type": "stream",
     "text": [
      "Auto-assigning NUTS sampler...\n",
      "Initializing NUTS using jitter+adapt_diag...\n"
     ]
    },
    {
     "name": "stdout",
     "output_type": "stream",
     "text": [
      "\n"
     ]
    },
    {
     "name": "stderr",
     "output_type": "stream",
     "text": [
      "Multiprocess sampling (4 chains in 4 jobs)\n",
      "NUTS: [PSMB11-Uterus, GBP7-Uterus, SLC22A9-Uterus, UROC1-Uterus, CA5A-Uterus, SLITRK1-Uterus, C3P1-Uterus, SLCO1B1-Uterus, SLC10A1-Uterus, SLC25A47-Uterus, LECT2-Uterus, APOF-Uterus, F9-Uterus, POU3F2-Uterus, UGT2B10-Uterus, SHISA7-Uterus, CPN1-Uterus, C9-Uterus, UGT1A4-Uterus, C8A-Uterus, HAO1-Uterus, SERPINA7-Uterus, SERPINA10-Uterus, HGFAC-Uterus, APOA5-Uterus, CYP11B1-Uterus, AKR1C4-Uterus, VSTM2B-Uterus, OTOS-Uterus, BAAT-Uterus, APOC4-Uterus, CYP2C8-Uterus, KCNJ9-Uterus, SLC22A2-Uterus, TFR2-Uterus, F2-Uterus, HRG-Uterus, ITIH1-Uterus, TSHR-Uterus, CACNG7-Uterus, SERPINC1-Uterus, CTD-2182N23.1-Uterus, SFTPD-Uterus, AHSG-Uterus, NKX2-1-Uterus, SFTA3-Uterus, SFTPA1-Uterus, APOA2-Uterus, SFTPA2-Uterus, SFTPC-Uterus, eps, a]\n",
      "Sampling 4 chains: 100%|██████████| 4000/4000 [00:39<00:00, 100.98draws/s]\n"
     ]
    }
   ],
   "source": [
    "models, traces = [], []\n",
    "d = {i: x for i, x in enumerate(normal.tissue.unique())}\n",
    "for tissue in normal.tissue.unique():\n",
    "    sub = normal[normal.tissue == tissue]\n",
    "    model, trace = r.outlier.run_model(sample, sub, training_genes, 'tissue')\n",
    "    models.append(model)\n",
    "    traces.append(trace)"
   ]
  },
  {
   "cell_type": "code",
   "execution_count": 28,
   "metadata": {
    "ExecuteTime": {
     "end_time": "2019-01-23T08:59:46.614219Z",
     "start_time": "2019-01-23T08:03:03.751676Z"
    }
   },
   "outputs": [],
   "source": [
    "md = OrderedDict({x: y for x, y in zip(models, traces)})\n",
    "comp = pm.compare(md).rename(index=d)"
   ]
  },
  {
   "cell_type": "code",
   "execution_count": 32,
   "metadata": {
    "ExecuteTime": {
     "end_time": "2019-01-24T00:22:47.660205Z",
     "start_time": "2019-01-24T00:22:47.605825Z"
    }
   },
   "outputs": [
    {
     "data": {
      "text/html": [
       "<div>\n",
       "<style scoped>\n",
       "    .dataframe tbody tr th:only-of-type {\n",
       "        vertical-align: middle;\n",
       "    }\n",
       "\n",
       "    .dataframe tbody tr th {\n",
       "        vertical-align: top;\n",
       "    }\n",
       "\n",
       "    .dataframe thead th {\n",
       "        text-align: right;\n",
       "    }\n",
       "</style>\n",
       "<table border=\"1\" class=\"dataframe\">\n",
       "  <thead>\n",
       "    <tr style=\"text-align: right;\">\n",
       "      <th></th>\n",
       "      <th>WAIC</th>\n",
       "      <th>pWAIC</th>\n",
       "      <th>dWAIC</th>\n",
       "      <th>weight</th>\n",
       "      <th>SE</th>\n",
       "      <th>dSE</th>\n",
       "      <th>var_warn</th>\n",
       "    </tr>\n",
       "  </thead>\n",
       "  <tbody>\n",
       "    <tr>\n",
       "      <th>Thyroid</th>\n",
       "      <td>2.61</td>\n",
       "      <td>19.25</td>\n",
       "      <td>0</td>\n",
       "      <td>0.95</td>\n",
       "      <td>45.68</td>\n",
       "      <td>0</td>\n",
       "      <td>1</td>\n",
       "    </tr>\n",
       "    <tr>\n",
       "      <th>Prostate</th>\n",
       "      <td>164.4</td>\n",
       "      <td>9.85</td>\n",
       "      <td>161.79</td>\n",
       "      <td>0.05</td>\n",
       "      <td>37.18</td>\n",
       "      <td>55.23</td>\n",
       "      <td>1</td>\n",
       "    </tr>\n",
       "    <tr>\n",
       "      <th>Breast</th>\n",
       "      <td>169.14</td>\n",
       "      <td>8.43</td>\n",
       "      <td>166.53</td>\n",
       "      <td>0</td>\n",
       "      <td>36.59</td>\n",
       "      <td>52.91</td>\n",
       "      <td>1</td>\n",
       "    </tr>\n",
       "    <tr>\n",
       "      <th>Head</th>\n",
       "      <td>170.11</td>\n",
       "      <td>8.06</td>\n",
       "      <td>167.5</td>\n",
       "      <td>0</td>\n",
       "      <td>36.04</td>\n",
       "      <td>52.88</td>\n",
       "      <td>1</td>\n",
       "    </tr>\n",
       "    <tr>\n",
       "      <th>Thymus</th>\n",
       "      <td>171.72</td>\n",
       "      <td>8.42</td>\n",
       "      <td>169.11</td>\n",
       "      <td>0</td>\n",
       "      <td>34.06</td>\n",
       "      <td>52.81</td>\n",
       "      <td>1</td>\n",
       "    </tr>\n",
       "    <tr>\n",
       "      <th>Colon</th>\n",
       "      <td>172.41</td>\n",
       "      <td>7.34</td>\n",
       "      <td>169.8</td>\n",
       "      <td>0</td>\n",
       "      <td>35.59</td>\n",
       "      <td>54.15</td>\n",
       "      <td>1</td>\n",
       "    </tr>\n",
       "    <tr>\n",
       "      <th>Cervix</th>\n",
       "      <td>174.89</td>\n",
       "      <td>5.54</td>\n",
       "      <td>172.28</td>\n",
       "      <td>0</td>\n",
       "      <td>34.11</td>\n",
       "      <td>50.07</td>\n",
       "      <td>1</td>\n",
       "    </tr>\n",
       "    <tr>\n",
       "      <th>Bladder</th>\n",
       "      <td>175.23</td>\n",
       "      <td>6.46</td>\n",
       "      <td>172.62</td>\n",
       "      <td>0</td>\n",
       "      <td>34.11</td>\n",
       "      <td>50.79</td>\n",
       "      <td>1</td>\n",
       "    </tr>\n",
       "    <tr>\n",
       "      <th>Uterus</th>\n",
       "      <td>177.18</td>\n",
       "      <td>6.6</td>\n",
       "      <td>174.57</td>\n",
       "      <td>0</td>\n",
       "      <td>33.36</td>\n",
       "      <td>49.75</td>\n",
       "      <td>1</td>\n",
       "    </tr>\n",
       "    <tr>\n",
       "      <th>Stomach</th>\n",
       "      <td>177.36</td>\n",
       "      <td>7.42</td>\n",
       "      <td>174.75</td>\n",
       "      <td>0</td>\n",
       "      <td>33.82</td>\n",
       "      <td>50.58</td>\n",
       "      <td>1</td>\n",
       "    </tr>\n",
       "    <tr>\n",
       "      <th>Pancreas</th>\n",
       "      <td>178.11</td>\n",
       "      <td>7.34</td>\n",
       "      <td>175.5</td>\n",
       "      <td>0</td>\n",
       "      <td>33.63</td>\n",
       "      <td>50.72</td>\n",
       "      <td>1</td>\n",
       "    </tr>\n",
       "    <tr>\n",
       "      <th>Esophagus</th>\n",
       "      <td>179.86</td>\n",
       "      <td>6.87</td>\n",
       "      <td>177.25</td>\n",
       "      <td>0</td>\n",
       "      <td>33.05</td>\n",
       "      <td>49.85</td>\n",
       "      <td>1</td>\n",
       "    </tr>\n",
       "    <tr>\n",
       "      <th>Soft_tissue</th>\n",
       "      <td>185.01</td>\n",
       "      <td>7.21</td>\n",
       "      <td>182.4</td>\n",
       "      <td>0</td>\n",
       "      <td>31.68</td>\n",
       "      <td>49.16</td>\n",
       "      <td>1</td>\n",
       "    </tr>\n",
       "    <tr>\n",
       "      <th>Skin</th>\n",
       "      <td>186.58</td>\n",
       "      <td>4.7</td>\n",
       "      <td>183.96</td>\n",
       "      <td>0</td>\n",
       "      <td>30.54</td>\n",
       "      <td>49.09</td>\n",
       "      <td>1</td>\n",
       "    </tr>\n",
       "    <tr>\n",
       "      <th>Adrenal</th>\n",
       "      <td>197.25</td>\n",
       "      <td>5.31</td>\n",
       "      <td>194.64</td>\n",
       "      <td>0</td>\n",
       "      <td>32.66</td>\n",
       "      <td>51.36</td>\n",
       "      <td>1</td>\n",
       "    </tr>\n",
       "    <tr>\n",
       "      <th>Kidney</th>\n",
       "      <td>197.91</td>\n",
       "      <td>6.96</td>\n",
       "      <td>195.3</td>\n",
       "      <td>0</td>\n",
       "      <td>28.78</td>\n",
       "      <td>49.15</td>\n",
       "      <td>1</td>\n",
       "    </tr>\n",
       "    <tr>\n",
       "      <th>Lung</th>\n",
       "      <td>212.48</td>\n",
       "      <td>7.17</td>\n",
       "      <td>209.87</td>\n",
       "      <td>0</td>\n",
       "      <td>36.28</td>\n",
       "      <td>36.45</td>\n",
       "      <td>1</td>\n",
       "    </tr>\n",
       "    <tr>\n",
       "      <th>Brain</th>\n",
       "      <td>219.92</td>\n",
       "      <td>4.07</td>\n",
       "      <td>217.31</td>\n",
       "      <td>0</td>\n",
       "      <td>23.17</td>\n",
       "      <td>48.75</td>\n",
       "      <td>0</td>\n",
       "    </tr>\n",
       "    <tr>\n",
       "      <th>Bile</th>\n",
       "      <td>322.2</td>\n",
       "      <td>2.53</td>\n",
       "      <td>319.59</td>\n",
       "      <td>0</td>\n",
       "      <td>12.92</td>\n",
       "      <td>43.64</td>\n",
       "      <td>0</td>\n",
       "    </tr>\n",
       "    <tr>\n",
       "      <th>Liver</th>\n",
       "      <td>323.23</td>\n",
       "      <td>2.93</td>\n",
       "      <td>320.61</td>\n",
       "      <td>0</td>\n",
       "      <td>12.35</td>\n",
       "      <td>43.69</td>\n",
       "      <td>0</td>\n",
       "    </tr>\n",
       "  </tbody>\n",
       "</table>\n",
       "</div>"
      ],
      "text/plain": [
       "               WAIC  pWAIC   dWAIC weight     SE    dSE var_warn\n",
       "Thyroid        2.61  19.25       0   0.95  45.68      0        1\n",
       "Prostate      164.4   9.85  161.79   0.05  37.18  55.23        1\n",
       "Breast       169.14   8.43  166.53      0  36.59  52.91        1\n",
       "Head         170.11   8.06   167.5      0  36.04  52.88        1\n",
       "Thymus       171.72   8.42  169.11      0  34.06  52.81        1\n",
       "Colon        172.41   7.34   169.8      0  35.59  54.15        1\n",
       "Cervix       174.89   5.54  172.28      0  34.11  50.07        1\n",
       "Bladder      175.23   6.46  172.62      0  34.11  50.79        1\n",
       "Uterus       177.18    6.6  174.57      0  33.36  49.75        1\n",
       "Stomach      177.36   7.42  174.75      0  33.82  50.58        1\n",
       "Pancreas     178.11   7.34   175.5      0  33.63  50.72        1\n",
       "Esophagus    179.86   6.87  177.25      0  33.05  49.85        1\n",
       "Soft_tissue  185.01   7.21   182.4      0  31.68  49.16        1\n",
       "Skin         186.58    4.7  183.96      0  30.54  49.09        1\n",
       "Adrenal      197.25   5.31  194.64      0  32.66  51.36        1\n",
       "Kidney       197.91   6.96   195.3      0  28.78  49.15        1\n",
       "Lung         212.48   7.17  209.87      0  36.28  36.45        1\n",
       "Brain        219.92   4.07  217.31      0  23.17  48.75        0\n",
       "Bile          322.2   2.53  319.59      0  12.92  43.64        0\n",
       "Liver        323.23   2.93  320.61      0  12.35  43.69        0"
      ]
     },
     "execution_count": 32,
     "metadata": {},
     "output_type": "execute_result"
    }
   ],
   "source": [
    "comp"
   ]
  },
  {
   "cell_type": "markdown",
   "metadata": {},
   "source": [
    "# Forward Stepwise Regression Informed by Pairwise Distance"
   ]
  },
  {
   "cell_type": "code",
   "execution_count": 16,
   "metadata": {
    "ExecuteTime": {
     "end_time": "2019-01-26T05:27:59.407408Z",
     "start_time": "2019-01-26T05:27:53.800990Z"
    }
   },
   "outputs": [
    {
     "data": {
      "text/html": [
       "<div>\n",
       "<style scoped>\n",
       "    .dataframe tbody tr th:only-of-type {\n",
       "        vertical-align: middle;\n",
       "    }\n",
       "\n",
       "    .dataframe tbody tr th {\n",
       "        vertical-align: top;\n",
       "    }\n",
       "\n",
       "    .dataframe thead th {\n",
       "        text-align: right;\n",
       "    }\n",
       "</style>\n",
       "<table border=\"1\" class=\"dataframe\">\n",
       "  <thead>\n",
       "    <tr style=\"text-align: right;\">\n",
       "      <th></th>\n",
       "      <th>Group</th>\n",
       "      <th>MedianRank</th>\n",
       "    </tr>\n",
       "  </thead>\n",
       "  <tbody>\n",
       "    <tr>\n",
       "      <th>0</th>\n",
       "      <td>Thyroid</td>\n",
       "      <td>138.5</td>\n",
       "    </tr>\n",
       "    <tr>\n",
       "      <th>1</th>\n",
       "      <td>Lung</td>\n",
       "      <td>599.0</td>\n",
       "    </tr>\n",
       "    <tr>\n",
       "      <th>2</th>\n",
       "      <td>Breast</td>\n",
       "      <td>612.0</td>\n",
       "    </tr>\n",
       "    <tr>\n",
       "      <th>3</th>\n",
       "      <td>Minor</td>\n",
       "      <td>940.0</td>\n",
       "    </tr>\n",
       "    <tr>\n",
       "      <th>4</th>\n",
       "      <td>Bladder</td>\n",
       "      <td>1084.0</td>\n",
       "    </tr>\n",
       "  </tbody>\n",
       "</table>\n",
       "</div>"
      ],
      "text/plain": [
       "     Group  MedianRank\n",
       "0  Thyroid       138.5\n",
       "1     Lung       599.0\n",
       "2   Breast       612.0\n",
       "3    Minor       940.0\n",
       "4  Bladder      1084.0"
      ]
     },
     "execution_count": 16,
     "metadata": {},
     "output_type": "execute_result"
    }
   ],
   "source": [
    "ranks = r.outlier.pairwise_distance_ranks(sample, gtex, genes, 'tissue')\n",
    "ranks.head(5)"
   ]
  },
  {
   "cell_type": "code",
   "execution_count": 17,
   "metadata": {
    "ExecuteTime": {
     "end_time": "2019-01-26T05:28:03.076655Z",
     "start_time": "2019-01-26T05:28:03.067029Z"
    }
   },
   "outputs": [],
   "source": [
    "groups = [\n",
    "    ['Thyroid'],\n",
    "    ['Thyroid', 'Lung'],\n",
    "    ['Thyroid', 'Lung', 'Breast'],\n",
    "    ['Thyroid', 'Lung', 'Breast', 'Minor'],\n",
    "    ['Thyroid', 'Lung', 'Breast', 'Minor', 'Bladder']\n",
    "]\n",
    "\n",
    "out_dir = '/mnt/research_serializations/Stepwise-Regression'"
   ]
  },
  {
   "cell_type": "code",
   "execution_count": 18,
   "metadata": {
    "ExecuteTime": {
     "end_time": "2019-01-26T06:55:32.153905Z",
     "start_time": "2019-01-26T05:31:43.087828Z"
    }
   },
   "outputs": [
    {
     "name": "stdout",
     "output_type": "stream",
     "text": [
      "Building model\n"
     ]
    },
    {
     "data": {
      "application/vnd.jupyter.widget-view+json": {
       "model_id": "cdb595c7cc0e4cf0ab7b7e93517c625c",
       "version_major": 2,
       "version_minor": 0
      },
      "text/plain": [
       "HBox(children=(IntProgress(value=0, max=85), HTML(value='')))"
      ]
     },
     "metadata": {},
     "output_type": "display_data"
    },
    {
     "name": "stderr",
     "output_type": "stream",
     "text": [
      "Auto-assigning NUTS sampler...\n",
      "Initializing NUTS using jitter+adapt_diag...\n"
     ]
    },
    {
     "name": "stdout",
     "output_type": "stream",
     "text": [
      "\n"
     ]
    },
    {
     "name": "stderr",
     "output_type": "stream",
     "text": [
      "Multiprocess sampling (4 chains in 4 jobs)\n",
      "NUTS: [PARP1-Thyroid, AURKC-Thyroid, AURKB-Thyroid, AURKA-Thyroid, MS4A1-Thyroid, BTK-Thyroid, HSP90B1-Thyroid, HSP90AB3P-Thyroid, HSP90AB1-Thyroid, HSP90AA1-Thyroid, MDM2-Thyroid, BCL6-Thyroid, BCL2-Thyroid, SMO-Thyroid, GLI1-Thyroid, PTCH1-Thyroid, MAP2K2-Thyroid, MAP2K1-Thyroid, ARAF-Thyroid, RAF1-Thyroid, BRAF-Thyroid, HRAS-Thyroid, KRAS-Thyroid, NRAS-Thyroid, DEPTOR-Thyroid, MLST8-Thyroid, RPTOR-Thyroid, MTOR-Thyroid, TSC2-Thyroid, TSC1-Thyroid, AKT3-Thyroid, AKT1-Thyroid, PIK3C3-Thyroid, PIK3C2G-Thyroid, PIK3C2B-Thyroid, PIK3C2A-Thyroid, PIK3R6-Thyroid, PIK3R5-Thyroid, PIK3R4-Thyroid, PIK3R3-Thyroid, PIK3R2-Thyroid, PIK3R1-Thyroid, PIK3CD-Thyroid, PIK3CG-Thyroid, PIK3CB-Thyroid, PIK3CA-Thyroid, CDK2-Thyroid, CCNE1-Thyroid, CCND3-Thyroid, CCND2-Thyroid, CCND1-Thyroid, CDK6-Thyroid, CDK4-Thyroid, TEK-Thyroid, CSF1R-Thyroid, KIT-Thyroid, KDR-Thyroid, FLT3-Thyroid, NTRK3-Thyroid, NTRK2-Thyroid, NTRK1-Thyroid, FGFR4-Thyroid, FGFR3-Thyroid, FGFR2-Thyroid, FGFR1-Thyroid, PDGFRB-Thyroid, PDGFRA-Thyroid, FLT4-Thyroid, FLT1-Thyroid, ROS1-Thyroid, MET-Thyroid, ALK-Thyroid, ERBB3-Thyroid, ERBB2-Thyroid, EGFR-Thyroid, IL6R-Thyroid, IL6-Thyroid, STAT5B-Thyroid, STAT5A-Thyroid, STAT3-Thyroid, STAT2-Thyroid, STAT1-Thyroid, JAK3-Thyroid, JAK2-Thyroid, JAK1-Thyroid, eps, a]\n",
      "Sampling 4 chains: 100%|██████████| 4000/4000 [01:07<00:00, 19.63draws/s]\n"
     ]
    },
    {
     "name": "stdout",
     "output_type": "stream",
     "text": [
      "Building model\n"
     ]
    },
    {
     "data": {
      "application/vnd.jupyter.widget-view+json": {
       "model_id": "02320330e0eb49c29c3f9ec9cd535f75",
       "version_major": 2,
       "version_minor": 0
      },
      "text/plain": [
       "HBox(children=(IntProgress(value=0, max=85), HTML(value='')))"
      ]
     },
     "metadata": {},
     "output_type": "display_data"
    },
    {
     "name": "stderr",
     "output_type": "stream",
     "text": [
      "Auto-assigning NUTS sampler...\n",
      "Initializing NUTS using jitter+adapt_diag...\n"
     ]
    },
    {
     "name": "stdout",
     "output_type": "stream",
     "text": [
      "\n"
     ]
    },
    {
     "name": "stderr",
     "output_type": "stream",
     "text": [
      "Multiprocess sampling (4 chains in 4 jobs)\n",
      "NUTS: [PARP1-Thyroid, PARP1-Lung, AURKC-Thyroid, AURKC-Lung, AURKB-Thyroid, AURKB-Lung, AURKA-Thyroid, AURKA-Lung, MS4A1-Thyroid, MS4A1-Lung, BTK-Thyroid, BTK-Lung, HSP90B1-Thyroid, HSP90B1-Lung, HSP90AB3P-Thyroid, HSP90AB3P-Lung, HSP90AB1-Thyroid, HSP90AB1-Lung, HSP90AA1-Thyroid, HSP90AA1-Lung, MDM2-Thyroid, MDM2-Lung, BCL6-Thyroid, BCL6-Lung, BCL2-Thyroid, BCL2-Lung, SMO-Thyroid, SMO-Lung, GLI1-Thyroid, GLI1-Lung, PTCH1-Thyroid, PTCH1-Lung, MAP2K2-Thyroid, MAP2K2-Lung, MAP2K1-Thyroid, MAP2K1-Lung, ARAF-Thyroid, ARAF-Lung, RAF1-Thyroid, RAF1-Lung, BRAF-Thyroid, BRAF-Lung, HRAS-Thyroid, HRAS-Lung, KRAS-Thyroid, KRAS-Lung, NRAS-Thyroid, NRAS-Lung, DEPTOR-Thyroid, DEPTOR-Lung, MLST8-Thyroid, MLST8-Lung, RPTOR-Thyroid, RPTOR-Lung, MTOR-Thyroid, MTOR-Lung, TSC2-Thyroid, TSC2-Lung, TSC1-Thyroid, TSC1-Lung, AKT3-Thyroid, AKT3-Lung, AKT1-Thyroid, AKT1-Lung, PIK3C3-Thyroid, PIK3C3-Lung, PIK3C2G-Thyroid, PIK3C2G-Lung, PIK3C2B-Thyroid, PIK3C2B-Lung, PIK3C2A-Thyroid, PIK3C2A-Lung, PIK3R6-Thyroid, PIK3R6-Lung, PIK3R5-Thyroid, PIK3R5-Lung, PIK3R4-Thyroid, PIK3R4-Lung, PIK3R3-Thyroid, PIK3R3-Lung, PIK3R2-Thyroid, PIK3R2-Lung, PIK3R1-Thyroid, PIK3R1-Lung, PIK3CD-Thyroid, PIK3CD-Lung, PIK3CG-Thyroid, PIK3CG-Lung, PIK3CB-Thyroid, PIK3CB-Lung, PIK3CA-Thyroid, PIK3CA-Lung, CDK2-Thyroid, CDK2-Lung, CCNE1-Thyroid, CCNE1-Lung, CCND3-Thyroid, CCND3-Lung, CCND2-Thyroid, CCND2-Lung, CCND1-Thyroid, CCND1-Lung, CDK6-Thyroid, CDK6-Lung, CDK4-Thyroid, CDK4-Lung, TEK-Thyroid, TEK-Lung, CSF1R-Thyroid, CSF1R-Lung, KIT-Thyroid, KIT-Lung, KDR-Thyroid, KDR-Lung, FLT3-Thyroid, FLT3-Lung, NTRK3-Thyroid, NTRK3-Lung, NTRK2-Thyroid, NTRK2-Lung, NTRK1-Thyroid, NTRK1-Lung, FGFR4-Thyroid, FGFR4-Lung, FGFR3-Thyroid, FGFR3-Lung, FGFR2-Thyroid, FGFR2-Lung, FGFR1-Thyroid, FGFR1-Lung, PDGFRB-Thyroid, PDGFRB-Lung, PDGFRA-Thyroid, PDGFRA-Lung, FLT4-Thyroid, FLT4-Lung, FLT1-Thyroid, FLT1-Lung, ROS1-Thyroid, ROS1-Lung, MET-Thyroid, MET-Lung, ALK-Thyroid, ALK-Lung, ERBB3-Thyroid, ERBB3-Lung, ERBB2-Thyroid, ERBB2-Lung, EGFR-Thyroid, EGFR-Lung, IL6R-Thyroid, IL6R-Lung, IL6-Thyroid, IL6-Lung, STAT5B-Thyroid, STAT5B-Lung, STAT5A-Thyroid, STAT5A-Lung, STAT3-Thyroid, STAT3-Lung, STAT2-Thyroid, STAT2-Lung, STAT1-Thyroid, STAT1-Lung, JAK3-Thyroid, JAK3-Lung, JAK2-Thyroid, JAK2-Lung, JAK1-Thyroid, JAK1-Lung, eps, b, a]\n",
      "Sampling 4 chains: 100%|██████████| 4000/4000 [03:06<00:00,  7.84draws/s]\n"
     ]
    },
    {
     "name": "stdout",
     "output_type": "stream",
     "text": [
      "Building model\n"
     ]
    },
    {
     "data": {
      "application/vnd.jupyter.widget-view+json": {
       "model_id": "80f83340f4304179afeb57c6308da0dd",
       "version_major": 2,
       "version_minor": 0
      },
      "text/plain": [
       "HBox(children=(IntProgress(value=0, max=85), HTML(value='')))"
      ]
     },
     "metadata": {},
     "output_type": "display_data"
    },
    {
     "name": "stderr",
     "output_type": "stream",
     "text": [
      "Auto-assigning NUTS sampler...\n",
      "Initializing NUTS using jitter+adapt_diag...\n"
     ]
    },
    {
     "name": "stdout",
     "output_type": "stream",
     "text": [
      "\n"
     ]
    },
    {
     "name": "stderr",
     "output_type": "stream",
     "text": [
      "Multiprocess sampling (4 chains in 4 jobs)\n",
      "NUTS: [PARP1-Thyroid, PARP1-Lung, PARP1-Breast, AURKC-Thyroid, AURKC-Lung, AURKC-Breast, AURKB-Thyroid, AURKB-Lung, AURKB-Breast, AURKA-Thyroid, AURKA-Lung, AURKA-Breast, MS4A1-Thyroid, MS4A1-Lung, MS4A1-Breast, BTK-Thyroid, BTK-Lung, BTK-Breast, HSP90B1-Thyroid, HSP90B1-Lung, HSP90B1-Breast, HSP90AB3P-Thyroid, HSP90AB3P-Lung, HSP90AB3P-Breast, HSP90AB1-Thyroid, HSP90AB1-Lung, HSP90AB1-Breast, HSP90AA1-Thyroid, HSP90AA1-Lung, HSP90AA1-Breast, MDM2-Thyroid, MDM2-Lung, MDM2-Breast, BCL6-Thyroid, BCL6-Lung, BCL6-Breast, BCL2-Thyroid, BCL2-Lung, BCL2-Breast, SMO-Thyroid, SMO-Lung, SMO-Breast, GLI1-Thyroid, GLI1-Lung, GLI1-Breast, PTCH1-Thyroid, PTCH1-Lung, PTCH1-Breast, MAP2K2-Thyroid, MAP2K2-Lung, MAP2K2-Breast, MAP2K1-Thyroid, MAP2K1-Lung, MAP2K1-Breast, ARAF-Thyroid, ARAF-Lung, ARAF-Breast, RAF1-Thyroid, RAF1-Lung, RAF1-Breast, BRAF-Thyroid, BRAF-Lung, BRAF-Breast, HRAS-Thyroid, HRAS-Lung, HRAS-Breast, KRAS-Thyroid, KRAS-Lung, KRAS-Breast, NRAS-Thyroid, NRAS-Lung, NRAS-Breast, DEPTOR-Thyroid, DEPTOR-Lung, DEPTOR-Breast, MLST8-Thyroid, MLST8-Lung, MLST8-Breast, RPTOR-Thyroid, RPTOR-Lung, RPTOR-Breast, MTOR-Thyroid, MTOR-Lung, MTOR-Breast, TSC2-Thyroid, TSC2-Lung, TSC2-Breast, TSC1-Thyroid, TSC1-Lung, TSC1-Breast, AKT3-Thyroid, AKT3-Lung, AKT3-Breast, AKT1-Thyroid, AKT1-Lung, AKT1-Breast, PIK3C3-Thyroid, PIK3C3-Lung, PIK3C3-Breast, PIK3C2G-Thyroid, PIK3C2G-Lung, PIK3C2G-Breast, PIK3C2B-Thyroid, PIK3C2B-Lung, PIK3C2B-Breast, PIK3C2A-Thyroid, PIK3C2A-Lung, PIK3C2A-Breast, PIK3R6-Thyroid, PIK3R6-Lung, PIK3R6-Breast, PIK3R5-Thyroid, PIK3R5-Lung, PIK3R5-Breast, PIK3R4-Thyroid, PIK3R4-Lung, PIK3R4-Breast, PIK3R3-Thyroid, PIK3R3-Lung, PIK3R3-Breast, PIK3R2-Thyroid, PIK3R2-Lung, PIK3R2-Breast, PIK3R1-Thyroid, PIK3R1-Lung, PIK3R1-Breast, PIK3CD-Thyroid, PIK3CD-Lung, PIK3CD-Breast, PIK3CG-Thyroid, PIK3CG-Lung, PIK3CG-Breast, PIK3CB-Thyroid, PIK3CB-Lung, PIK3CB-Breast, PIK3CA-Thyroid, PIK3CA-Lung, PIK3CA-Breast, CDK2-Thyroid, CDK2-Lung, CDK2-Breast, CCNE1-Thyroid, CCNE1-Lung, CCNE1-Breast, CCND3-Thyroid, CCND3-Lung, CCND3-Breast, CCND2-Thyroid, CCND2-Lung, CCND2-Breast, CCND1-Thyroid, CCND1-Lung, CCND1-Breast, CDK6-Thyroid, CDK6-Lung, CDK6-Breast, CDK4-Thyroid, CDK4-Lung, CDK4-Breast, TEK-Thyroid, TEK-Lung, TEK-Breast, CSF1R-Thyroid, CSF1R-Lung, CSF1R-Breast, KIT-Thyroid, KIT-Lung, KIT-Breast, KDR-Thyroid, KDR-Lung, KDR-Breast, FLT3-Thyroid, FLT3-Lung, FLT3-Breast, NTRK3-Thyroid, NTRK3-Lung, NTRK3-Breast, NTRK2-Thyroid, NTRK2-Lung, NTRK2-Breast, NTRK1-Thyroid, NTRK1-Lung, NTRK1-Breast, FGFR4-Thyroid, FGFR4-Lung, FGFR4-Breast, FGFR3-Thyroid, FGFR3-Lung, FGFR3-Breast, FGFR2-Thyroid, FGFR2-Lung, FGFR2-Breast, FGFR1-Thyroid, FGFR1-Lung, FGFR1-Breast, PDGFRB-Thyroid, PDGFRB-Lung, PDGFRB-Breast, PDGFRA-Thyroid, PDGFRA-Lung, PDGFRA-Breast, FLT4-Thyroid, FLT4-Lung, FLT4-Breast, FLT1-Thyroid, FLT1-Lung, FLT1-Breast, ROS1-Thyroid, ROS1-Lung, ROS1-Breast, MET-Thyroid, MET-Lung, MET-Breast, ALK-Thyroid, ALK-Lung, ALK-Breast, ERBB3-Thyroid, ERBB3-Lung, ERBB3-Breast, ERBB2-Thyroid, ERBB2-Lung, ERBB2-Breast, EGFR-Thyroid, EGFR-Lung, EGFR-Breast, IL6R-Thyroid, IL6R-Lung, IL6R-Breast, IL6-Thyroid, IL6-Lung, IL6-Breast, STAT5B-Thyroid, STAT5B-Lung, STAT5B-Breast, STAT5A-Thyroid, STAT5A-Lung, STAT5A-Breast, STAT3-Thyroid, STAT3-Lung, STAT3-Breast, STAT2-Thyroid, STAT2-Lung, STAT2-Breast, STAT1-Thyroid, STAT1-Lung, STAT1-Breast, JAK3-Thyroid, JAK3-Lung, JAK3-Breast, JAK2-Thyroid, JAK2-Lung, JAK2-Breast, JAK1-Thyroid, JAK1-Lung, JAK1-Breast, eps, b, a]\n",
      "Sampling 4 chains: 100%|██████████| 4000/4000 [04:43<00:00,  5.50draws/s]\n"
     ]
    },
    {
     "name": "stdout",
     "output_type": "stream",
     "text": [
      "Building model\n"
     ]
    },
    {
     "data": {
      "application/vnd.jupyter.widget-view+json": {
       "model_id": "398ef38865e744aba9977f2e966788ae",
       "version_major": 2,
       "version_minor": 0
      },
      "text/plain": [
       "HBox(children=(IntProgress(value=0, max=85), HTML(value='')))"
      ]
     },
     "metadata": {},
     "output_type": "display_data"
    },
    {
     "name": "stderr",
     "output_type": "stream",
     "text": [
      "Auto-assigning NUTS sampler...\n",
      "Initializing NUTS using jitter+adapt_diag...\n"
     ]
    },
    {
     "name": "stdout",
     "output_type": "stream",
     "text": [
      "\n"
     ]
    },
    {
     "name": "stderr",
     "output_type": "stream",
     "text": [
      "Multiprocess sampling (4 chains in 4 jobs)\n",
      "NUTS: [PARP1-Thyroid, PARP1-Minor, PARP1-Lung, PARP1-Breast, AURKC-Thyroid, AURKC-Minor, AURKC-Lung, AURKC-Breast, AURKB-Thyroid, AURKB-Minor, AURKB-Lung, AURKB-Breast, AURKA-Thyroid, AURKA-Minor, AURKA-Lung, AURKA-Breast, MS4A1-Thyroid, MS4A1-Minor, MS4A1-Lung, MS4A1-Breast, BTK-Thyroid, BTK-Minor, BTK-Lung, BTK-Breast, HSP90B1-Thyroid, HSP90B1-Minor, HSP90B1-Lung, HSP90B1-Breast, HSP90AB3P-Thyroid, HSP90AB3P-Minor, HSP90AB3P-Lung, HSP90AB3P-Breast, HSP90AB1-Thyroid, HSP90AB1-Minor, HSP90AB1-Lung, HSP90AB1-Breast, HSP90AA1-Thyroid, HSP90AA1-Minor, HSP90AA1-Lung, HSP90AA1-Breast, MDM2-Thyroid, MDM2-Minor, MDM2-Lung, MDM2-Breast, BCL6-Thyroid, BCL6-Minor, BCL6-Lung, BCL6-Breast, BCL2-Thyroid, BCL2-Minor, BCL2-Lung, BCL2-Breast, SMO-Thyroid, SMO-Minor, SMO-Lung, SMO-Breast, GLI1-Thyroid, GLI1-Minor, GLI1-Lung, GLI1-Breast, PTCH1-Thyroid, PTCH1-Minor, PTCH1-Lung, PTCH1-Breast, MAP2K2-Thyroid, MAP2K2-Minor, MAP2K2-Lung, MAP2K2-Breast, MAP2K1-Thyroid, MAP2K1-Minor, MAP2K1-Lung, MAP2K1-Breast, ARAF-Thyroid, ARAF-Minor, ARAF-Lung, ARAF-Breast, RAF1-Thyroid, RAF1-Minor, RAF1-Lung, RAF1-Breast, BRAF-Thyroid, BRAF-Minor, BRAF-Lung, BRAF-Breast, HRAS-Thyroid, HRAS-Minor, HRAS-Lung, HRAS-Breast, KRAS-Thyroid, KRAS-Minor, KRAS-Lung, KRAS-Breast, NRAS-Thyroid, NRAS-Minor, NRAS-Lung, NRAS-Breast, DEPTOR-Thyroid, DEPTOR-Minor, DEPTOR-Lung, DEPTOR-Breast, MLST8-Thyroid, MLST8-Minor, MLST8-Lung, MLST8-Breast, RPTOR-Thyroid, RPTOR-Minor, RPTOR-Lung, RPTOR-Breast, MTOR-Thyroid, MTOR-Minor, MTOR-Lung, MTOR-Breast, TSC2-Thyroid, TSC2-Minor, TSC2-Lung, TSC2-Breast, TSC1-Thyroid, TSC1-Minor, TSC1-Lung, TSC1-Breast, AKT3-Thyroid, AKT3-Minor, AKT3-Lung, AKT3-Breast, AKT1-Thyroid, AKT1-Minor, AKT1-Lung, AKT1-Breast, PIK3C3-Thyroid, PIK3C3-Minor, PIK3C3-Lung, PIK3C3-Breast, PIK3C2G-Thyroid, PIK3C2G-Minor, PIK3C2G-Lung, PIK3C2G-Breast, PIK3C2B-Thyroid, PIK3C2B-Minor, PIK3C2B-Lung, PIK3C2B-Breast, PIK3C2A-Thyroid, PIK3C2A-Minor, PIK3C2A-Lung, PIK3C2A-Breast, PIK3R6-Thyroid, PIK3R6-Minor, PIK3R6-Lung, PIK3R6-Breast, PIK3R5-Thyroid, PIK3R5-Minor, PIK3R5-Lung, PIK3R5-Breast, PIK3R4-Thyroid, PIK3R4-Minor, PIK3R4-Lung, PIK3R4-Breast, PIK3R3-Thyroid, PIK3R3-Minor, PIK3R3-Lung, PIK3R3-Breast, PIK3R2-Thyroid, PIK3R2-Minor, PIK3R2-Lung, PIK3R2-Breast, PIK3R1-Thyroid, PIK3R1-Minor, PIK3R1-Lung, PIK3R1-Breast, PIK3CD-Thyroid, PIK3CD-Minor, PIK3CD-Lung, PIK3CD-Breast, PIK3CG-Thyroid, PIK3CG-Minor, PIK3CG-Lung, PIK3CG-Breast, PIK3CB-Thyroid, PIK3CB-Minor, PIK3CB-Lung, PIK3CB-Breast, PIK3CA-Thyroid, PIK3CA-Minor, PIK3CA-Lung, PIK3CA-Breast, CDK2-Thyroid, CDK2-Minor, CDK2-Lung, CDK2-Breast, CCNE1-Thyroid, CCNE1-Minor, CCNE1-Lung, CCNE1-Breast, CCND3-Thyroid, CCND3-Minor, CCND3-Lung, CCND3-Breast, CCND2-Thyroid, CCND2-Minor, CCND2-Lung, CCND2-Breast, CCND1-Thyroid, CCND1-Minor, CCND1-Lung, CCND1-Breast, CDK6-Thyroid, CDK6-Minor, CDK6-Lung, CDK6-Breast, CDK4-Thyroid, CDK4-Minor, CDK4-Lung, CDK4-Breast, TEK-Thyroid, TEK-Minor, TEK-Lung, TEK-Breast, CSF1R-Thyroid, CSF1R-Minor, CSF1R-Lung, CSF1R-Breast, KIT-Thyroid, KIT-Minor, KIT-Lung, KIT-Breast, KDR-Thyroid, KDR-Minor, KDR-Lung, KDR-Breast, FLT3-Thyroid, FLT3-Minor, FLT3-Lung, FLT3-Breast, NTRK3-Thyroid, NTRK3-Minor, NTRK3-Lung, NTRK3-Breast, NTRK2-Thyroid, NTRK2-Minor, NTRK2-Lung, NTRK2-Breast, NTRK1-Thyroid, NTRK1-Minor, NTRK1-Lung, NTRK1-Breast, FGFR4-Thyroid, FGFR4-Minor, FGFR4-Lung, FGFR4-Breast, FGFR3-Thyroid, FGFR3-Minor, FGFR3-Lung, FGFR3-Breast, FGFR2-Thyroid, FGFR2-Minor, FGFR2-Lung, FGFR2-Breast, FGFR1-Thyroid, FGFR1-Minor, FGFR1-Lung, FGFR1-Breast, PDGFRB-Thyroid, PDGFRB-Minor, PDGFRB-Lung, PDGFRB-Breast, PDGFRA-Thyroid, PDGFRA-Minor, PDGFRA-Lung, PDGFRA-Breast, FLT4-Thyroid, FLT4-Minor, FLT4-Lung, FLT4-Breast, FLT1-Thyroid, FLT1-Minor, FLT1-Lung, FLT1-Breast, ROS1-Thyroid, ROS1-Minor, ROS1-Lung, ROS1-Breast, MET-Thyroid, MET-Minor, MET-Lung, MET-Breast, ALK-Thyroid, ALK-Minor, ALK-Lung, ALK-Breast, ERBB3-Thyroid, ERBB3-Minor, ERBB3-Lung, ERBB3-Breast, ERBB2-Thyroid, ERBB2-Minor, ERBB2-Lung, ERBB2-Breast, EGFR-Thyroid, EGFR-Minor, EGFR-Lung, EGFR-Breast, IL6R-Thyroid, IL6R-Minor, IL6R-Lung, IL6R-Breast, IL6-Thyroid, IL6-Minor, IL6-Lung, IL6-Breast, STAT5B-Thyroid, STAT5B-Minor, STAT5B-Lung, STAT5B-Breast, STAT5A-Thyroid, STAT5A-Minor, STAT5A-Lung, STAT5A-Breast, STAT3-Thyroid, STAT3-Minor, STAT3-Lung, STAT3-Breast, STAT2-Thyroid, STAT2-Minor, STAT2-Lung, STAT2-Breast, STAT1-Thyroid, STAT1-Minor, STAT1-Lung, STAT1-Breast, JAK3-Thyroid, JAK3-Minor, JAK3-Lung, JAK3-Breast, JAK2-Thyroid, JAK2-Minor, JAK2-Lung, JAK2-Breast, JAK1-Thyroid, JAK1-Minor, JAK1-Lung, JAK1-Breast, eps, b, a]\n",
      "Sampling 4 chains: 100%|██████████| 4000/4000 [09:11<00:00,  1.90draws/s]\n",
      "The number of effective samples is smaller than 25% for some parameters.\n"
     ]
    },
    {
     "name": "stdout",
     "output_type": "stream",
     "text": [
      "Building model\n"
     ]
    },
    {
     "data": {
      "application/vnd.jupyter.widget-view+json": {
       "model_id": "0c29242966e54b2392472f3f70dce46a",
       "version_major": 2,
       "version_minor": 0
      },
      "text/plain": [
       "HBox(children=(IntProgress(value=0, max=85), HTML(value='')))"
      ]
     },
     "metadata": {},
     "output_type": "display_data"
    },
    {
     "name": "stderr",
     "output_type": "stream",
     "text": [
      "Auto-assigning NUTS sampler...\n",
      "Initializing NUTS using jitter+adapt_diag...\n"
     ]
    },
    {
     "name": "stdout",
     "output_type": "stream",
     "text": [
      "\n"
     ]
    },
    {
     "name": "stderr",
     "output_type": "stream",
     "text": [
      "INFO (theano.gof.compilelock): Waiting for existing lock by process '21281' (I am process '16555')\n",
      "INFO (theano.gof.compilelock): To manually release the lock, delete /home/ubuntu/.theano/compiledir_Linux-4.15--generic-x86_64-with-debian-buster-sid-x86_64-3.6.5-64/lock_dir\n",
      "INFO (theano.gof.compilelock): Waiting for existing lock by process '21281' (I am process '16555')\n",
      "INFO (theano.gof.compilelock): To manually release the lock, delete /home/ubuntu/.theano/compiledir_Linux-4.15--generic-x86_64-with-debian-buster-sid-x86_64-3.6.5-64/lock_dir\n",
      "INFO (theano.gof.compilelock): Waiting for existing lock by process '21281' (I am process '16555')\n",
      "INFO (theano.gof.compilelock): To manually release the lock, delete /home/ubuntu/.theano/compiledir_Linux-4.15--generic-x86_64-with-debian-buster-sid-x86_64-3.6.5-64/lock_dir\n",
      "INFO (theano.gof.compilelock): Waiting for existing lock by process '21281' (I am process '16555')\n",
      "INFO (theano.gof.compilelock): To manually release the lock, delete /home/ubuntu/.theano/compiledir_Linux-4.15--generic-x86_64-with-debian-buster-sid-x86_64-3.6.5-64/lock_dir\n",
      "INFO (theano.gof.compilelock): Waiting for existing lock by process '21281' (I am process '16555')\n",
      "INFO (theano.gof.compilelock): To manually release the lock, delete /home/ubuntu/.theano/compiledir_Linux-4.15--generic-x86_64-with-debian-buster-sid-x86_64-3.6.5-64/lock_dir\n",
      "INFO (theano.gof.compilelock): Waiting for existing lock by process '21281' (I am process '16555')\n",
      "INFO (theano.gof.compilelock): To manually release the lock, delete /home/ubuntu/.theano/compiledir_Linux-4.15--generic-x86_64-with-debian-buster-sid-x86_64-3.6.5-64/lock_dir\n",
      "INFO (theano.gof.compilelock): Waiting for existing lock by process '21281' (I am process '16555')\n",
      "INFO (theano.gof.compilelock): To manually release the lock, delete /home/ubuntu/.theano/compiledir_Linux-4.15--generic-x86_64-with-debian-buster-sid-x86_64-3.6.5-64/lock_dir\n",
      "Multiprocess sampling (4 chains in 4 jobs)\n",
      "NUTS: [PARP1-Thyroid, PARP1-Minor, PARP1-Lung, PARP1-Breast, PARP1-Bladder, AURKC-Thyroid, AURKC-Minor, AURKC-Lung, AURKC-Breast, AURKC-Bladder, AURKB-Thyroid, AURKB-Minor, AURKB-Lung, AURKB-Breast, AURKB-Bladder, AURKA-Thyroid, AURKA-Minor, AURKA-Lung, AURKA-Breast, AURKA-Bladder, MS4A1-Thyroid, MS4A1-Minor, MS4A1-Lung, MS4A1-Breast, MS4A1-Bladder, BTK-Thyroid, BTK-Minor, BTK-Lung, BTK-Breast, BTK-Bladder, HSP90B1-Thyroid, HSP90B1-Minor, HSP90B1-Lung, HSP90B1-Breast, HSP90B1-Bladder, HSP90AB3P-Thyroid, HSP90AB3P-Minor, HSP90AB3P-Lung, HSP90AB3P-Breast, HSP90AB3P-Bladder, HSP90AB1-Thyroid, HSP90AB1-Minor, HSP90AB1-Lung, HSP90AB1-Breast, HSP90AB1-Bladder, HSP90AA1-Thyroid, HSP90AA1-Minor, HSP90AA1-Lung, HSP90AA1-Breast, HSP90AA1-Bladder, MDM2-Thyroid, MDM2-Minor, MDM2-Lung, MDM2-Breast, MDM2-Bladder, BCL6-Thyroid, BCL6-Minor, BCL6-Lung, BCL6-Breast, BCL6-Bladder, BCL2-Thyroid, BCL2-Minor, BCL2-Lung, BCL2-Breast, BCL2-Bladder, SMO-Thyroid, SMO-Minor, SMO-Lung, SMO-Breast, SMO-Bladder, GLI1-Thyroid, GLI1-Minor, GLI1-Lung, GLI1-Breast, GLI1-Bladder, PTCH1-Thyroid, PTCH1-Minor, PTCH1-Lung, PTCH1-Breast, PTCH1-Bladder, MAP2K2-Thyroid, MAP2K2-Minor, MAP2K2-Lung, MAP2K2-Breast, MAP2K2-Bladder, MAP2K1-Thyroid, MAP2K1-Minor, MAP2K1-Lung, MAP2K1-Breast, MAP2K1-Bladder, ARAF-Thyroid, ARAF-Minor, ARAF-Lung, ARAF-Breast, ARAF-Bladder, RAF1-Thyroid, RAF1-Minor, RAF1-Lung, RAF1-Breast, RAF1-Bladder, BRAF-Thyroid, BRAF-Minor, BRAF-Lung, BRAF-Breast, BRAF-Bladder, HRAS-Thyroid, HRAS-Minor, HRAS-Lung, HRAS-Breast, HRAS-Bladder, KRAS-Thyroid, KRAS-Minor, KRAS-Lung, KRAS-Breast, KRAS-Bladder, NRAS-Thyroid, NRAS-Minor, NRAS-Lung, NRAS-Breast, NRAS-Bladder, DEPTOR-Thyroid, DEPTOR-Minor, DEPTOR-Lung, DEPTOR-Breast, DEPTOR-Bladder, MLST8-Thyroid, MLST8-Minor, MLST8-Lung, MLST8-Breast, MLST8-Bladder, RPTOR-Thyroid, RPTOR-Minor, RPTOR-Lung, RPTOR-Breast, RPTOR-Bladder, MTOR-Thyroid, MTOR-Minor, MTOR-Lung, MTOR-Breast, MTOR-Bladder, TSC2-Thyroid, TSC2-Minor, TSC2-Lung, TSC2-Breast, TSC2-Bladder, TSC1-Thyroid, TSC1-Minor, TSC1-Lung, TSC1-Breast, TSC1-Bladder, AKT3-Thyroid, AKT3-Minor, AKT3-Lung, AKT3-Breast, AKT3-Bladder, AKT1-Thyroid, AKT1-Minor, AKT1-Lung, AKT1-Breast, AKT1-Bladder, PIK3C3-Thyroid, PIK3C3-Minor, PIK3C3-Lung, PIK3C3-Breast, PIK3C3-Bladder, PIK3C2G-Thyroid, PIK3C2G-Minor, PIK3C2G-Lung, PIK3C2G-Breast, PIK3C2G-Bladder, PIK3C2B-Thyroid, PIK3C2B-Minor, PIK3C2B-Lung, PIK3C2B-Breast, PIK3C2B-Bladder, PIK3C2A-Thyroid, PIK3C2A-Minor, PIK3C2A-Lung, PIK3C2A-Breast, PIK3C2A-Bladder, PIK3R6-Thyroid, PIK3R6-Minor, PIK3R6-Lung, PIK3R6-Breast, PIK3R6-Bladder, PIK3R5-Thyroid, PIK3R5-Minor, PIK3R5-Lung, PIK3R5-Breast, PIK3R5-Bladder, PIK3R4-Thyroid, PIK3R4-Minor, PIK3R4-Lung, PIK3R4-Breast, PIK3R4-Bladder, PIK3R3-Thyroid, PIK3R3-Minor, PIK3R3-Lung, PIK3R3-Breast, PIK3R3-Bladder, PIK3R2-Thyroid, PIK3R2-Minor, PIK3R2-Lung, PIK3R2-Breast, PIK3R2-Bladder, PIK3R1-Thyroid, PIK3R1-Minor, PIK3R1-Lung, PIK3R1-Breast, PIK3R1-Bladder, PIK3CD-Thyroid, PIK3CD-Minor, PIK3CD-Lung, PIK3CD-Breast, PIK3CD-Bladder, PIK3CG-Thyroid, PIK3CG-Minor, PIK3CG-Lung, PIK3CG-Breast, PIK3CG-Bladder, PIK3CB-Thyroid, PIK3CB-Minor, PIK3CB-Lung, PIK3CB-Breast, PIK3CB-Bladder, PIK3CA-Thyroid, PIK3CA-Minor, PIK3CA-Lung, PIK3CA-Breast, PIK3CA-Bladder, CDK2-Thyroid, CDK2-Minor, CDK2-Lung, CDK2-Breast, CDK2-Bladder, CCNE1-Thyroid, CCNE1-Minor, CCNE1-Lung, CCNE1-Breast, CCNE1-Bladder, CCND3-Thyroid, CCND3-Minor, CCND3-Lung, CCND3-Breast, CCND3-Bladder, CCND2-Thyroid, CCND2-Minor, CCND2-Lung, CCND2-Breast, CCND2-Bladder, CCND1-Thyroid, CCND1-Minor, CCND1-Lung, CCND1-Breast, CCND1-Bladder, CDK6-Thyroid, CDK6-Minor, CDK6-Lung, CDK6-Breast, CDK6-Bladder, CDK4-Thyroid, CDK4-Minor, CDK4-Lung, CDK4-Breast, CDK4-Bladder, TEK-Thyroid, TEK-Minor, TEK-Lung, TEK-Breast, TEK-Bladder, CSF1R-Thyroid, CSF1R-Minor, CSF1R-Lung, CSF1R-Breast, CSF1R-Bladder, KIT-Thyroid, KIT-Minor, KIT-Lung, KIT-Breast, KIT-Bladder, KDR-Thyroid, KDR-Minor, KDR-Lung, KDR-Breast, KDR-Bladder, FLT3-Thyroid, FLT3-Minor, FLT3-Lung, FLT3-Breast, FLT3-Bladder, NTRK3-Thyroid, NTRK3-Minor, NTRK3-Lung, NTRK3-Breast, NTRK3-Bladder, NTRK2-Thyroid, NTRK2-Minor, NTRK2-Lung, NTRK2-Breast, NTRK2-Bladder, NTRK1-Thyroid, NTRK1-Minor, NTRK1-Lung, NTRK1-Breast, NTRK1-Bladder, FGFR4-Thyroid, FGFR4-Minor, FGFR4-Lung, FGFR4-Breast, FGFR4-Bladder, FGFR3-Thyroid, FGFR3-Minor, FGFR3-Lung, FGFR3-Breast, FGFR3-Bladder, FGFR2-Thyroid, FGFR2-Minor, FGFR2-Lung, FGFR2-Breast, FGFR2-Bladder, FGFR1-Thyroid, FGFR1-Minor, FGFR1-Lung, FGFR1-Breast, FGFR1-Bladder, PDGFRB-Thyroid, PDGFRB-Minor, PDGFRB-Lung, PDGFRB-Breast, PDGFRB-Bladder, PDGFRA-Thyroid, PDGFRA-Minor, PDGFRA-Lung, PDGFRA-Breast, PDGFRA-Bladder, FLT4-Thyroid, FLT4-Minor, FLT4-Lung, FLT4-Breast, FLT4-Bladder, FLT1-Thyroid, FLT1-Minor, FLT1-Lung, FLT1-Breast, FLT1-Bladder, ROS1-Thyroid, ROS1-Minor, ROS1-Lung, ROS1-Breast, ROS1-Bladder, MET-Thyroid, MET-Minor, MET-Lung, MET-Breast, MET-Bladder, ALK-Thyroid, ALK-Minor, ALK-Lung, ALK-Breast, ALK-Bladder, ERBB3-Thyroid, ERBB3-Minor, ERBB3-Lung, ERBB3-Breast, ERBB3-Bladder, ERBB2-Thyroid, ERBB2-Minor, ERBB2-Lung, ERBB2-Breast, ERBB2-Bladder, EGFR-Thyroid, EGFR-Minor, EGFR-Lung, EGFR-Breast, EGFR-Bladder, IL6R-Thyroid, IL6R-Minor, IL6R-Lung, IL6R-Breast, IL6R-Bladder, IL6-Thyroid, IL6-Minor, IL6-Lung, IL6-Breast, IL6-Bladder, STAT5B-Thyroid, STAT5B-Minor, STAT5B-Lung, STAT5B-Breast, STAT5B-Bladder, STAT5A-Thyroid, STAT5A-Minor, STAT5A-Lung, STAT5A-Breast, STAT5A-Bladder, STAT3-Thyroid, STAT3-Minor, STAT3-Lung, STAT3-Breast, STAT3-Bladder, STAT2-Thyroid, STAT2-Minor, STAT2-Lung, STAT2-Breast, STAT2-Bladder, STAT1-Thyroid, STAT1-Minor, STAT1-Lung, STAT1-Breast, STAT1-Bladder, JAK3-Thyroid, JAK3-Minor, JAK3-Lung, JAK3-Breast, JAK3-Bladder, JAK2-Thyroid, JAK2-Minor, JAK2-Lung, JAK2-Breast, JAK2-Bladder, JAK1-Thyroid, JAK1-Minor, JAK1-Lung, JAK1-Breast, JAK1-Bladder, eps, b, a]\n",
      "Sampling 4 chains: 100%|██████████| 4000/4000 [12:49<00:00,  1.68draws/s] \n",
      "The number of effective samples is smaller than 25% for some parameters.\n"
     ]
    }
   ],
   "source": [
    "models, traces = [], []\n",
    "for group in groups:\n",
    "    training_group = gtex[gtex.tissue.isin(group)]\n",
    "    m, t = r.outlier.run_model(sample, training_group, drug_genes)\n",
    "    models.append(m)\n",
    "    traces.append(t)"
   ]
  },
  {
   "cell_type": "code",
   "execution_count": 19,
   "metadata": {
    "ExecuteTime": {
     "end_time": "2019-01-26T15:34:44.959725Z",
     "start_time": "2019-01-26T08:18:53.453960Z"
    }
   },
   "outputs": [
    {
     "name": "stderr",
     "output_type": "stream",
     "text": [
      "INFO (theano.gof.compilelock): Waiting for existing lock by process '21281' (I am process '16555')\n",
      "INFO (theano.gof.compilelock): To manually release the lock, delete /home/ubuntu/.theano/compiledir_Linux-4.15--generic-x86_64-with-debian-buster-sid-x86_64-3.6.5-64/lock_dir\n",
      "INFO (theano.gof.compilelock): Waiting for existing lock by process '21281' (I am process '16555')\n",
      "INFO (theano.gof.compilelock): To manually release the lock, delete /home/ubuntu/.theano/compiledir_Linux-4.15--generic-x86_64-with-debian-buster-sid-x86_64-3.6.5-64/lock_dir\n",
      "INFO (theano.gof.compilelock): Waiting for existing lock by process '21281' (I am process '16555')\n",
      "INFO (theano.gof.compilelock): To manually release the lock, delete /home/ubuntu/.theano/compiledir_Linux-4.15--generic-x86_64-with-debian-buster-sid-x86_64-3.6.5-64/lock_dir\n",
      "INFO (theano.gof.compilelock): Waiting for existing lock by process '21281' (I am process '16555')\n",
      "INFO (theano.gof.compilelock): To manually release the lock, delete /home/ubuntu/.theano/compiledir_Linux-4.15--generic-x86_64-with-debian-buster-sid-x86_64-3.6.5-64/lock_dir\n",
      "INFO (theano.gof.compilelock): Waiting for existing lock by process '21281' (I am process '16555')\n",
      "INFO (theano.gof.compilelock): To manually release the lock, delete /home/ubuntu/.theano/compiledir_Linux-4.15--generic-x86_64-with-debian-buster-sid-x86_64-3.6.5-64/lock_dir\n",
      "INFO (theano.gof.compilelock): Waiting for existing lock by process '21281' (I am process '16555')\n",
      "INFO (theano.gof.compilelock): To manually release the lock, delete /home/ubuntu/.theano/compiledir_Linux-4.15--generic-x86_64-with-debian-buster-sid-x86_64-3.6.5-64/lock_dir\n",
      "INFO (theano.gof.compilelock): Waiting for existing lock by process '21281' (I am process '16555')\n",
      "INFO (theano.gof.compilelock): To manually release the lock, delete /home/ubuntu/.theano/compiledir_Linux-4.15--generic-x86_64-with-debian-buster-sid-x86_64-3.6.5-64/lock_dir\n",
      "INFO (theano.gof.compilelock): Waiting for existing lock by process '21281' (I am process '16555')\n",
      "INFO (theano.gof.compilelock): To manually release the lock, delete /home/ubuntu/.theano/compiledir_Linux-4.15--generic-x86_64-with-debian-buster-sid-x86_64-3.6.5-64/lock_dir\n",
      "INFO (theano.gof.compilelock): Waiting for existing lock by process '21281' (I am process '16555')\n",
      "INFO (theano.gof.compilelock): To manually release the lock, delete /home/ubuntu/.theano/compiledir_Linux-4.15--generic-x86_64-with-debian-buster-sid-x86_64-3.6.5-64/lock_dir\n",
      "INFO (theano.gof.compilelock): Waiting for existing lock by process '21281' (I am process '16555')\n",
      "INFO (theano.gof.compilelock): To manually release the lock, delete /home/ubuntu/.theano/compiledir_Linux-4.15--generic-x86_64-with-debian-buster-sid-x86_64-3.6.5-64/lock_dir\n",
      "INFO (theano.gof.compilelock): Waiting for existing lock by process '21281' (I am process '16555')\n",
      "INFO (theano.gof.compilelock): To manually release the lock, delete /home/ubuntu/.theano/compiledir_Linux-4.15--generic-x86_64-with-debian-buster-sid-x86_64-3.6.5-64/lock_dir\n",
      "INFO (theano.gof.compilelock): Waiting for existing lock by process '21281' (I am process '16555')\n",
      "INFO (theano.gof.compilelock): To manually release the lock, delete /home/ubuntu/.theano/compiledir_Linux-4.15--generic-x86_64-with-debian-buster-sid-x86_64-3.6.5-64/lock_dir\n",
      "INFO (theano.gof.compilelock): Waiting for existing lock by process '21281' (I am process '16555')\n",
      "INFO (theano.gof.compilelock): To manually release the lock, delete /home/ubuntu/.theano/compiledir_Linux-4.15--generic-x86_64-with-debian-buster-sid-x86_64-3.6.5-64/lock_dir\n",
      "INFO (theano.gof.compilelock): Waiting for existing lock by process '21281' (I am process '16555')\n",
      "INFO (theano.gof.compilelock): To manually release the lock, delete /home/ubuntu/.theano/compiledir_Linux-4.15--generic-x86_64-with-debian-buster-sid-x86_64-3.6.5-64/lock_dir\n",
      "INFO (theano.gof.compilelock): Waiting for existing lock by process '21281' (I am process '16555')\n",
      "INFO (theano.gof.compilelock): To manually release the lock, delete /home/ubuntu/.theano/compiledir_Linux-4.15--generic-x86_64-with-debian-buster-sid-x86_64-3.6.5-64/lock_dir\n",
      "INFO (theano.gof.compilelock): Waiting for existing lock by process '21281' (I am process '16555')\n",
      "INFO (theano.gof.compilelock): To manually release the lock, delete /home/ubuntu/.theano/compiledir_Linux-4.15--generic-x86_64-with-debian-buster-sid-x86_64-3.6.5-64/lock_dir\n",
      "INFO (theano.gof.compilelock): Waiting for existing lock by process '21281' (I am process '16555')\n",
      "INFO (theano.gof.compilelock): To manually release the lock, delete /home/ubuntu/.theano/compiledir_Linux-4.15--generic-x86_64-with-debian-buster-sid-x86_64-3.6.5-64/lock_dir\n",
      "INFO (theano.gof.compilelock): Waiting for existing lock by process '21281' (I am process '16555')\n",
      "INFO (theano.gof.compilelock): To manually release the lock, delete /home/ubuntu/.theano/compiledir_Linux-4.15--generic-x86_64-with-debian-buster-sid-x86_64-3.6.5-64/lock_dir\n",
      "INFO (theano.gof.compilelock): Waiting for existing lock by process '21281' (I am process '16555')\n",
      "INFO (theano.gof.compilelock): To manually release the lock, delete /home/ubuntu/.theano/compiledir_Linux-4.15--generic-x86_64-with-debian-buster-sid-x86_64-3.6.5-64/lock_dir\n",
      "INFO (theano.gof.compilelock): Waiting for existing lock by process '21281' (I am process '16555')\n",
      "INFO (theano.gof.compilelock): To manually release the lock, delete /home/ubuntu/.theano/compiledir_Linux-4.15--generic-x86_64-with-debian-buster-sid-x86_64-3.6.5-64/lock_dir\n",
      "INFO (theano.gof.compilelock): Waiting for existing lock by process '21281' (I am process '16555')\n",
      "INFO (theano.gof.compilelock): To manually release the lock, delete /home/ubuntu/.theano/compiledir_Linux-4.15--generic-x86_64-with-debian-buster-sid-x86_64-3.6.5-64/lock_dir\n",
      "INFO (theano.gof.compilelock): Waiting for existing lock by process '21281' (I am process '16555')\n",
      "INFO (theano.gof.compilelock): To manually release the lock, delete /home/ubuntu/.theano/compiledir_Linux-4.15--generic-x86_64-with-debian-buster-sid-x86_64-3.6.5-64/lock_dir\n",
      "INFO (theano.gof.compilelock): Waiting for existing lock by process '21281' (I am process '16555')\n",
      "INFO (theano.gof.compilelock): To manually release the lock, delete /home/ubuntu/.theano/compiledir_Linux-4.15--generic-x86_64-with-debian-buster-sid-x86_64-3.6.5-64/lock_dir\n",
      "INFO (theano.gof.compilelock): Waiting for existing lock by process '21281' (I am process '16555')\n",
      "INFO (theano.gof.compilelock): To manually release the lock, delete /home/ubuntu/.theano/compiledir_Linux-4.15--generic-x86_64-with-debian-buster-sid-x86_64-3.6.5-64/lock_dir\n",
      "INFO (theano.gof.compilelock): Waiting for existing lock by process '21281' (I am process '16555')\n",
      "INFO (theano.gof.compilelock): To manually release the lock, delete /home/ubuntu/.theano/compiledir_Linux-4.15--generic-x86_64-with-debian-buster-sid-x86_64-3.6.5-64/lock_dir\n",
      "INFO (theano.gof.compilelock): Waiting for existing lock by process '21281' (I am process '16555')\n",
      "INFO (theano.gof.compilelock): To manually release the lock, delete /home/ubuntu/.theano/compiledir_Linux-4.15--generic-x86_64-with-debian-buster-sid-x86_64-3.6.5-64/lock_dir\n",
      "INFO (theano.gof.compilelock): Waiting for existing lock by process '21281' (I am process '16555')\n",
      "INFO (theano.gof.compilelock): To manually release the lock, delete /home/ubuntu/.theano/compiledir_Linux-4.15--generic-x86_64-with-debian-buster-sid-x86_64-3.6.5-64/lock_dir\n",
      "INFO (theano.gof.compilelock): Waiting for existing lock by process '21281' (I am process '16555')\n",
      "INFO (theano.gof.compilelock): To manually release the lock, delete /home/ubuntu/.theano/compiledir_Linux-4.15--generic-x86_64-with-debian-buster-sid-x86_64-3.6.5-64/lock_dir\n",
      "INFO (theano.gof.compilelock): Waiting for existing lock by process '21281' (I am process '16555')\n",
      "INFO (theano.gof.compilelock): To manually release the lock, delete /home/ubuntu/.theano/compiledir_Linux-4.15--generic-x86_64-with-debian-buster-sid-x86_64-3.6.5-64/lock_dir\n",
      "INFO (theano.gof.compilelock): Waiting for existing lock by process '21281' (I am process '16555')\n",
      "INFO (theano.gof.compilelock): To manually release the lock, delete /home/ubuntu/.theano/compiledir_Linux-4.15--generic-x86_64-with-debian-buster-sid-x86_64-3.6.5-64/lock_dir\n"
     ]
    },
    {
     "name": "stderr",
     "output_type": "stream",
     "text": [
      "INFO (theano.gof.compilelock): Waiting for existing lock by process '21281' (I am process '16555')\n",
      "INFO (theano.gof.compilelock): To manually release the lock, delete /home/ubuntu/.theano/compiledir_Linux-4.15--generic-x86_64-with-debian-buster-sid-x86_64-3.6.5-64/lock_dir\n",
      "INFO (theano.gof.compilelock): Waiting for existing lock by process '21281' (I am process '16555')\n",
      "INFO (theano.gof.compilelock): To manually release the lock, delete /home/ubuntu/.theano/compiledir_Linux-4.15--generic-x86_64-with-debian-buster-sid-x86_64-3.6.5-64/lock_dir\n",
      "INFO (theano.gof.compilelock): Waiting for existing lock by process '21281' (I am process '16555')\n",
      "INFO (theano.gof.compilelock): To manually release the lock, delete /home/ubuntu/.theano/compiledir_Linux-4.15--generic-x86_64-with-debian-buster-sid-x86_64-3.6.5-64/lock_dir\n",
      "INFO (theano.gof.compilelock): Waiting for existing lock by process '21281' (I am process '16555')\n",
      "INFO (theano.gof.compilelock): To manually release the lock, delete /home/ubuntu/.theano/compiledir_Linux-4.15--generic-x86_64-with-debian-buster-sid-x86_64-3.6.5-64/lock_dir\n",
      "INFO (theano.gof.compilelock): Waiting for existing lock by process '21281' (I am process '16555')\n",
      "INFO (theano.gof.compilelock): To manually release the lock, delete /home/ubuntu/.theano/compiledir_Linux-4.15--generic-x86_64-with-debian-buster-sid-x86_64-3.6.5-64/lock_dir\n",
      "INFO (theano.gof.compilelock): Waiting for existing lock by process '21281' (I am process '16555')\n",
      "INFO (theano.gof.compilelock): To manually release the lock, delete /home/ubuntu/.theano/compiledir_Linux-4.15--generic-x86_64-with-debian-buster-sid-x86_64-3.6.5-64/lock_dir\n",
      "INFO (theano.gof.compilelock): Waiting for existing lock by process '21281' (I am process '16555')\n",
      "INFO (theano.gof.compilelock): To manually release the lock, delete /home/ubuntu/.theano/compiledir_Linux-4.15--generic-x86_64-with-debian-buster-sid-x86_64-3.6.5-64/lock_dir\n",
      "INFO (theano.gof.compilelock): Waiting for existing lock by process '21281' (I am process '16555')\n",
      "INFO (theano.gof.compilelock): To manually release the lock, delete /home/ubuntu/.theano/compiledir_Linux-4.15--generic-x86_64-with-debian-buster-sid-x86_64-3.6.5-64/lock_dir\n",
      "INFO (theano.gof.compilelock): Waiting for existing lock by process '21281' (I am process '16555')\n",
      "INFO (theano.gof.compilelock): To manually release the lock, delete /home/ubuntu/.theano/compiledir_Linux-4.15--generic-x86_64-with-debian-buster-sid-x86_64-3.6.5-64/lock_dir\n",
      "INFO (theano.gof.compilelock): Waiting for existing lock by process '21281' (I am process '16555')\n",
      "INFO (theano.gof.compilelock): To manually release the lock, delete /home/ubuntu/.theano/compiledir_Linux-4.15--generic-x86_64-with-debian-buster-sid-x86_64-3.6.5-64/lock_dir\n",
      "INFO (theano.gof.compilelock): Waiting for existing lock by process '21281' (I am process '16555')\n",
      "INFO (theano.gof.compilelock): To manually release the lock, delete /home/ubuntu/.theano/compiledir_Linux-4.15--generic-x86_64-with-debian-buster-sid-x86_64-3.6.5-64/lock_dir\n",
      "INFO (theano.gof.compilelock): Waiting for existing lock by process '21281' (I am process '16555')\n",
      "INFO (theano.gof.compilelock): To manually release the lock, delete /home/ubuntu/.theano/compiledir_Linux-4.15--generic-x86_64-with-debian-buster-sid-x86_64-3.6.5-64/lock_dir\n",
      "INFO (theano.gof.compilelock): Waiting for existing lock by process '21281' (I am process '16555')\n",
      "INFO (theano.gof.compilelock): To manually release the lock, delete /home/ubuntu/.theano/compiledir_Linux-4.15--generic-x86_64-with-debian-buster-sid-x86_64-3.6.5-64/lock_dir\n",
      "INFO (theano.gof.compilelock): Waiting for existing lock by process '21281' (I am process '16555')\n",
      "INFO (theano.gof.compilelock): To manually release the lock, delete /home/ubuntu/.theano/compiledir_Linux-4.15--generic-x86_64-with-debian-buster-sid-x86_64-3.6.5-64/lock_dir\n",
      "INFO (theano.gof.compilelock): Waiting for existing lock by process '21281' (I am process '16555')\n",
      "INFO (theano.gof.compilelock): To manually release the lock, delete /home/ubuntu/.theano/compiledir_Linux-4.15--generic-x86_64-with-debian-buster-sid-x86_64-3.6.5-64/lock_dir\n",
      "INFO (theano.gof.compilelock): Waiting for existing lock by process '21281' (I am process '16555')\n",
      "INFO (theano.gof.compilelock): To manually release the lock, delete /home/ubuntu/.theano/compiledir_Linux-4.15--generic-x86_64-with-debian-buster-sid-x86_64-3.6.5-64/lock_dir\n",
      "INFO (theano.gof.compilelock): Waiting for existing lock by process '21281' (I am process '16555')\n",
      "INFO (theano.gof.compilelock): To manually release the lock, delete /home/ubuntu/.theano/compiledir_Linux-4.15--generic-x86_64-with-debian-buster-sid-x86_64-3.6.5-64/lock_dir\n",
      "INFO (theano.gof.compilelock): Waiting for existing lock by process '21281' (I am process '16555')\n",
      "INFO (theano.gof.compilelock): To manually release the lock, delete /home/ubuntu/.theano/compiledir_Linux-4.15--generic-x86_64-with-debian-buster-sid-x86_64-3.6.5-64/lock_dir\n",
      "INFO (theano.gof.compilelock): Waiting for existing lock by process '21281' (I am process '16555')\n",
      "INFO (theano.gof.compilelock): To manually release the lock, delete /home/ubuntu/.theano/compiledir_Linux-4.15--generic-x86_64-with-debian-buster-sid-x86_64-3.6.5-64/lock_dir\n",
      "INFO (theano.gof.compilelock): Waiting for existing lock by process '21281' (I am process '16555')\n",
      "INFO (theano.gof.compilelock): To manually release the lock, delete /home/ubuntu/.theano/compiledir_Linux-4.15--generic-x86_64-with-debian-buster-sid-x86_64-3.6.5-64/lock_dir\n",
      "INFO (theano.gof.compilelock): Waiting for existing lock by process '21281' (I am process '16555')\n",
      "INFO (theano.gof.compilelock): To manually release the lock, delete /home/ubuntu/.theano/compiledir_Linux-4.15--generic-x86_64-with-debian-buster-sid-x86_64-3.6.5-64/lock_dir\n",
      "INFO (theano.gof.compilelock): Waiting for existing lock by process '21281' (I am process '16555')\n",
      "INFO (theano.gof.compilelock): To manually release the lock, delete /home/ubuntu/.theano/compiledir_Linux-4.15--generic-x86_64-with-debian-buster-sid-x86_64-3.6.5-64/lock_dir\n",
      "INFO (theano.gof.compilelock): Waiting for existing lock by process '21281' (I am process '16555')\n",
      "INFO (theano.gof.compilelock): To manually release the lock, delete /home/ubuntu/.theano/compiledir_Linux-4.15--generic-x86_64-with-debian-buster-sid-x86_64-3.6.5-64/lock_dir\n",
      "INFO (theano.gof.compilelock): Waiting for existing lock by process '21281' (I am process '16555')\n",
      "INFO (theano.gof.compilelock): To manually release the lock, delete /home/ubuntu/.theano/compiledir_Linux-4.15--generic-x86_64-with-debian-buster-sid-x86_64-3.6.5-64/lock_dir\n",
      "INFO (theano.gof.compilelock): Waiting for existing lock by process '21281' (I am process '16555')\n",
      "INFO (theano.gof.compilelock): To manually release the lock, delete /home/ubuntu/.theano/compiledir_Linux-4.15--generic-x86_64-with-debian-buster-sid-x86_64-3.6.5-64/lock_dir\n",
      "INFO (theano.gof.compilelock): Waiting for existing lock by process '21281' (I am process '16555')\n",
      "INFO (theano.gof.compilelock): To manually release the lock, delete /home/ubuntu/.theano/compiledir_Linux-4.15--generic-x86_64-with-debian-buster-sid-x86_64-3.6.5-64/lock_dir\n",
      "INFO (theano.gof.compilelock): Waiting for existing lock by process '21281' (I am process '16555')\n",
      "INFO (theano.gof.compilelock): To manually release the lock, delete /home/ubuntu/.theano/compiledir_Linux-4.15--generic-x86_64-with-debian-buster-sid-x86_64-3.6.5-64/lock_dir\n",
      "INFO (theano.gof.compilelock): Waiting for existing lock by process '21281' (I am process '16555')\n",
      "INFO (theano.gof.compilelock): To manually release the lock, delete /home/ubuntu/.theano/compiledir_Linux-4.15--generic-x86_64-with-debian-buster-sid-x86_64-3.6.5-64/lock_dir\n",
      "INFO (theano.gof.compilelock): Waiting for existing lock by process '21281' (I am process '16555')\n",
      "INFO (theano.gof.compilelock): To manually release the lock, delete /home/ubuntu/.theano/compiledir_Linux-4.15--generic-x86_64-with-debian-buster-sid-x86_64-3.6.5-64/lock_dir\n",
      "INFO (theano.gof.compilelock): Waiting for existing lock by process '21281' (I am process '16555')\n",
      "INFO (theano.gof.compilelock): To manually release the lock, delete /home/ubuntu/.theano/compiledir_Linux-4.15--generic-x86_64-with-debian-buster-sid-x86_64-3.6.5-64/lock_dir\n"
     ]
    },
    {
     "name": "stderr",
     "output_type": "stream",
     "text": [
      "INFO (theano.gof.compilelock): Waiting for existing lock by process '21281' (I am process '16555')\n",
      "INFO (theano.gof.compilelock): To manually release the lock, delete /home/ubuntu/.theano/compiledir_Linux-4.15--generic-x86_64-with-debian-buster-sid-x86_64-3.6.5-64/lock_dir\n",
      "INFO (theano.gof.compilelock): Waiting for existing lock by process '21281' (I am process '16555')\n",
      "INFO (theano.gof.compilelock): To manually release the lock, delete /home/ubuntu/.theano/compiledir_Linux-4.15--generic-x86_64-with-debian-buster-sid-x86_64-3.6.5-64/lock_dir\n",
      "INFO (theano.gof.compilelock): Waiting for existing lock by process '21281' (I am process '16555')\n",
      "INFO (theano.gof.compilelock): To manually release the lock, delete /home/ubuntu/.theano/compiledir_Linux-4.15--generic-x86_64-with-debian-buster-sid-x86_64-3.6.5-64/lock_dir\n",
      "INFO (theano.gof.compilelock): Waiting for existing lock by process '21281' (I am process '16555')\n",
      "INFO (theano.gof.compilelock): To manually release the lock, delete /home/ubuntu/.theano/compiledir_Linux-4.15--generic-x86_64-with-debian-buster-sid-x86_64-3.6.5-64/lock_dir\n",
      "INFO (theano.gof.compilelock): Waiting for existing lock by process '21281' (I am process '16555')\n",
      "INFO (theano.gof.compilelock): To manually release the lock, delete /home/ubuntu/.theano/compiledir_Linux-4.15--generic-x86_64-with-debian-buster-sid-x86_64-3.6.5-64/lock_dir\n",
      "INFO (theano.gof.compilelock): Waiting for existing lock by process '21281' (I am process '16555')\n",
      "INFO (theano.gof.compilelock): To manually release the lock, delete /home/ubuntu/.theano/compiledir_Linux-4.15--generic-x86_64-with-debian-buster-sid-x86_64-3.6.5-64/lock_dir\n",
      "INFO (theano.gof.compilelock): Waiting for existing lock by process '21281' (I am process '16555')\n",
      "INFO (theano.gof.compilelock): To manually release the lock, delete /home/ubuntu/.theano/compiledir_Linux-4.15--generic-x86_64-with-debian-buster-sid-x86_64-3.6.5-64/lock_dir\n",
      "INFO (theano.gof.compilelock): Waiting for existing lock by process '21281' (I am process '16555')\n",
      "INFO (theano.gof.compilelock): To manually release the lock, delete /home/ubuntu/.theano/compiledir_Linux-4.15--generic-x86_64-with-debian-buster-sid-x86_64-3.6.5-64/lock_dir\n",
      "INFO (theano.gof.compilelock): Waiting for existing lock by process '21281' (I am process '16555')\n",
      "INFO (theano.gof.compilelock): To manually release the lock, delete /home/ubuntu/.theano/compiledir_Linux-4.15--generic-x86_64-with-debian-buster-sid-x86_64-3.6.5-64/lock_dir\n",
      "INFO (theano.gof.compilelock): Waiting for existing lock by process '21281' (I am process '16555')\n",
      "INFO (theano.gof.compilelock): To manually release the lock, delete /home/ubuntu/.theano/compiledir_Linux-4.15--generic-x86_64-with-debian-buster-sid-x86_64-3.6.5-64/lock_dir\n",
      "INFO (theano.gof.compilelock): Waiting for existing lock by process '21281' (I am process '16555')\n",
      "INFO (theano.gof.compilelock): To manually release the lock, delete /home/ubuntu/.theano/compiledir_Linux-4.15--generic-x86_64-with-debian-buster-sid-x86_64-3.6.5-64/lock_dir\n",
      "INFO (theano.gof.compilelock): Waiting for existing lock by process '21281' (I am process '16555')\n",
      "INFO (theano.gof.compilelock): To manually release the lock, delete /home/ubuntu/.theano/compiledir_Linux-4.15--generic-x86_64-with-debian-buster-sid-x86_64-3.6.5-64/lock_dir\n",
      "INFO (theano.gof.compilelock): Waiting for existing lock by process '21281' (I am process '16555')\n",
      "INFO (theano.gof.compilelock): To manually release the lock, delete /home/ubuntu/.theano/compiledir_Linux-4.15--generic-x86_64-with-debian-buster-sid-x86_64-3.6.5-64/lock_dir\n",
      "INFO (theano.gof.compilelock): Waiting for existing lock by process '21281' (I am process '16555')\n",
      "INFO (theano.gof.compilelock): To manually release the lock, delete /home/ubuntu/.theano/compiledir_Linux-4.15--generic-x86_64-with-debian-buster-sid-x86_64-3.6.5-64/lock_dir\n",
      "INFO (theano.gof.compilelock): Waiting for existing lock by process '21281' (I am process '16555')\n",
      "INFO (theano.gof.compilelock): To manually release the lock, delete /home/ubuntu/.theano/compiledir_Linux-4.15--generic-x86_64-with-debian-buster-sid-x86_64-3.6.5-64/lock_dir\n",
      "INFO (theano.gof.compilelock): Waiting for existing lock by process '21281' (I am process '16555')\n",
      "INFO (theano.gof.compilelock): To manually release the lock, delete /home/ubuntu/.theano/compiledir_Linux-4.15--generic-x86_64-with-debian-buster-sid-x86_64-3.6.5-64/lock_dir\n",
      "INFO (theano.gof.compilelock): Waiting for existing lock by process '21281' (I am process '16555')\n",
      "INFO (theano.gof.compilelock): To manually release the lock, delete /home/ubuntu/.theano/compiledir_Linux-4.15--generic-x86_64-with-debian-buster-sid-x86_64-3.6.5-64/lock_dir\n",
      "INFO (theano.gof.compilelock): Waiting for existing lock by process '21281' (I am process '16555')\n",
      "INFO (theano.gof.compilelock): To manually release the lock, delete /home/ubuntu/.theano/compiledir_Linux-4.15--generic-x86_64-with-debian-buster-sid-x86_64-3.6.5-64/lock_dir\n",
      "INFO (theano.gof.compilelock): Waiting for existing lock by process '21281' (I am process '16555')\n",
      "INFO (theano.gof.compilelock): To manually release the lock, delete /home/ubuntu/.theano/compiledir_Linux-4.15--generic-x86_64-with-debian-buster-sid-x86_64-3.6.5-64/lock_dir\n",
      "INFO (theano.gof.compilelock): Waiting for existing lock by process '21281' (I am process '16555')\n",
      "INFO (theano.gof.compilelock): To manually release the lock, delete /home/ubuntu/.theano/compiledir_Linux-4.15--generic-x86_64-with-debian-buster-sid-x86_64-3.6.5-64/lock_dir\n",
      "INFO (theano.gof.compilelock): Waiting for existing lock by process '21281' (I am process '16555')\n",
      "INFO (theano.gof.compilelock): To manually release the lock, delete /home/ubuntu/.theano/compiledir_Linux-4.15--generic-x86_64-with-debian-buster-sid-x86_64-3.6.5-64/lock_dir\n",
      "INFO (theano.gof.compilelock): Waiting for existing lock by process '21281' (I am process '16555')\n",
      "INFO (theano.gof.compilelock): To manually release the lock, delete /home/ubuntu/.theano/compiledir_Linux-4.15--generic-x86_64-with-debian-buster-sid-x86_64-3.6.5-64/lock_dir\n",
      "INFO (theano.gof.compilelock): Waiting for existing lock by process '21281' (I am process '16555')\n",
      "INFO (theano.gof.compilelock): To manually release the lock, delete /home/ubuntu/.theano/compiledir_Linux-4.15--generic-x86_64-with-debian-buster-sid-x86_64-3.6.5-64/lock_dir\n",
      "INFO (theano.gof.compilelock): Waiting for existing lock by process '21281' (I am process '16555')\n",
      "INFO (theano.gof.compilelock): To manually release the lock, delete /home/ubuntu/.theano/compiledir_Linux-4.15--generic-x86_64-with-debian-buster-sid-x86_64-3.6.5-64/lock_dir\n",
      "INFO (theano.gof.compilelock): Waiting for existing lock by process '21281' (I am process '16555')\n",
      "INFO (theano.gof.compilelock): To manually release the lock, delete /home/ubuntu/.theano/compiledir_Linux-4.15--generic-x86_64-with-debian-buster-sid-x86_64-3.6.5-64/lock_dir\n",
      "INFO (theano.gof.compilelock): Waiting for existing lock by process '21281' (I am process '16555')\n",
      "INFO (theano.gof.compilelock): To manually release the lock, delete /home/ubuntu/.theano/compiledir_Linux-4.15--generic-x86_64-with-debian-buster-sid-x86_64-3.6.5-64/lock_dir\n",
      "INFO (theano.gof.compilelock): Waiting for existing lock by process '21281' (I am process '16555')\n",
      "INFO (theano.gof.compilelock): To manually release the lock, delete /home/ubuntu/.theano/compiledir_Linux-4.15--generic-x86_64-with-debian-buster-sid-x86_64-3.6.5-64/lock_dir\n",
      "INFO (theano.gof.compilelock): Waiting for existing lock by process '21281' (I am process '16555')\n",
      "INFO (theano.gof.compilelock): To manually release the lock, delete /home/ubuntu/.theano/compiledir_Linux-4.15--generic-x86_64-with-debian-buster-sid-x86_64-3.6.5-64/lock_dir\n",
      "INFO (theano.gof.compilelock): Waiting for existing lock by process '21281' (I am process '16555')\n",
      "INFO (theano.gof.compilelock): To manually release the lock, delete /home/ubuntu/.theano/compiledir_Linux-4.15--generic-x86_64-with-debian-buster-sid-x86_64-3.6.5-64/lock_dir\n",
      "INFO (theano.gof.compilelock): Waiting for existing lock by process '21281' (I am process '16555')\n",
      "INFO (theano.gof.compilelock): To manually release the lock, delete /home/ubuntu/.theano/compiledir_Linux-4.15--generic-x86_64-with-debian-buster-sid-x86_64-3.6.5-64/lock_dir\n"
     ]
    },
    {
     "name": "stderr",
     "output_type": "stream",
     "text": [
      "INFO (theano.gof.compilelock): Waiting for existing lock by process '21281' (I am process '16555')\n",
      "INFO (theano.gof.compilelock): To manually release the lock, delete /home/ubuntu/.theano/compiledir_Linux-4.15--generic-x86_64-with-debian-buster-sid-x86_64-3.6.5-64/lock_dir\n",
      "INFO (theano.gof.compilelock): Waiting for existing lock by process '21281' (I am process '16555')\n",
      "INFO (theano.gof.compilelock): To manually release the lock, delete /home/ubuntu/.theano/compiledir_Linux-4.15--generic-x86_64-with-debian-buster-sid-x86_64-3.6.5-64/lock_dir\n",
      "INFO (theano.gof.compilelock): Waiting for existing lock by process '21281' (I am process '16555')\n",
      "INFO (theano.gof.compilelock): To manually release the lock, delete /home/ubuntu/.theano/compiledir_Linux-4.15--generic-x86_64-with-debian-buster-sid-x86_64-3.6.5-64/lock_dir\n",
      "INFO (theano.gof.compilelock): Waiting for existing lock by process '21281' (I am process '16555')\n",
      "INFO (theano.gof.compilelock): To manually release the lock, delete /home/ubuntu/.theano/compiledir_Linux-4.15--generic-x86_64-with-debian-buster-sid-x86_64-3.6.5-64/lock_dir\n",
      "INFO (theano.gof.compilelock): Waiting for existing lock by process '21281' (I am process '16555')\n",
      "INFO (theano.gof.compilelock): To manually release the lock, delete /home/ubuntu/.theano/compiledir_Linux-4.15--generic-x86_64-with-debian-buster-sid-x86_64-3.6.5-64/lock_dir\n",
      "INFO (theano.gof.compilelock): Waiting for existing lock by process '21281' (I am process '16555')\n",
      "INFO (theano.gof.compilelock): To manually release the lock, delete /home/ubuntu/.theano/compiledir_Linux-4.15--generic-x86_64-with-debian-buster-sid-x86_64-3.6.5-64/lock_dir\n",
      "INFO (theano.gof.compilelock): Waiting for existing lock by process '21281' (I am process '16555')\n",
      "INFO (theano.gof.compilelock): To manually release the lock, delete /home/ubuntu/.theano/compiledir_Linux-4.15--generic-x86_64-with-debian-buster-sid-x86_64-3.6.5-64/lock_dir\n",
      "INFO (theano.gof.compilelock): Waiting for existing lock by process '21281' (I am process '16555')\n",
      "INFO (theano.gof.compilelock): To manually release the lock, delete /home/ubuntu/.theano/compiledir_Linux-4.15--generic-x86_64-with-debian-buster-sid-x86_64-3.6.5-64/lock_dir\n",
      "INFO (theano.gof.compilelock): Waiting for existing lock by process '21281' (I am process '16555')\n",
      "INFO (theano.gof.compilelock): To manually release the lock, delete /home/ubuntu/.theano/compiledir_Linux-4.15--generic-x86_64-with-debian-buster-sid-x86_64-3.6.5-64/lock_dir\n",
      "INFO (theano.gof.compilelock): Waiting for existing lock by process '21281' (I am process '16555')\n",
      "INFO (theano.gof.compilelock): To manually release the lock, delete /home/ubuntu/.theano/compiledir_Linux-4.15--generic-x86_64-with-debian-buster-sid-x86_64-3.6.5-64/lock_dir\n",
      "INFO (theano.gof.compilelock): Waiting for existing lock by process '21281' (I am process '16555')\n",
      "INFO (theano.gof.compilelock): To manually release the lock, delete /home/ubuntu/.theano/compiledir_Linux-4.15--generic-x86_64-with-debian-buster-sid-x86_64-3.6.5-64/lock_dir\n",
      "INFO (theano.gof.compilelock): Waiting for existing lock by process '21281' (I am process '16555')\n",
      "INFO (theano.gof.compilelock): To manually release the lock, delete /home/ubuntu/.theano/compiledir_Linux-4.15--generic-x86_64-with-debian-buster-sid-x86_64-3.6.5-64/lock_dir\n",
      "INFO (theano.gof.compilelock): Waiting for existing lock by process '21281' (I am process '16555')\n",
      "INFO (theano.gof.compilelock): To manually release the lock, delete /home/ubuntu/.theano/compiledir_Linux-4.15--generic-x86_64-with-debian-buster-sid-x86_64-3.6.5-64/lock_dir\n",
      "INFO (theano.gof.compilelock): Waiting for existing lock by process '21281' (I am process '16555')\n",
      "INFO (theano.gof.compilelock): To manually release the lock, delete /home/ubuntu/.theano/compiledir_Linux-4.15--generic-x86_64-with-debian-buster-sid-x86_64-3.6.5-64/lock_dir\n"
     ]
    }
   ],
   "source": [
    "md = OrderedDict({x: y for x, y in zip(models, traces)})\n",
    "comp = pm.compare(md)"
   ]
  },
  {
   "cell_type": "code",
   "execution_count": 20,
   "metadata": {
    "ExecuteTime": {
     "end_time": "2019-01-26T15:34:45.006341Z",
     "start_time": "2019-01-26T15:34:44.968046Z"
    }
   },
   "outputs": [
    {
     "data": {
      "text/html": [
       "<div>\n",
       "<style scoped>\n",
       "    .dataframe tbody tr th:only-of-type {\n",
       "        vertical-align: middle;\n",
       "    }\n",
       "\n",
       "    .dataframe tbody tr th {\n",
       "        vertical-align: top;\n",
       "    }\n",
       "\n",
       "    .dataframe thead th {\n",
       "        text-align: right;\n",
       "    }\n",
       "</style>\n",
       "<table border=\"1\" class=\"dataframe\">\n",
       "  <thead>\n",
       "    <tr style=\"text-align: right;\">\n",
       "      <th></th>\n",
       "      <th>WAIC</th>\n",
       "      <th>pWAIC</th>\n",
       "      <th>dWAIC</th>\n",
       "      <th>weight</th>\n",
       "      <th>SE</th>\n",
       "      <th>dSE</th>\n",
       "      <th>var_warn</th>\n",
       "    </tr>\n",
       "  </thead>\n",
       "  <tbody>\n",
       "    <tr>\n",
       "      <th>3</th>\n",
       "      <td>196.42</td>\n",
       "      <td>30.81</td>\n",
       "      <td>0</td>\n",
       "      <td>0.54</td>\n",
       "      <td>20.46</td>\n",
       "      <td>0</td>\n",
       "      <td>1</td>\n",
       "    </tr>\n",
       "    <tr>\n",
       "      <th>0</th>\n",
       "      <td>196.56</td>\n",
       "      <td>41.9</td>\n",
       "      <td>0.14</td>\n",
       "      <td>0.46</td>\n",
       "      <td>19.93</td>\n",
       "      <td>6.46</td>\n",
       "      <td>1</td>\n",
       "    </tr>\n",
       "    <tr>\n",
       "      <th>4</th>\n",
       "      <td>199.1</td>\n",
       "      <td>29.73</td>\n",
       "      <td>2.68</td>\n",
       "      <td>0</td>\n",
       "      <td>20.34</td>\n",
       "      <td>1.02</td>\n",
       "      <td>1</td>\n",
       "    </tr>\n",
       "    <tr>\n",
       "      <th>1</th>\n",
       "      <td>200.92</td>\n",
       "      <td>39.37</td>\n",
       "      <td>4.5</td>\n",
       "      <td>0</td>\n",
       "      <td>19.86</td>\n",
       "      <td>5.56</td>\n",
       "      <td>1</td>\n",
       "    </tr>\n",
       "    <tr>\n",
       "      <th>2</th>\n",
       "      <td>202.01</td>\n",
       "      <td>36.76</td>\n",
       "      <td>5.59</td>\n",
       "      <td>0</td>\n",
       "      <td>19.87</td>\n",
       "      <td>4.7</td>\n",
       "      <td>1</td>\n",
       "    </tr>\n",
       "  </tbody>\n",
       "</table>\n",
       "</div>"
      ],
      "text/plain": [
       "     WAIC  pWAIC dWAIC weight     SE   dSE var_warn\n",
       "3  196.42  30.81     0   0.54  20.46     0        1\n",
       "0  196.56   41.9  0.14   0.46  19.93  6.46        1\n",
       "4   199.1  29.73  2.68      0  20.34  1.02        1\n",
       "1  200.92  39.37   4.5      0  19.86  5.56        1\n",
       "2  202.01  36.76  5.59      0  19.87   4.7        1"
      ]
     },
     "execution_count": 20,
     "metadata": {},
     "output_type": "execute_result"
    }
   ],
   "source": [
    "comp"
   ]
  },
  {
   "cell_type": "code",
   "execution_count": null,
   "metadata": {},
   "outputs": [],
   "source": []
  },
  {
   "cell_type": "code",
   "execution_count": null,
   "metadata": {},
   "outputs": [],
   "source": []
  },
  {
   "cell_type": "code",
   "execution_count": null,
   "metadata": {},
   "outputs": [],
   "source": []
  },
  {
   "cell_type": "code",
   "execution_count": null,
   "metadata": {},
   "outputs": [],
   "source": []
  }
 ],
 "metadata": {
  "hide_input": false,
  "kernelspec": {
   "display_name": "Python 3",
   "language": "python",
   "name": "python3"
  },
  "language_info": {
   "codemirror_mode": {
    "name": "ipython",
    "version": 3
   },
   "file_extension": ".py",
   "mimetype": "text/x-python",
   "name": "python",
   "nbconvert_exporter": "python",
   "pygments_lexer": "ipython3",
   "version": "3.6.5"
  },
  "toc": {
   "base_numbering": 1,
   "nav_menu": {},
   "number_sections": true,
   "sideBar": true,
   "skip_h1_title": false,
   "title_cell": "Table of Contents",
   "title_sidebar": "Contents",
   "toc_cell": false,
   "toc_position": {},
   "toc_section_display": true,
   "toc_window_display": true
  }
 },
 "nbformat": 4,
 "nbformat_minor": 2
}
